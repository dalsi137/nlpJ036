{
  "nbformat": 4,
  "nbformat_minor": 0,
  "metadata": {
    "colab": {
      "name": "NLP tfidf J036",
      "provenance": [],
      "authorship_tag": "ABX9TyOp1PCIwKt8CKkNgnTvYx8F",
      "include_colab_link": true
    },
    "kernelspec": {
      "name": "python3",
      "display_name": "Python 3"
    }
  },
  "cells": [
    {
      "cell_type": "markdown",
      "metadata": {
        "id": "view-in-github",
        "colab_type": "text"
      },
      "source": [
        "<a href=\"https://colab.research.google.com/github/dalsi137/nlpJ036/blob/master/NLP_tfidf_J036.ipynb\" target=\"_parent\"><img src=\"https://colab.research.google.com/assets/colab-badge.svg\" alt=\"Open In Colab\"/></a>"
      ]
    },
    {
      "cell_type": "code",
      "metadata": {
        "id": "LpFKqd_TwwTI",
        "colab_type": "code",
        "colab": {}
      },
      "source": [
        "import pandas as pd\n",
        "import nltk\n",
        "from nltk import word_tokenize\n",
        "from sklearn.feature_extraction.text import CountVectorizer\n",
        "from sklearn.model_selection import train_test_split as tts\n",
        "from sklearn.ensemble import RandomForestClassifier\n",
        "from sklearn.model_selection import GridSearchCV\n",
        "import numpy as np\n",
        "from sklearn.preprocessing import LabelEncoder, LabelBinarizer\n",
        "from sklearn.metrics import classification_report, roc_auc_score\n",
        "import string\n",
        "from string import digits\n",
        "from nltk.corpus import stopwords\n",
        "import lightgbm as lgb"
      ],
      "execution_count": 0,
      "outputs": []
    },
    {
      "cell_type": "code",
      "metadata": {
        "id": "UU5fv6btwxRj",
        "colab_type": "code",
        "colab": {
          "base_uri": "https://localhost:8080/",
          "height": 141
        },
        "outputId": "aef4f130-4176-424c-9613-c07cc05d8186"
      },
      "source": [
        "nltk.download('punkt')\n",
        "nltk.download('stopwords')\n",
        "nltk.download('words')"
      ],
      "execution_count": 2,
      "outputs": [
        {
          "output_type": "stream",
          "text": [
            "[nltk_data] Downloading package punkt to /root/nltk_data...\n",
            "[nltk_data]   Unzipping tokenizers/punkt.zip.\n",
            "[nltk_data] Downloading package stopwords to /root/nltk_data...\n",
            "[nltk_data]   Unzipping corpora/stopwords.zip.\n",
            "[nltk_data] Downloading package words to /root/nltk_data...\n",
            "[nltk_data]   Unzipping corpora/words.zip.\n"
          ],
          "name": "stdout"
        },
        {
          "output_type": "execute_result",
          "data": {
            "text/plain": [
              "True"
            ]
          },
          "metadata": {
            "tags": []
          },
          "execution_count": 2
        }
      ]
    },
    {
      "cell_type": "code",
      "metadata": {
        "id": "hh_x3LkGw1Dw",
        "colab_type": "code",
        "colab": {
          "base_uri": "https://localhost:8080/",
          "height": 124
        },
        "outputId": "d7d0111d-bdc9-4e76-cc1d-dad796fff654"
      },
      "source": [
        "tweet = pd.read_csv('https://raw.githubusercontent.com/zfz/twitter_corpus/master/full-corpus.csv', error_bad_lines=False)\n",
        "\n",
        "twitter = tweet[tweet['Sentiment']!='irrelevant']\n",
        "\n",
        "def clean(text):\n",
        "  text= text.lower()\n",
        "  text = text.translate(text.maketrans('','',digits))#removing digits\n",
        "  text = text.translate(text.maketrans('', '', '!\"@#$%&\\'()*+,-./:;<=>?@[\\\\]^_`{|}~'))\n",
        "  return text\n",
        "\n",
        "twitter['TweetTokens']= twitter['TweetText'].apply(clean)"
      ],
      "execution_count": 3,
      "outputs": [
        {
          "output_type": "stream",
          "text": [
            "/usr/local/lib/python3.6/dist-packages/ipykernel_launcher.py:11: SettingWithCopyWarning: \n",
            "A value is trying to be set on a copy of a slice from a DataFrame.\n",
            "Try using .loc[row_indexer,col_indexer] = value instead\n",
            "\n",
            "See the caveats in the documentation: http://pandas.pydata.org/pandas-docs/stable/user_guide/indexing.html#returning-a-view-versus-a-copy\n",
            "  # This is added back by InteractiveShellApp.init_path()\n"
          ],
          "name": "stderr"
        }
      ]
    },
    {
      "cell_type": "code",
      "metadata": {
        "id": "309Pv8aUw7yX",
        "colab_type": "code",
        "colab": {}
      },
      "source": [
        "vectorizer = CountVectorizer(lowercase=True, stop_words=set(stopwords.words('english')))\n",
        "X = vectorizer.fit_transform(twitter['TweetTokens'])"
      ],
      "execution_count": 0,
      "outputs": []
    },
    {
      "cell_type": "code",
      "metadata": {
        "id": "zKAhGD9FxCiu",
        "colab_type": "code",
        "colab": {}
      },
      "source": [
        "features = pd.DataFrame(X.toarray(), columns=vectorizer.get_feature_names())"
      ],
      "execution_count": 0,
      "outputs": []
    },
    {
      "cell_type": "code",
      "metadata": {
        "id": "P5AYkCLExE8q",
        "colab_type": "code",
        "colab": {}
      },
      "source": [
        "X_train,X_test,y_train,y_test = tts(X,twitter['Sentiment'],test_size=0.3, random_state=30)"
      ],
      "execution_count": 0,
      "outputs": []
    },
    {
      "cell_type": "code",
      "metadata": {
        "id": "_t6YVEL_xG1r",
        "colab_type": "code",
        "colab": {}
      },
      "source": [
        "x_train = pd.DataFrame(X_train.toarray(),columns=vectorizer.get_feature_names())\n",
        "x_test = pd.DataFrame(X_test.toarray(),columns=vectorizer.get_feature_names())"
      ],
      "execution_count": 0,
      "outputs": []
    },
    {
      "cell_type": "code",
      "metadata": {
        "id": "y1Lrd-PWxIu6",
        "colab_type": "code",
        "colab": {}
      },
      "source": [
        "ran = RandomForestClassifier()"
      ],
      "execution_count": 0,
      "outputs": []
    },
    {
      "cell_type": "code",
      "metadata": {
        "id": "M_8TIOk7xLAG",
        "colab_type": "code",
        "colab": {
          "base_uri": "https://localhost:8080/",
          "height": 159
        },
        "outputId": "220edc0e-6892-4df5-fecf-5e6f47d7bdb2"
      },
      "source": [
        "ran.fit(x_train,y_train)"
      ],
      "execution_count": 9,
      "outputs": [
        {
          "output_type": "execute_result",
          "data": {
            "text/plain": [
              "RandomForestClassifier(bootstrap=True, ccp_alpha=0.0, class_weight=None,\n",
              "                       criterion='gini', max_depth=None, max_features='auto',\n",
              "                       max_leaf_nodes=None, max_samples=None,\n",
              "                       min_impurity_decrease=0.0, min_impurity_split=None,\n",
              "                       min_samples_leaf=1, min_samples_split=2,\n",
              "                       min_weight_fraction_leaf=0.0, n_estimators=100,\n",
              "                       n_jobs=None, oob_score=False, random_state=None,\n",
              "                       verbose=0, warm_start=False)"
            ]
          },
          "metadata": {
            "tags": []
          },
          "execution_count": 9
        }
      ]
    },
    {
      "cell_type": "code",
      "metadata": {
        "id": "DZrMq0l3xMwW",
        "colab_type": "code",
        "colab": {
          "base_uri": "https://localhost:8080/",
          "height": 195
        },
        "outputId": "b11a2e5f-4745-450e-d26a-d41fc2e8fa1d"
      },
      "source": [
        "y_pred = ran.predict(x_test)\n",
        "print(classification_report(ran.predict(x_test),y_test))"
      ],
      "execution_count": 10,
      "outputs": [
        {
          "output_type": "stream",
          "text": [
            "              precision    recall  f1-score   support\n",
            "\n",
            "    negative       0.43      0.71      0.54       105\n",
            "     neutral       0.94      0.78      0.85       870\n",
            "    positive       0.22      0.53      0.31        53\n",
            "\n",
            "    accuracy                           0.76      1028\n",
            "   macro avg       0.53      0.68      0.57      1028\n",
            "weighted avg       0.85      0.76      0.79      1028\n",
            "\n"
          ],
          "name": "stdout"
        }
      ]
    },
    {
      "cell_type": "code",
      "metadata": {
        "id": "gmW4SK77xPhf",
        "colab_type": "code",
        "colab": {}
      },
      "source": [
        "def multiclass_roc_auc_score(y_test, y_pred, average='macro'):\n",
        "  lb = LabelBinarizer()\n",
        "  lb.fit(y_test)\n",
        "  Y_test = lb.transform(y_test)\n",
        "  y_pred = lb.transform(y_pred)\n",
        "  return roc_auc_score(Y_test, y_pred, average=average)"
      ],
      "execution_count": 0,
      "outputs": []
    },
    {
      "cell_type": "code",
      "metadata": {
        "id": "ST0Yk1z2xT_h",
        "colab_type": "code",
        "colab": {
          "base_uri": "https://localhost:8080/",
          "height": 35
        },
        "outputId": "fbdc87cd-7a87-4006-a443-a69ac0eb51e7"
      },
      "source": [
        "multiclass_roc_auc_score(y_test, y_pred)"
      ],
      "execution_count": 12,
      "outputs": [
        {
          "output_type": "execute_result",
          "data": {
            "text/plain": [
              "0.6491925846554244"
            ]
          },
          "metadata": {
            "tags": []
          },
          "execution_count": 12
        }
      ]
    },
    {
      "cell_type": "code",
      "metadata": {
        "id": "-JRTEviIxWHF",
        "colab_type": "code",
        "colab": {}
      },
      "source": [
        "le = LabelEncoder()\n",
        "Y_test = le.fit_transform(y_test)"
      ],
      "execution_count": 0,
      "outputs": []
    },
    {
      "cell_type": "code",
      "metadata": {
        "id": "LAUkhQ2UxX0V",
        "colab_type": "code",
        "colab": {
          "base_uri": "https://localhost:8080/",
          "height": 141
        },
        "outputId": "9c656913-22f6-4304-812d-041901192b73"
      },
      "source": [
        "pred_ran = ran.predict_proba(x_test)\n",
        "pred_ran"
      ],
      "execution_count": 14,
      "outputs": [
        {
          "output_type": "execute_result",
          "data": {
            "text/plain": [
              "array([[0.03      , 0.95788889, 0.01211111],\n",
              "       [0.        , 0.26      , 0.74      ],\n",
              "       [0.14      , 0.68      , 0.18      ],\n",
              "       ...,\n",
              "       [0.        , 0.84552146, 0.15447854],\n",
              "       [0.29      , 0.70746753, 0.00253247],\n",
              "       [0.        , 0.90951477, 0.09048523]])"
            ]
          },
          "metadata": {
            "tags": []
          },
          "execution_count": 14
        }
      ]
    },
    {
      "cell_type": "code",
      "metadata": {
        "id": "ohY3yUYzxZrM",
        "colab_type": "code",
        "colab": {}
      },
      "source": [
        "params = {\n",
        "    \"objective\" : \"multiclass\",\n",
        "    'boosting_type': 'gbdt',\n",
        "    'objective': 'multiclass',\n",
        "    'num_class':3,\n",
        "    'learning_rate':0.01,\n",
        "    'max_depth': 7,\n",
        "    'num_leaves': 127,\n",
        "    'feature_fraction': 0.4,\n",
        "    'bagging_freq': 10,\n",
        "    'num_iterations':1000 ,\n",
        "    'max_bin' : 32}"
      ],
      "execution_count": 0,
      "outputs": []
    },
    {
      "cell_type": "code",
      "metadata": {
        "id": "KfZ0GztoxcOs",
        "colab_type": "code",
        "colab": {}
      },
      "source": [
        "le = LabelEncoder()  \n",
        "d_train = lgb.Dataset(x_train,le.fit_transform(y_train))"
      ],
      "execution_count": 0,
      "outputs": []
    },
    {
      "cell_type": "code",
      "metadata": {
        "id": "_eazvXh5xeOC",
        "colab_type": "code",
        "colab": {
          "base_uri": "https://localhost:8080/",
          "height": 52
        },
        "outputId": "100fa663-b513-4a5b-b27f-557fa465137f"
      },
      "source": [
        "clf = lgb.train( params,d_train, 100)"
      ],
      "execution_count": 17,
      "outputs": [
        {
          "output_type": "stream",
          "text": [
            "/usr/local/lib/python3.6/dist-packages/lightgbm/engine.py:118: UserWarning: Found `num_iterations` in params. Will use it instead of argument\n",
            "  warnings.warn(\"Found `{}` in params. Will use it instead of argument\".format(alias))\n"
          ],
          "name": "stderr"
        }
      ]
    },
    {
      "cell_type": "code",
      "metadata": {
        "id": "ZpZYOn12xf2G",
        "colab_type": "code",
        "colab": {}
      },
      "source": [
        "preds = clf.predict(x_test)\n",
        "best_preds= [np.argmax(line) for line in preds]"
      ],
      "execution_count": 0,
      "outputs": []
    },
    {
      "cell_type": "code",
      "metadata": {
        "id": "RPYGuacixh7g",
        "colab_type": "code",
        "colab": {
          "base_uri": "https://localhost:8080/",
          "height": 35
        },
        "outputId": "a8a98075-4b3d-46ff-b4cc-8e027bb16bbc"
      },
      "source": [
        "np.bincount((le.fit_transform(y_train)))"
      ],
      "execution_count": 20,
      "outputs": [
        {
          "output_type": "execute_result",
          "data": {
            "text/plain": [
              "array([ 397, 1605,  394])"
            ]
          },
          "metadata": {
            "tags": []
          },
          "execution_count": 20
        }
      ]
    },
    {
      "cell_type": "code",
      "metadata": {
        "id": "qIM4CmBaxnK9",
        "colab_type": "code",
        "colab": {
          "base_uri": "https://localhost:8080/",
          "height": 195
        },
        "outputId": "dbf73034-c59c-4920-8002-d0847b9c5420"
      },
      "source": [
        "print(classification_report(le.inverse_transform(best_preds),y_test))"
      ],
      "execution_count": 21,
      "outputs": [
        {
          "output_type": "stream",
          "text": [
            "              precision    recall  f1-score   support\n",
            "\n",
            "    negative       0.25      0.56      0.34        77\n",
            "     neutral       0.94      0.75      0.83       922\n",
            "    positive       0.09      0.38      0.14        29\n",
            "\n",
            "    accuracy                           0.72      1028\n",
            "   macro avg       0.43      0.56      0.44      1028\n",
            "weighted avg       0.87      0.72      0.78      1028\n",
            "\n"
          ],
          "name": "stdout"
        }
      ]
    },
    {
      "cell_type": "code",
      "metadata": {
        "id": "SS7CphBExtXx",
        "colab_type": "code",
        "colab": {
          "base_uri": "https://localhost:8080/",
          "height": 35
        },
        "outputId": "db7cf7a9-d449-4640-caf2-1334d3a21042"
      },
      "source": [
        "np.bincount((best_preds))"
      ],
      "execution_count": 22,
      "outputs": [
        {
          "output_type": "execute_result",
          "data": {
            "text/plain": [
              "array([ 77, 922,  29])"
            ]
          },
          "metadata": {
            "tags": []
          },
          "execution_count": 22
        }
      ]
    },
    {
      "cell_type": "code",
      "metadata": {
        "id": "bkQfFPAxxyKg",
        "colab_type": "code",
        "colab": {
          "base_uri": "https://localhost:8080/",
          "height": 195
        },
        "outputId": "51b88a8b-06c6-4841-e6cd-8c58e1b127d7"
      },
      "source": [
        "preds = clf.predict(x_train)\n",
        "best_preds_train= [np.argmax(line) for line in preds]\n",
        "print(classification_report(le.inverse_transform(best_preds_train),y_train))"
      ],
      "execution_count": 23,
      "outputs": [
        {
          "output_type": "stream",
          "text": [
            "              precision    recall  f1-score   support\n",
            "\n",
            "    negative       0.32      0.73      0.44       172\n",
            "     neutral       0.97      0.74      0.84      2101\n",
            "    positive       0.25      0.80      0.38       123\n",
            "\n",
            "    accuracy                           0.74      2396\n",
            "   macro avg       0.51      0.76      0.55      2396\n",
            "weighted avg       0.88      0.74      0.79      2396\n",
            "\n"
          ],
          "name": "stdout"
        }
      ]
    },
    {
      "cell_type": "code",
      "metadata": {
        "id": "pldC1dh1x0cC",
        "colab_type": "code",
        "colab": {
          "base_uri": "https://localhost:8080/",
          "height": 426
        },
        "outputId": "2d4e5036-17f7-43fd-8aa4-53ee5a19e090"
      },
      "source": [
        "print(\"Default Threshold for lgbm : \\n\",classification_report(le.inverse_transform(best_preds_train),y_train))\n",
        "def thresh_1(array):\n",
        "  a = []\n",
        "  for i in range(len(array)):\n",
        "    if max(array[i])>0.6:\n",
        "      a.append(np.argmax(array[i]))\n",
        "    else:\n",
        "      a.append(2)\n",
        "  return a\n",
        "print(\"\\n 0.6 Threshold for lgbm : \\n\",classification_report(le.inverse_transform(thresh_1(preds)),y_train))"
      ],
      "execution_count": 24,
      "outputs": [
        {
          "output_type": "stream",
          "text": [
            "Default Threshold for lgbm : \n",
            "               precision    recall  f1-score   support\n",
            "\n",
            "    negative       0.32      0.73      0.44       172\n",
            "     neutral       0.97      0.74      0.84      2101\n",
            "    positive       0.25      0.80      0.38       123\n",
            "\n",
            "    accuracy                           0.74      2396\n",
            "   macro avg       0.51      0.76      0.55      2396\n",
            "weighted avg       0.88      0.74      0.79      2396\n",
            "\n",
            "\n",
            " 0.6 Threshold for lgbm : \n",
            "               precision    recall  f1-score   support\n",
            "\n",
            "    negative       0.12      0.85      0.21        55\n",
            "     neutral       0.84      0.82      0.83      1637\n",
            "    positive       0.59      0.33      0.43       704\n",
            "\n",
            "    accuracy                           0.68      2396\n",
            "   macro avg       0.52      0.67      0.49      2396\n",
            "weighted avg       0.75      0.68      0.70      2396\n",
            "\n"
          ],
          "name": "stdout"
        }
      ]
    },
    {
      "cell_type": "code",
      "metadata": {
        "id": "AFlInRT3x3FA",
        "colab_type": "code",
        "colab": {
          "base_uri": "https://localhost:8080/",
          "height": 426
        },
        "outputId": "b1183fb2-6a9f-4744-c892-0950414c08ec"
      },
      "source": [
        "pred_rf = ran.predict_proba(x_test)\n",
        "print(\"Default Threshold for rf : \\n\",(classification_report(ran.predict(x_test),y_test)))\n",
        "print(\"\\n 0.6 threshold for rf : \\n\",classification_report(le.inverse_transform(thresh_1(pred_rf)),y_test) )"
      ],
      "execution_count": 25,
      "outputs": [
        {
          "output_type": "stream",
          "text": [
            "Default Threshold for rf : \n",
            "               precision    recall  f1-score   support\n",
            "\n",
            "    negative       0.43      0.71      0.54       105\n",
            "     neutral       0.94      0.78      0.85       870\n",
            "    positive       0.22      0.53      0.31        53\n",
            "\n",
            "    accuracy                           0.76      1028\n",
            "   macro avg       0.53      0.68      0.57      1028\n",
            "weighted avg       0.85      0.76      0.79      1028\n",
            "\n",
            "\n",
            " 0.6 threshold for rf : \n",
            "               precision    recall  f1-score   support\n",
            "\n",
            "    negative       0.19      0.83      0.31        41\n",
            "     neutral       0.85      0.84      0.85       733\n",
            "    positive       0.54      0.26      0.35       254\n",
            "\n",
            "    accuracy                           0.70      1028\n",
            "   macro avg       0.53      0.65      0.50      1028\n",
            "weighted avg       0.75      0.70      0.70      1028\n",
            "\n"
          ],
          "name": "stdout"
        }
      ]
    },
    {
      "cell_type": "code",
      "metadata": {
        "id": "yPErNsFMx5TJ",
        "colab_type": "code",
        "colab": {
          "base_uri": "https://localhost:8080/",
          "height": 426
        },
        "outputId": "58e018a1-119c-435c-ae9f-d7e5d971e44a"
      },
      "source": [
        "print(\"Default Threshold for lgbm : \\n\",classification_report(le.inverse_transform(best_preds_train),y_train))\n",
        "def thresh_2(array):\n",
        "  a = []\n",
        "  for i in range(len(array)):\n",
        "    if max(array[i])>0.7:\n",
        "      a.append(np.argmax(array[i]))\n",
        "    else:\n",
        "      a.append(2)\n",
        "  return a\n",
        "print(\"\\n 0.7 Threshold for lgbm : \\n\",classification_report(le.inverse_transform(thresh_2(preds)),y_train))"
      ],
      "execution_count": 26,
      "outputs": [
        {
          "output_type": "stream",
          "text": [
            "Default Threshold for lgbm : \n",
            "               precision    recall  f1-score   support\n",
            "\n",
            "    negative       0.32      0.73      0.44       172\n",
            "     neutral       0.97      0.74      0.84      2101\n",
            "    positive       0.25      0.80      0.38       123\n",
            "\n",
            "    accuracy                           0.74      2396\n",
            "   macro avg       0.51      0.76      0.55      2396\n",
            "weighted avg       0.88      0.74      0.79      2396\n",
            "\n",
            "\n",
            " 0.7 Threshold for lgbm : \n",
            "               precision    recall  f1-score   support\n",
            "\n",
            "    negative       0.07      0.90      0.12        29\n",
            "     neutral       0.71      0.86      0.78      1327\n",
            "    positive       0.75      0.28      0.41      1040\n",
            "\n",
            "    accuracy                           0.61      2396\n",
            "   macro avg       0.51      0.68      0.44      2396\n",
            "weighted avg       0.72      0.61      0.61      2396\n",
            "\n"
          ],
          "name": "stdout"
        }
      ]
    },
    {
      "cell_type": "code",
      "metadata": {
        "id": "Wp4FYu5Qx_rU",
        "colab_type": "code",
        "colab": {
          "base_uri": "https://localhost:8080/",
          "height": 426
        },
        "outputId": "47ce2f17-1ab9-44d4-b2d3-404173c41100"
      },
      "source": [
        "pred_rf = ran.predict_proba(x_test)\n",
        "print(\"Default Threshold for rf : \\n\",(classification_report(ran.predict(x_test),y_test)))\n",
        "print(\"\\n 0.7 threshold for rf : \\n\",classification_report(le.inverse_transform(thresh_2(pred_rf)),y_test) )"
      ],
      "execution_count": 27,
      "outputs": [
        {
          "output_type": "stream",
          "text": [
            "Default Threshold for rf : \n",
            "               precision    recall  f1-score   support\n",
            "\n",
            "    negative       0.43      0.71      0.54       105\n",
            "     neutral       0.94      0.78      0.85       870\n",
            "    positive       0.22      0.53      0.31        53\n",
            "\n",
            "    accuracy                           0.76      1028\n",
            "   macro avg       0.53      0.68      0.57      1028\n",
            "weighted avg       0.85      0.76      0.79      1028\n",
            "\n",
            "\n",
            " 0.7 threshold for rf : \n",
            "               precision    recall  f1-score   support\n",
            "\n",
            "    negative       0.12      0.95      0.21        22\n",
            "     neutral       0.76      0.86      0.81       640\n",
            "    positive       0.64      0.22      0.33       366\n",
            "\n",
            "    accuracy                           0.64      1028\n",
            "   macro avg       0.51      0.68      0.45      1028\n",
            "weighted avg       0.70      0.64      0.62      1028\n",
            "\n"
          ],
          "name": "stdout"
        }
      ]
    },
    {
      "cell_type": "code",
      "metadata": {
        "id": "WdiU0fPNyDpq",
        "colab_type": "code",
        "colab": {
          "base_uri": "https://localhost:8080/",
          "height": 426
        },
        "outputId": "f9bdb172-9d5d-4b43-e9f0-ecfe5201d01e"
      },
      "source": [
        "print(\"Default Threshold for lgbm : \\n\",classification_report(le.inverse_transform(best_preds_train),y_train))\n",
        "def thresh_3(array):\n",
        "  a = []\n",
        "  for i in range(len(array)):\n",
        "    if max(array[i])>0.8:\n",
        "      a.append(np.argmax(array[i]))\n",
        "    else:\n",
        "      a.append(2)\n",
        "  return a\n",
        "print(\"\\n 0.8 Threshold for lgbm : \\n\",classification_report(le.inverse_transform(thresh_3(preds)),y_train))"
      ],
      "execution_count": 28,
      "outputs": [
        {
          "output_type": "stream",
          "text": [
            "Default Threshold for lgbm : \n",
            "               precision    recall  f1-score   support\n",
            "\n",
            "    negative       0.32      0.73      0.44       172\n",
            "     neutral       0.97      0.74      0.84      2101\n",
            "    positive       0.25      0.80      0.38       123\n",
            "\n",
            "    accuracy                           0.74      2396\n",
            "   macro avg       0.51      0.76      0.55      2396\n",
            "weighted avg       0.88      0.74      0.79      2396\n",
            "\n",
            "\n",
            " 0.8 Threshold for lgbm : \n",
            "               precision    recall  f1-score   support\n",
            "\n",
            "    negative       0.03      0.85      0.05        13\n",
            "     neutral       0.42      0.92      0.58       737\n",
            "    positive       0.92      0.22      0.35      1646\n",
            "\n",
            "    accuracy                           0.44      2396\n",
            "   macro avg       0.46      0.66      0.33      2396\n",
            "weighted avg       0.76      0.44      0.42      2396\n",
            "\n"
          ],
          "name": "stdout"
        }
      ]
    },
    {
      "cell_type": "code",
      "metadata": {
        "id": "Rd9atp9iyHY1",
        "colab_type": "code",
        "colab": {
          "base_uri": "https://localhost:8080/",
          "height": 426
        },
        "outputId": "9c60572b-dd8f-4593-e10c-dc1a18326d65"
      },
      "source": [
        "pred_rf = ran.predict_proba(x_test)\n",
        "print(\"Default Threshold for rf : \\n\",(classification_report(ran.predict(x_test),y_test)))\n",
        "print(\"\\n 0.8 threshold for rf : \\n\",classification_report(le.inverse_transform(thresh_3(pred_rf)),y_test) )"
      ],
      "execution_count": 29,
      "outputs": [
        {
          "output_type": "stream",
          "text": [
            "Default Threshold for rf : \n",
            "               precision    recall  f1-score   support\n",
            "\n",
            "    negative       0.43      0.71      0.54       105\n",
            "     neutral       0.94      0.78      0.85       870\n",
            "    positive       0.22      0.53      0.31        53\n",
            "\n",
            "    accuracy                           0.76      1028\n",
            "   macro avg       0.53      0.68      0.57      1028\n",
            "weighted avg       0.85      0.76      0.79      1028\n",
            "\n",
            "\n",
            " 0.8 threshold for rf : \n",
            "               precision    recall  f1-score   support\n",
            "\n",
            "    negative       0.07      1.00      0.13        12\n",
            "     neutral       0.61      0.90      0.73       493\n",
            "    positive       0.81      0.19      0.31       523\n",
            "\n",
            "    accuracy                           0.54      1028\n",
            "   macro avg       0.50      0.70      0.39      1028\n",
            "weighted avg       0.71      0.54      0.51      1028\n",
            "\n"
          ],
          "name": "stdout"
        }
      ]
    },
    {
      "cell_type": "code",
      "metadata": {
        "id": "8WOzoWSAyJa2",
        "colab_type": "code",
        "colab": {}
      },
      "source": [
        ""
      ],
      "execution_count": 0,
      "outputs": []
    }
  ]
}