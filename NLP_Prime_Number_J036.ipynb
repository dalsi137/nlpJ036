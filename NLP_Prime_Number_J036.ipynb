{
  "nbformat": 4,
  "nbformat_minor": 0,
  "metadata": {
    "colab": {
      "name": "NLP Prime Number J036",
      "provenance": [],
      "authorship_tag": "ABX9TyMbiXfzNNkvVCOihXb+ogCy",
      "include_colab_link": true
    },
    "kernelspec": {
      "name": "python3",
      "display_name": "Python 3"
    }
  },
  "cells": [
    {
      "cell_type": "markdown",
      "metadata": {
        "id": "view-in-github",
        "colab_type": "text"
      },
      "source": [
        "<a href=\"https://colab.research.google.com/github/dalsi137/nlpJ036/blob/master/NLP_Prime_Number_J036.ipynb\" target=\"_parent\"><img src=\"https://colab.research.google.com/assets/colab-badge.svg\" alt=\"Open In Colab\"/></a>"
      ]
    },
    {
      "cell_type": "code",
      "metadata": {
        "id": "2A6DNd_ut-Ec",
        "colab_type": "code",
        "colab": {}
      },
      "source": [
        "import numpy as np\n",
        "import math"
      ],
      "execution_count": 0,
      "outputs": []
    },
    {
      "cell_type": "code",
      "metadata": {
        "id": "Px1qt4s0uDPm",
        "colab_type": "code",
        "colab": {
          "base_uri": "https://localhost:8080/",
          "height": 35
        },
        "outputId": "9ce599cb-2d53-4dbe-d318-76811f0f1a52"
      },
      "source": [
        "n = int(input('Enter n: '))"
      ],
      "execution_count": 2,
      "outputs": [
        {
          "output_type": "stream",
          "text": [
            "Enter n: 6\n"
          ],
          "name": "stdout"
        }
      ]
    },
    {
      "cell_type": "code",
      "metadata": {
        "id": "eqGYyeOkuDrv",
        "colab_type": "code",
        "colab": {}
      },
      "source": [
        "def nprime(n):\n",
        "    primes = [2]\n",
        "    num = 3\n",
        "    while len(primes)!=n:\n",
        "        for p in primes:\n",
        "            if num % p == 0:\n",
        "                break\n",
        "        else:\n",
        "            primes.append(num)\n",
        "        num += 1\n",
        "    return primes[-1],primes"
      ],
      "execution_count": 0,
      "outputs": []
    },
    {
      "cell_type": "code",
      "metadata": {
        "id": "5FtXWLdNuGiR",
        "colab_type": "code",
        "colab": {
          "base_uri": "https://localhost:8080/",
          "height": 35
        },
        "outputId": "1ae05936-2e20-451d-de6b-32e959020a9e"
      },
      "source": [
        "print('Prime Number',n,'is:',nprime(n))"
      ],
      "execution_count": 5,
      "outputs": [
        {
          "output_type": "stream",
          "text": [
            "Prime Number 6 is: (13, [2, 3, 5, 7, 11, 13])\n"
          ],
          "name": "stdout"
        }
      ]
    },
    {
      "cell_type": "code",
      "metadata": {
        "id": "NdAGnTATuK4A",
        "colab_type": "code",
        "colab": {}
      },
      "source": [
        ""
      ],
      "execution_count": 0,
      "outputs": []
    }
  ]
}