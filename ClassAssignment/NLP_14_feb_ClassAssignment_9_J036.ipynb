{
  "nbformat": 4,
  "nbformat_minor": 0,
  "metadata": {
    "colab": {
      "name": "NLP 14 feb ClassAssignment 9  J036",
      "provenance": [],
      "authorship_tag": "ABX9TyM7LJBI6Q/7Q4wOIcUMnS2a",
      "include_colab_link": true
    },
    "kernelspec": {
      "name": "python3",
      "display_name": "Python 3"
    }
  },
  "cells": [
    {
      "cell_type": "markdown",
      "metadata": {
        "id": "view-in-github",
        "colab_type": "text"
      },
      "source": [
        "<a href=\"https://colab.research.google.com/github/dalsi137/nlpJ036/blob/master/ClassAssignment/NLP_14_feb_ClassAssignment_9_J036.ipynb\" target=\"_parent\"><img src=\"https://colab.research.google.com/assets/colab-badge.svg\" alt=\"Open In Colab\"/></a>"
      ]
    },
    {
      "cell_type": "code",
      "metadata": {
        "id": "uJgMuHFyg56W",
        "colab_type": "code",
        "colab": {}
      },
      "source": [
        "import io\n",
        "import regex as re\n",
        "import nltk\n",
        "from zipfile import ZipFile\n",
        "from urllib.request import urlopen\n",
        "import pandas as pd\n",
        "from collections import Counter\n",
        "from sklearn.feature_extraction.text import TfidfVectorizer\n",
        "from nltk.corpus import stopwords\n",
        "from nltk.tokenize import word_tokenize\n",
        "import string\n",
        "from sklearn.ensemble import RandomForestClassifier\n",
        "from sklearn.model_selection import train_test_split as tts\n",
        "from sklearn.metrics import classification_report,accuracy_score,confusion_matrix\n",
        "from sklearn.cluster import KMeans\n",
        "from sklearn.feature_extraction.text import CountVectorizer\n",
        "from sklearn.model_selection import GridSearchCV\n",
        "from sklearn.pipeline import Pipeline"
      ],
      "execution_count": 0,
      "outputs": []
    },
    {
      "cell_type": "code",
      "metadata": {
        "id": "exl_a2Bug6uD",
        "colab_type": "code",
        "colab": {}
      },
      "source": [
        "url = 'https://archive.ics.uci.edu/ml/machine-learning-databases/00228/smsspamcollection.zip'"
      ],
      "execution_count": 0,
      "outputs": []
    },
    {
      "cell_type": "code",
      "metadata": {
        "id": "WtosJnDshDIm",
        "colab_type": "code",
        "outputId": "d2160e69-c082-4003-f3c0-b427d22c87eb",
        "colab": {
          "base_uri": "https://localhost:8080/",
          "height": 106
        }
      },
      "source": [
        "nltk.download('punkt')\n",
        "nltk.download('stopwords')"
      ],
      "execution_count": 5,
      "outputs": [
        {
          "output_type": "stream",
          "text": [
            "[nltk_data] Downloading package punkt to /root/nltk_data...\n",
            "[nltk_data]   Unzipping tokenizers/punkt.zip.\n",
            "[nltk_data] Downloading package stopwords to /root/nltk_data...\n",
            "[nltk_data]   Unzipping corpora/stopwords.zip.\n"
          ],
          "name": "stdout"
        },
        {
          "output_type": "execute_result",
          "data": {
            "text/plain": [
              "True"
            ]
          },
          "metadata": {
            "tags": []
          },
          "execution_count": 5
        }
      ]
    },
    {
      "cell_type": "code",
      "metadata": {
        "id": "Z7pUIQAshDmi",
        "colab_type": "code",
        "colab": {}
      },
      "source": [
        "stoplist = set(stopwords.words('english'))"
      ],
      "execution_count": 0,
      "outputs": []
    },
    {
      "cell_type": "code",
      "metadata": {
        "id": "jxm4GOCXhMTc",
        "colab_type": "code",
        "outputId": "8da800c8-c813-4055-8a84-0ed2db6218e0",
        "colab": {
          "base_uri": "https://localhost:8080/",
          "height": 35
        }
      },
      "source": [
        "resp = urlopen(url)\n",
        "zipfile = ZipFile(io.BytesIO(resp.read()))\n",
        "zipfile.namelist()"
      ],
      "execution_count": 7,
      "outputs": [
        {
          "output_type": "execute_result",
          "data": {
            "text/plain": [
              "['SMSSpamCollection', 'readme']"
            ]
          },
          "metadata": {
            "tags": []
          },
          "execution_count": 7
        }
      ]
    },
    {
      "cell_type": "code",
      "metadata": {
        "id": "ZeMhSgvAhR6r",
        "colab_type": "code",
        "colab": {}
      },
      "source": [
        "smspam = pd.read_csv(zipfile.open('SMSSpamCollection'),sep = '\\t',header=None)"
      ],
      "execution_count": 0,
      "outputs": []
    },
    {
      "cell_type": "code",
      "metadata": {
        "id": "VYlvC4vhhUbd",
        "colab_type": "code",
        "colab": {}
      },
      "source": [
        "def prepipe(text):\n",
        "  text=re.sub('[^a-zA-Z]', \" \", str(text))\n",
        "  text=text.lower()\n",
        "  data = ' '.join([w for w in word_tokenize(text) if w not in stoplist])\n",
        "  return data"
      ],
      "execution_count": 0,
      "outputs": []
    },
    {
      "cell_type": "code",
      "metadata": {
        "id": "VY-VsWgAhWR2",
        "colab_type": "code",
        "outputId": "1aea779d-7e72-4c5b-f002-bb32228a6d94",
        "colab": {
          "base_uri": "https://localhost:8080/",
          "height": 230
        }
      },
      "source": [
        "smspam['processd'] = smspam[1].apply(prepipe)\n",
        "smspam['processd']"
      ],
      "execution_count": 10,
      "outputs": [
        {
          "output_type": "execute_result",
          "data": {
            "text/plain": [
              "0       go jurong point crazy available bugis n great ...\n",
              "1                                 ok lar joking wif u oni\n",
              "2       free entry wkly comp win fa cup final tkts st ...\n",
              "3                     u dun say early hor u c already say\n",
              "4                  nah think goes usf lives around though\n",
              "                              ...                        \n",
              "5567    nd time tried contact u u pound prize claim ea...\n",
              "5568                            b going esplanade fr home\n",
              "5569                                pity mood suggestions\n",
              "5570    guy bitching acted like interested buying some...\n",
              "5571                                       rofl true name\n",
              "Name: processd, Length: 5572, dtype: object"
            ]
          },
          "metadata": {
            "tags": []
          },
          "execution_count": 10
        }
      ]
    },
    {
      "cell_type": "code",
      "metadata": {
        "id": "s73WXXwWhbYU",
        "colab_type": "code",
        "colab": {}
      },
      "source": [
        "steps = [('text',CountVectorizer()),('ensemble',RandomForestClassifier())]\n",
        "pipeline = Pipeline(steps) \n",
        "params = {'text__stop_words':['english'],'ensemble__max_depth': [10, 20],'ensemble__min_samples_leaf': [1, 2],'ensemble__min_samples_split': [2, 5],'ensemble__n_estimators': range(10,50,20)}\n"
      ],
      "execution_count": 0,
      "outputs": []
    },
    {
      "cell_type": "code",
      "metadata": {
        "id": "JakDWJyQhdjv",
        "colab_type": "code",
        "outputId": "df131a1c-1c98-4bb3-fb28-8e8cd49e5aa2",
        "colab": {
          "base_uri": "https://localhost:8080/",
          "height": 604
        }
      },
      "source": [
        "\n",
        "grid = GridSearchCV(pipeline, param_grid=params, cv=5,verbose=1)\n",
        "x_train,x_test,y_train,y_test = tts(smspam['processd'],smspam[0])\n",
        "grid.fit(x_train,y_train)"
      ],
      "execution_count": 12,
      "outputs": [
        {
          "output_type": "stream",
          "text": [
            "Fitting 5 folds for each of 16 candidates, totalling 80 fits\n"
          ],
          "name": "stdout"
        },
        {
          "output_type": "stream",
          "text": [
            "[Parallel(n_jobs=1)]: Using backend SequentialBackend with 1 concurrent workers.\n",
            "[Parallel(n_jobs=1)]: Done  80 out of  80 | elapsed:    8.7s finished\n"
          ],
          "name": "stderr"
        },
        {
          "output_type": "execute_result",
          "data": {
            "text/plain": [
              "GridSearchCV(cv=5, error_score=nan,\n",
              "             estimator=Pipeline(memory=None,\n",
              "                                steps=[('text',\n",
              "                                        CountVectorizer(analyzer='word',\n",
              "                                                        binary=False,\n",
              "                                                        decode_error='strict',\n",
              "                                                        dtype=<class 'numpy.int64'>,\n",
              "                                                        encoding='utf-8',\n",
              "                                                        input='content',\n",
              "                                                        lowercase=True,\n",
              "                                                        max_df=1.0,\n",
              "                                                        max_features=None,\n",
              "                                                        min_df=1,\n",
              "                                                        ngram_range=(1, 1),\n",
              "                                                        preprocessor=None,\n",
              "                                                        stop_words=None,\n",
              "                                                        strip_accents=None,\n",
              "                                                        token_pattern='(?u)...\n",
              "                                                               random_state=None,\n",
              "                                                               verbose=0,\n",
              "                                                               warm_start=False))],\n",
              "                                verbose=False),\n",
              "             iid='deprecated', n_jobs=None,\n",
              "             param_grid={'ensemble__max_depth': [10, 20],\n",
              "                         'ensemble__min_samples_leaf': [1, 2],\n",
              "                         'ensemble__min_samples_split': [2, 5],\n",
              "                         'ensemble__n_estimators': range(10, 50, 20),\n",
              "                         'text__stop_words': ['english']},\n",
              "             pre_dispatch='2*n_jobs', refit=True, return_train_score=False,\n",
              "             scoring=None, verbose=1)"
            ]
          },
          "metadata": {
            "tags": []
          },
          "execution_count": 12
        }
      ]
    },
    {
      "cell_type": "code",
      "metadata": {
        "id": "xYjhyY41hfts",
        "colab_type": "code",
        "outputId": "c5eb7e86-ffa3-4914-803c-1907d668aa21",
        "colab": {
          "base_uri": "https://localhost:8080/",
          "height": 35
        }
      },
      "source": [
        "grid.score(x_test,y_test)\n"
      ],
      "execution_count": 13,
      "outputs": [
        {
          "output_type": "execute_result",
          "data": {
            "text/plain": [
              "0.9404163675520459"
            ]
          },
          "metadata": {
            "tags": []
          },
          "execution_count": 13
        }
      ]
    },
    {
      "cell_type": "code",
      "metadata": {
        "id": "366jCxlowJHF",
        "colab_type": "code",
        "colab": {}
      },
      "source": [
        ""
      ],
      "execution_count": 0,
      "outputs": []
    }
  ]
}