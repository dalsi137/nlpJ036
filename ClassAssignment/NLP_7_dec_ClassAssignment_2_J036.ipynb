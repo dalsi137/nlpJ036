{
  "nbformat": 4,
  "nbformat_minor": 0,
  "metadata": {
    "colab": {
      "name": "NLP 7 dec ClassAssignment 2 ",
      "provenance": [],
      "collapsed_sections": [],
      "include_colab_link": true
    },
    "kernelspec": {
      "name": "python3",
      "display_name": "Python 3"
    }
  },
  "cells": [
    {
      "cell_type": "markdown",
      "metadata": {
        "id": "view-in-github",
        "colab_type": "text"
      },
      "source": [
        "<a href=\"https://colab.research.google.com/github/dalsi137/nlpJ036/blob/master/ClassAssignment/NLP_7_dec_ClassAssignment_2.ipynb\" target=\"_parent\"><img src=\"https://colab.research.google.com/assets/colab-badge.svg\" alt=\"Open In Colab\"/></a>"
      ]
    },
    {
      "cell_type": "markdown",
      "metadata": {
        "id": "vGlMltOjQUWo",
        "colab_type": "text"
      },
      "source": [
        "Find number of vowels and consonants in amazon review data\n"
      ]
    },
    {
      "cell_type": "code",
      "metadata": {
        "id": "6NlqSkySKskD",
        "colab_type": "code",
        "colab": {}
      },
      "source": [
        "import pandas as pd"
      ],
      "execution_count": 0,
      "outputs": []
    },
    {
      "cell_type": "code",
      "metadata": {
        "id": "wsIyYTsDAUGB",
        "colab_type": "code",
        "colab": {}
      },
      "source": [
        "data = pd.read_json('http://snap.stanford.edu/data/amazon/productGraph/categoryFiles/reviews_Office_Products_5.json.gz', lines=True)"
      ],
      "execution_count": 0,
      "outputs": []
    },
    {
      "cell_type": "code",
      "metadata": {
        "id": "6U-NkbXJK3rr",
        "colab_type": "code",
        "colab": {
          "base_uri": "https://localhost:8080/",
          "height": 295
        },
        "outputId": "81a6362c-0244-4b0c-cc4a-223823c16033"
      },
      "source": [
        "data.head()"
      ],
      "execution_count": 21,
      "outputs": [
        {
          "output_type": "execute_result",
          "data": {
            "text/html": [
              "<div>\n",
              "<style scoped>\n",
              "    .dataframe tbody tr th:only-of-type {\n",
              "        vertical-align: middle;\n",
              "    }\n",
              "\n",
              "    .dataframe tbody tr th {\n",
              "        vertical-align: top;\n",
              "    }\n",
              "\n",
              "    .dataframe thead th {\n",
              "        text-align: right;\n",
              "    }\n",
              "</style>\n",
              "<table border=\"1\" class=\"dataframe\">\n",
              "  <thead>\n",
              "    <tr style=\"text-align: right;\">\n",
              "      <th></th>\n",
              "      <th>reviewerID</th>\n",
              "      <th>asin</th>\n",
              "      <th>reviewerName</th>\n",
              "      <th>helpful</th>\n",
              "      <th>reviewText</th>\n",
              "      <th>overall</th>\n",
              "      <th>summary</th>\n",
              "      <th>unixReviewTime</th>\n",
              "      <th>reviewTime</th>\n",
              "      <th>reviewText_vowconCount</th>\n",
              "      <th>summary_wordCount</th>\n",
              "      <th>summary_vowconCount</th>\n",
              "    </tr>\n",
              "  </thead>\n",
              "  <tbody>\n",
              "    <tr>\n",
              "      <th>0</th>\n",
              "      <td>A32T2H8150OJLU</td>\n",
              "      <td>B00000JBLH</td>\n",
              "      <td>ARH</td>\n",
              "      <td>[3, 4]</td>\n",
              "      <td>I bought my first HP12C in about 1984 or so, a...</td>\n",
              "      <td>5</td>\n",
              "      <td>A solid performer, and long time friend</td>\n",
              "      <td>1094169600</td>\n",
              "      <td>09 3, 2004</td>\n",
              "      <td>{'Vowels': 279, 'Consonants': 437}</td>\n",
              "      <td>{'Vowels': 12, 'Consonants': 20}</td>\n",
              "      <td>{'Vowels': 12, 'Consonants': 20}</td>\n",
              "    </tr>\n",
              "    <tr>\n",
              "      <th>1</th>\n",
              "      <td>A3MAFS04ZABRGO</td>\n",
              "      <td>B00000JBLH</td>\n",
              "      <td>Let it Be \"Alan\"</td>\n",
              "      <td>[7, 9]</td>\n",
              "      <td>WHY THIS BELATED REVIEW? I feel very obliged t...</td>\n",
              "      <td>5</td>\n",
              "      <td>Price of GOLD is up, so don't bury the golden ...</td>\n",
              "      <td>1197676800</td>\n",
              "      <td>12 15, 2007</td>\n",
              "      <td>{'Vowels': 1504, 'Consonants': 2685}</td>\n",
              "      <td>{'Vowels': 14, 'Consonants': 31}</td>\n",
              "      <td>{'Vowels': 14, 'Consonants': 31}</td>\n",
              "    </tr>\n",
              "    <tr>\n",
              "      <th>2</th>\n",
              "      <td>A1F1A0QQP2XVH5</td>\n",
              "      <td>B00000JBLH</td>\n",
              "      <td>Mark B</td>\n",
              "      <td>[3, 3]</td>\n",
              "      <td>I have an HP 48GX that has been kicking for mo...</td>\n",
              "      <td>2</td>\n",
              "      <td>Good functionality, but not durable like old HPs</td>\n",
              "      <td>1293840000</td>\n",
              "      <td>01 1, 2011</td>\n",
              "      <td>{'Vowels': 134, 'Consonants': 235}</td>\n",
              "      <td>{'Vowels': 15, 'Consonants': 25}</td>\n",
              "      <td>{'Vowels': 15, 'Consonants': 25}</td>\n",
              "    </tr>\n",
              "    <tr>\n",
              "      <th>3</th>\n",
              "      <td>A49R5DBXXQDE5</td>\n",
              "      <td>B00000JBLH</td>\n",
              "      <td>R. D Johnson</td>\n",
              "      <td>[7, 8]</td>\n",
              "      <td>I've started doing more finance stuff recently...</td>\n",
              "      <td>5</td>\n",
              "      <td>One of the last of an almost extinct species</td>\n",
              "      <td>1145404800</td>\n",
              "      <td>04 19, 2006</td>\n",
              "      <td>{'Vowels': 1089, 'Consonants': 1775}</td>\n",
              "      <td>{'Vowels': 14, 'Consonants': 22}</td>\n",
              "      <td>{'Vowels': 14, 'Consonants': 22}</td>\n",
              "    </tr>\n",
              "    <tr>\n",
              "      <th>4</th>\n",
              "      <td>A2XRMQA6PJ5ZJ8</td>\n",
              "      <td>B00000JBLH</td>\n",
              "      <td>Roger J. Buffington</td>\n",
              "      <td>[0, 0]</td>\n",
              "      <td>For simple calculations and discounted cash fl...</td>\n",
              "      <td>5</td>\n",
              "      <td>Still the best</td>\n",
              "      <td>1375574400</td>\n",
              "      <td>08 4, 2013</td>\n",
              "      <td>{'Vowels': 208, 'Consonants': 338}</td>\n",
              "      <td>{'Vowels': 3, 'Consonants': 9}</td>\n",
              "      <td>{'Vowels': 3, 'Consonants': 9}</td>\n",
              "    </tr>\n",
              "  </tbody>\n",
              "</table>\n",
              "</div>"
            ],
            "text/plain": [
              "       reviewerID  ...               summary_vowconCount\n",
              "0  A32T2H8150OJLU  ...  {'Vowels': 12, 'Consonants': 20}\n",
              "1  A3MAFS04ZABRGO  ...  {'Vowels': 14, 'Consonants': 31}\n",
              "2  A1F1A0QQP2XVH5  ...  {'Vowels': 15, 'Consonants': 25}\n",
              "3   A49R5DBXXQDE5  ...  {'Vowels': 14, 'Consonants': 22}\n",
              "4  A2XRMQA6PJ5ZJ8  ...    {'Vowels': 3, 'Consonants': 9}\n",
              "\n",
              "[5 rows x 12 columns]"
            ]
          },
          "metadata": {
            "tags": []
          },
          "execution_count": 21
        }
      ]
    },
    {
      "cell_type": "code",
      "metadata": {
        "id": "rtE-gy1UOZC9",
        "colab_type": "code",
        "colab": {}
      },
      "source": [
        "vowels = ['a', 'e', 'i', 'o', 'u']\n",
        "consonants = ['b','c', 'd', 'f', 'g', 'h', 'j', 'k', 'l', 'm', 'n', 'p', 'q', 'r', 's', 't', 'v', 'w', 'x', 'y', 'z']"
      ],
      "execution_count": 0,
      "outputs": []
    },
    {
      "cell_type": "code",
      "metadata": {
        "id": "ZWiZaJXkK7-b",
        "colab_type": "code",
        "colab": {}
      },
      "source": [
        "def vowcon_count(str):\n",
        "\n",
        "    counts = dict()\n",
        "    vowel_count = 0\n",
        "    consonant_count = 0\n",
        "    for i in str.lower():\n",
        "        if i in vowels:\n",
        "          vowel_count+=1\n",
        "        if i in consonants:\n",
        "          consonant_count+=1\n",
        "            \n",
        "    counts['Vowels'] = vowel_count\n",
        "    counts['Consonants'] = consonant_count\n",
        "\n",
        "    return counts"
      ],
      "execution_count": 0,
      "outputs": []
    },
    {
      "cell_type": "code",
      "metadata": {
        "id": "31TZlg5FOXKF",
        "colab_type": "code",
        "colab": {}
      },
      "source": [
        "data['reviewText_vowconCount']=data['reviewText'].apply(vowcon_count,1)\n",
        "data['summary_vowconCount'] = data['summary'].apply(vowcon_count,1)"
      ],
      "execution_count": 0,
      "outputs": []
    },
    {
      "cell_type": "code",
      "metadata": {
        "id": "CMx8IPwtO8H-",
        "colab_type": "code",
        "colab": {
          "base_uri": "https://localhost:8080/",
          "height": 602
        },
        "outputId": "2a34fea1-32bf-4a11-880c-6ec8d4e949a1"
      },
      "source": [
        "data.head(100)"
      ],
      "execution_count": 30,
      "outputs": [
        {
          "output_type": "execute_result",
          "data": {
            "text/html": [
              "<div>\n",
              "<style scoped>\n",
              "    .dataframe tbody tr th:only-of-type {\n",
              "        vertical-align: middle;\n",
              "    }\n",
              "\n",
              "    .dataframe tbody tr th {\n",
              "        vertical-align: top;\n",
              "    }\n",
              "\n",
              "    .dataframe thead th {\n",
              "        text-align: right;\n",
              "    }\n",
              "</style>\n",
              "<table border=\"1\" class=\"dataframe\">\n",
              "  <thead>\n",
              "    <tr style=\"text-align: right;\">\n",
              "      <th></th>\n",
              "      <th>reviewerID</th>\n",
              "      <th>asin</th>\n",
              "      <th>reviewerName</th>\n",
              "      <th>helpful</th>\n",
              "      <th>reviewText</th>\n",
              "      <th>overall</th>\n",
              "      <th>summary</th>\n",
              "      <th>unixReviewTime</th>\n",
              "      <th>reviewTime</th>\n",
              "      <th>reviewText_vowconCount</th>\n",
              "      <th>summary_wordCount</th>\n",
              "      <th>summary_vowconCount</th>\n",
              "    </tr>\n",
              "  </thead>\n",
              "  <tbody>\n",
              "    <tr>\n",
              "      <th>0</th>\n",
              "      <td>A32T2H8150OJLU</td>\n",
              "      <td>B00000JBLH</td>\n",
              "      <td>ARH</td>\n",
              "      <td>[3, 4]</td>\n",
              "      <td>I bought my first HP12C in about 1984 or so, a...</td>\n",
              "      <td>5</td>\n",
              "      <td>A solid performer, and long time friend</td>\n",
              "      <td>1094169600</td>\n",
              "      <td>09 3, 2004</td>\n",
              "      <td>{'Vowels': 279, 'Consonants': 437}</td>\n",
              "      <td>{'Vowels': 12, 'Consonants': 20}</td>\n",
              "      <td>{'Vowels': 12, 'Consonants': 20}</td>\n",
              "    </tr>\n",
              "    <tr>\n",
              "      <th>1</th>\n",
              "      <td>A3MAFS04ZABRGO</td>\n",
              "      <td>B00000JBLH</td>\n",
              "      <td>Let it Be \"Alan\"</td>\n",
              "      <td>[7, 9]</td>\n",
              "      <td>WHY THIS BELATED REVIEW? I feel very obliged t...</td>\n",
              "      <td>5</td>\n",
              "      <td>Price of GOLD is up, so don't bury the golden ...</td>\n",
              "      <td>1197676800</td>\n",
              "      <td>12 15, 2007</td>\n",
              "      <td>{'Vowels': 1504, 'Consonants': 2685}</td>\n",
              "      <td>{'Vowels': 14, 'Consonants': 31}</td>\n",
              "      <td>{'Vowels': 14, 'Consonants': 31}</td>\n",
              "    </tr>\n",
              "    <tr>\n",
              "      <th>2</th>\n",
              "      <td>A1F1A0QQP2XVH5</td>\n",
              "      <td>B00000JBLH</td>\n",
              "      <td>Mark B</td>\n",
              "      <td>[3, 3]</td>\n",
              "      <td>I have an HP 48GX that has been kicking for mo...</td>\n",
              "      <td>2</td>\n",
              "      <td>Good functionality, but not durable like old HPs</td>\n",
              "      <td>1293840000</td>\n",
              "      <td>01 1, 2011</td>\n",
              "      <td>{'Vowels': 134, 'Consonants': 235}</td>\n",
              "      <td>{'Vowels': 15, 'Consonants': 25}</td>\n",
              "      <td>{'Vowels': 15, 'Consonants': 25}</td>\n",
              "    </tr>\n",
              "    <tr>\n",
              "      <th>3</th>\n",
              "      <td>A49R5DBXXQDE5</td>\n",
              "      <td>B00000JBLH</td>\n",
              "      <td>R. D Johnson</td>\n",
              "      <td>[7, 8]</td>\n",
              "      <td>I've started doing more finance stuff recently...</td>\n",
              "      <td>5</td>\n",
              "      <td>One of the last of an almost extinct species</td>\n",
              "      <td>1145404800</td>\n",
              "      <td>04 19, 2006</td>\n",
              "      <td>{'Vowels': 1089, 'Consonants': 1775}</td>\n",
              "      <td>{'Vowels': 14, 'Consonants': 22}</td>\n",
              "      <td>{'Vowels': 14, 'Consonants': 22}</td>\n",
              "    </tr>\n",
              "    <tr>\n",
              "      <th>4</th>\n",
              "      <td>A2XRMQA6PJ5ZJ8</td>\n",
              "      <td>B00000JBLH</td>\n",
              "      <td>Roger J. Buffington</td>\n",
              "      <td>[0, 0]</td>\n",
              "      <td>For simple calculations and discounted cash fl...</td>\n",
              "      <td>5</td>\n",
              "      <td>Still the best</td>\n",
              "      <td>1375574400</td>\n",
              "      <td>08 4, 2013</td>\n",
              "      <td>{'Vowels': 208, 'Consonants': 338}</td>\n",
              "      <td>{'Vowels': 3, 'Consonants': 9}</td>\n",
              "      <td>{'Vowels': 3, 'Consonants': 9}</td>\n",
              "    </tr>\n",
              "    <tr>\n",
              "      <th>...</th>\n",
              "      <td>...</td>\n",
              "      <td>...</td>\n",
              "      <td>...</td>\n",
              "      <td>...</td>\n",
              "      <td>...</td>\n",
              "      <td>...</td>\n",
              "      <td>...</td>\n",
              "      <td>...</td>\n",
              "      <td>...</td>\n",
              "      <td>...</td>\n",
              "      <td>...</td>\n",
              "      <td>...</td>\n",
              "    </tr>\n",
              "    <tr>\n",
              "      <th>95</th>\n",
              "      <td>A304GUEPCPYM3Z</td>\n",
              "      <td>B00000JZKB</td>\n",
              "      <td>citan-uzuki \"citan-uzuki\"</td>\n",
              "      <td>[0, 0]</td>\n",
              "      <td>This is a good calculator for those who are ta...</td>\n",
              "      <td>5</td>\n",
              "      <td>Standard tool for the business student</td>\n",
              "      <td>1392163200</td>\n",
              "      <td>02 12, 2014</td>\n",
              "      <td>{'Vowels': 240, 'Consonants': 371}</td>\n",
              "      <td>{'Vowels': 11, 'Consonants': 22}</td>\n",
              "      <td>{'Vowels': 11, 'Consonants': 22}</td>\n",
              "    </tr>\n",
              "    <tr>\n",
              "      <th>96</th>\n",
              "      <td>A10JPZAYDGFHEV</td>\n",
              "      <td>B00000JZKB</td>\n",
              "      <td>Damian Marynski</td>\n",
              "      <td>[0, 0]</td>\n",
              "      <td>I bought the calculator for Accounting classes...</td>\n",
              "      <td>4</td>\n",
              "      <td>Good for exams</td>\n",
              "      <td>1387497600</td>\n",
              "      <td>12 20, 2013</td>\n",
              "      <td>{'Vowels': 59, 'Consonants': 94}</td>\n",
              "      <td>{'Vowels': 5, 'Consonants': 7}</td>\n",
              "      <td>{'Vowels': 5, 'Consonants': 7}</td>\n",
              "    </tr>\n",
              "    <tr>\n",
              "      <th>97</th>\n",
              "      <td>A8LEFDO3AKIJP</td>\n",
              "      <td>B00000JZKB</td>\n",
              "      <td>D. Salotti \"DS\"</td>\n",
              "      <td>[0, 0]</td>\n",
              "      <td>I got this calculator at request from my Corpo...</td>\n",
              "      <td>4</td>\n",
              "      <td>Easy to use - good calculator for Finance Classes</td>\n",
              "      <td>1365984000</td>\n",
              "      <td>04 15, 2013</td>\n",
              "      <td>{'Vowels': 194, 'Consonants': 331}</td>\n",
              "      <td>{'Vowels': 17, 'Consonants': 23}</td>\n",
              "      <td>{'Vowels': 17, 'Consonants': 23}</td>\n",
              "    </tr>\n",
              "    <tr>\n",
              "      <th>98</th>\n",
              "      <td>AIKGBCYBXVH8I</td>\n",
              "      <td>B00000JZKB</td>\n",
              "      <td>John L. Holt</td>\n",
              "      <td>[0, 0]</td>\n",
              "      <td>David Wilson: Thank you my man for your review...</td>\n",
              "      <td>4</td>\n",
              "      <td>HP 12C</td>\n",
              "      <td>1303084800</td>\n",
              "      <td>04 18, 2011</td>\n",
              "      <td>{'Vowels': 91, 'Consonants': 139}</td>\n",
              "      <td>{'Vowels': 0, 'Consonants': 3}</td>\n",
              "      <td>{'Vowels': 0, 'Consonants': 3}</td>\n",
              "    </tr>\n",
              "    <tr>\n",
              "      <th>99</th>\n",
              "      <td>A2L9XBP14SK6IU</td>\n",
              "      <td>B00000JZKB</td>\n",
              "      <td>Justadude253</td>\n",
              "      <td>[0, 0]</td>\n",
              "      <td>Great product. Everything I need as a finance ...</td>\n",
              "      <td>5</td>\n",
              "      <td>1+1=3</td>\n",
              "      <td>1393718400</td>\n",
              "      <td>03 2, 2014</td>\n",
              "      <td>{'Vowels': 29, 'Consonants': 44}</td>\n",
              "      <td>{'Vowels': 0, 'Consonants': 0}</td>\n",
              "      <td>{'Vowels': 0, 'Consonants': 0}</td>\n",
              "    </tr>\n",
              "  </tbody>\n",
              "</table>\n",
              "<p>100 rows × 12 columns</p>\n",
              "</div>"
            ],
            "text/plain": [
              "        reviewerID  ...               summary_vowconCount\n",
              "0   A32T2H8150OJLU  ...  {'Vowels': 12, 'Consonants': 20}\n",
              "1   A3MAFS04ZABRGO  ...  {'Vowels': 14, 'Consonants': 31}\n",
              "2   A1F1A0QQP2XVH5  ...  {'Vowels': 15, 'Consonants': 25}\n",
              "3    A49R5DBXXQDE5  ...  {'Vowels': 14, 'Consonants': 22}\n",
              "4   A2XRMQA6PJ5ZJ8  ...    {'Vowels': 3, 'Consonants': 9}\n",
              "..             ...  ...                               ...\n",
              "95  A304GUEPCPYM3Z  ...  {'Vowels': 11, 'Consonants': 22}\n",
              "96  A10JPZAYDGFHEV  ...    {'Vowels': 5, 'Consonants': 7}\n",
              "97   A8LEFDO3AKIJP  ...  {'Vowels': 17, 'Consonants': 23}\n",
              "98   AIKGBCYBXVH8I  ...    {'Vowels': 0, 'Consonants': 3}\n",
              "99  A2L9XBP14SK6IU  ...    {'Vowels': 0, 'Consonants': 0}\n",
              "\n",
              "[100 rows x 12 columns]"
            ]
          },
          "metadata": {
            "tags": []
          },
          "execution_count": 30
        }
      ]
    },
    {
      "cell_type": "markdown",
      "metadata": {
        "id": "foQd2BsEQsED",
        "colab_type": "text"
      },
      "source": [
        "Find words starting with B or Ending with G"
      ]
    },
    {
      "cell_type": "code",
      "metadata": {
        "id": "cP4Eq2OcQyMK",
        "colab_type": "code",
        "colab": {}
      },
      "source": [
        "import re"
      ],
      "execution_count": 0,
      "outputs": []
    },
    {
      "cell_type": "code",
      "metadata": {
        "id": "L3vNaCyTRh6U",
        "colab_type": "code",
        "colab": {
          "base_uri": "https://localhost:8080/",
          "height": 746
        },
        "outputId": "df48746a-5e23-4b54-ecb3-ae248e31f936"
      },
      "source": [
        "text1=data.iloc[1].reviewText\n",
        "text1\n",
        "re.findall(r'\\b[bB]\\w+\\b', text1)"
      ],
      "execution_count": 29,
      "outputs": [
        {
          "output_type": "execute_result",
          "data": {
            "text/plain": [
              "['BELATED',\n",
              " 'burying',\n",
              " 'brandname',\n",
              " 'best',\n",
              " 'business',\n",
              " 'before',\n",
              " 'business',\n",
              " 'bearer',\n",
              " 'boy',\n",
              " 'business',\n",
              " 'best',\n",
              " 'been',\n",
              " 'by',\n",
              " 'being',\n",
              " 'business',\n",
              " 'by',\n",
              " 'bear',\n",
              " 'by',\n",
              " 'by',\n",
              " 'because',\n",
              " 'by',\n",
              " 'BROKEN',\n",
              " 'be',\n",
              " 'by',\n",
              " 'Based',\n",
              " 'built',\n",
              " 'BETTER',\n",
              " 'BENCHMARKING',\n",
              " 'be',\n",
              " 'business',\n",
              " 'be',\n",
              " 'business',\n",
              " 'brandname',\n",
              " 'be',\n",
              " 'be',\n",
              " 'be',\n",
              " 'business',\n",
              " 'By',\n",
              " 'be',\n",
              " 'be',\n",
              " 'bearer']"
            ]
          },
          "metadata": {
            "tags": []
          },
          "execution_count": 29
        }
      ]
    },
    {
      "cell_type": "code",
      "metadata": {
        "id": "xiE5EDUkQ1Ll",
        "colab_type": "code",
        "colab": {
          "base_uri": "https://localhost:8080/",
          "height": 497
        },
        "outputId": "a44ef6b2-172e-4ab1-b740-1d75353c9068"
      },
      "source": [
        "text2=data.iloc[1].reviewText\n",
        "text2\n",
        "re.findall(r'\\b\\w+[gG]\\b', text2)"
      ],
      "execution_count": 26,
      "outputs": [
        {
          "output_type": "execute_result",
          "data": {
            "text/plain": [
              "['sharing',\n",
              " 'burying',\n",
              " 'praising',\n",
              " 'including',\n",
              " 'continuing',\n",
              " 'surviving',\n",
              " 'selling',\n",
              " 'According',\n",
              " 'selling',\n",
              " 'remaining',\n",
              " 'being',\n",
              " 'using',\n",
              " 'amusing',\n",
              " 'disappointing',\n",
              " 'frustrating',\n",
              " 'remaking',\n",
              " 'differentiating',\n",
              " 'following',\n",
              " 'reasoning',\n",
              " 'MANUFACTURING',\n",
              " 'BENCHMARKING',\n",
              " 'listening',\n",
              " 'puzzling',\n",
              " 'replacing',\n",
              " 'discontinuing',\n",
              " 'missing',\n",
              " 'Looking']"
            ]
          },
          "metadata": {
            "tags": []
          },
          "execution_count": 26
        }
      ]
    },
    {
      "cell_type": "code",
      "metadata": {
        "id": "ThnjdnC1RTNT",
        "colab_type": "code",
        "colab": {
          "base_uri": "https://localhost:8080/",
          "height": 1000
        },
        "outputId": "2648c610-20e8-454a-ecaa-412d26a0d163"
      },
      "source": [
        "text3=data.iloc[1].reviewText\n",
        "text3\n",
        "re.findall(r'\\b[Bb]\\w+ | \\w+[gG] ', text3)"
      ],
      "execution_count": 31,
      "outputs": [
        {
          "output_type": "execute_result",
          "data": {
            "text/plain": [
              "['BELATED ',\n",
              " ' sharing ',\n",
              " ' burying ',\n",
              " ' praising ',\n",
              " ' including ',\n",
              " 'brandname ',\n",
              " 'best ',\n",
              " 'business ',\n",
              " 'before ',\n",
              " 'business ',\n",
              " 'bearer ',\n",
              " 'business ',\n",
              " ' continuing ',\n",
              " ' surviving ',\n",
              " ' selling ',\n",
              " ' According ',\n",
              " 'best ',\n",
              " ' remaining ',\n",
              " 'been ',\n",
              " 'by ',\n",
              " ' being ',\n",
              " 'business ',\n",
              " 'by ',\n",
              " 'bear ',\n",
              " 'by ',\n",
              " ' using ',\n",
              " ' amusing ',\n",
              " ' disappointing ',\n",
              " ' frustrating ',\n",
              " ' remaking ',\n",
              " 'by ',\n",
              " ' differentiating ',\n",
              " 'because ',\n",
              " ' following ',\n",
              " 'by ',\n",
              " 'be ',\n",
              " 'by ',\n",
              " 'Based ',\n",
              " 'built ',\n",
              " ' MANUFACTURING ',\n",
              " 'BETTER ',\n",
              " ' BENCHMARKING ',\n",
              " ' listening ',\n",
              " 'be ',\n",
              " 'business ',\n",
              " 'be ',\n",
              " 'business ',\n",
              " 'brandname ',\n",
              " ' puzzling ',\n",
              " ' replacing ',\n",
              " ' discontinuing ',\n",
              " 'be ',\n",
              " ' missing ',\n",
              " 'be ',\n",
              " 'be ',\n",
              " 'business ',\n",
              " 'By ',\n",
              " 'be ',\n",
              " 'be ']"
            ]
          },
          "metadata": {
            "tags": []
          },
          "execution_count": 31
        }
      ]
    },
    {
      "cell_type": "code",
      "metadata": {
        "id": "srqpt5HARYFW",
        "colab_type": "code",
        "colab": {}
      },
      "source": [
        ""
      ],
      "execution_count": 0,
      "outputs": []
    }
  ]
}
