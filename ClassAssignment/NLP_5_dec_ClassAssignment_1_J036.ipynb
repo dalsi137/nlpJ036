{
  "nbformat": 4,
  "nbformat_minor": 0,
  "metadata": {
    "colab": {
      "name": "NLP 5 dec  ClassAssignment 1",
      "provenance": [],
      "collapsed_sections": [],
      "include_colab_link": true
    },
    "kernelspec": {
      "name": "python3",
      "display_name": "Python 3"
    }
  },
  "cells": [
    {
      "cell_type": "markdown",
      "metadata": {
        "id": "view-in-github",
        "colab_type": "text"
      },
      "source": [
        "<a href=\"https://colab.research.google.com/github/dalsi137/nlpJ036/blob/master/ClassAssignment/NLP_5_dec_ClassAssignment_1.ipynb\" target=\"_parent\"><img src=\"https://colab.research.google.com/assets/colab-badge.svg\" alt=\"Open In Colab\"/></a>"
      ]
    },
    {
      "cell_type": "markdown",
      "metadata": {
        "id": "wJHYCLONeUGa",
        "colab_type": "text"
      },
      "source": [
        "#Find Nth prime number\n"
      ]
    },
    {
      "cell_type": "code",
      "metadata": {
        "id": "ZxU77qy-SxjU",
        "colab_type": "code",
        "colab": {}
      },
      "source": [
        "from sympy import isprime #loading the library"
      ],
      "execution_count": 0,
      "outputs": []
    },
    {
      "cell_type": "code",
      "metadata": {
        "id": "aRVlqss-_MH4",
        "colab_type": "code",
        "colab": {}
      },
      "source": [
        "#defined function to find the prime number\n",
        "def findPrime (n):\n",
        "  #counter setting to zero\n",
        "    primeAmount = 0\n",
        "    primecheck = 1\n",
        "    while True:\n",
        "      #checking whether the given number is prime number or not\n",
        "        if isprime(primecheck):\n",
        "          #increasing the counter by one if primecheck is done else do primecheck again\n",
        "            primeAmount +=1\n",
        "        if primeAmount >= n:\n",
        "            return (primecheck)\n",
        "        primecheck += 1"
      ],
      "execution_count": 0,
      "outputs": []
    },
    {
      "cell_type": "code",
      "metadata": {
        "id": "HLeyFDX0_Ngc",
        "colab_type": "code",
        "outputId": "cae40065-908b-4371-a587-7a3760845896",
        "colab": {
          "base_uri": "https://localhost:8080/",
          "height": 52
        }
      },
      "source": [
        "n = input ('Which prime number you want to find: ')\n",
        "print('The prime number with order ' + str(n) + ' is ' + str(findPrime(int(n))))"
      ],
      "execution_count": 0,
      "outputs": [
        {
          "output_type": "stream",
          "text": [
            "Which prime number you want to find: 3\n",
            "The prime number with order 3 is 5\n"
          ],
          "name": "stdout"
        }
      ]
    }
  ]
}
