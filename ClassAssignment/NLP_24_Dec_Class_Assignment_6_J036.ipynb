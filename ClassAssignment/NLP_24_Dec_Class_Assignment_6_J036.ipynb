{
  "nbformat": 4,
  "nbformat_minor": 0,
  "metadata": {
    "colab": {
      "name": "NLP 24 Dec Class Assignment 6 J036",
      "provenance": [],
      "collapsed_sections": [],
      "include_colab_link": true
    },
    "kernelspec": {
      "name": "python3",
      "display_name": "Python 3"
    }
  },
  "cells": [
    {
      "cell_type": "markdown",
      "metadata": {
        "id": "view-in-github",
        "colab_type": "text"
      },
      "source": [
        "<a href=\"https://colab.research.google.com/github/dalsi137/nlpJ036/blob/master/ClassAssignment/NLP_24_Dec_Class_Assignment_6_J036.ipynb\" target=\"_parent\"><img src=\"https://colab.research.google.com/assets/colab-badge.svg\" alt=\"Open In Colab\"/></a>"
      ]
    },
    {
      "cell_type": "code",
      "metadata": {
        "id": "PEtL3hlIPve4",
        "colab_type": "code",
        "colab": {}
      },
      "source": [
        "import pandas as pd\n",
        "from sklearn.feature_extraction.text import CountVectorizer\n",
        "import re\n",
        "from sklearn.model_selection import train_test_split as tts\n",
        "from sklearn.ensemble import RandomForestClassifier\n",
        "import numpy as np\n",
        "from sklearn.preprocessing import LabelEncoder, LabelBinarizer\n",
        "from sklearn.metrics import confusion_matrix, classification_report, roc_auc_score"
      ],
      "execution_count": 0,
      "outputs": []
    },
    {
      "cell_type": "code",
      "metadata": {
        "id": "ry0-DpSsQBGP",
        "colab_type": "code",
        "colab": {}
      },
      "source": [
        "twitter = pd.read_csv('https://raw.githubusercontent.com/zfz/twitter_corpus/master/full-corpus.csv', error_bad_lines=False)"
      ],
      "execution_count": 0,
      "outputs": []
    },
    {
      "cell_type": "code",
      "metadata": {
        "id": "h5Fh4v1lQEdV",
        "colab_type": "code",
        "colab": {
          "base_uri": "https://localhost:8080/",
          "height": 194
        },
        "outputId": "30556255-b2f0-4230-c0fe-cee3ec691a6b"
      },
      "source": [
        "twitter.head()"
      ],
      "execution_count": 3,
      "outputs": [
        {
          "output_type": "execute_result",
          "data": {
            "text/html": [
              "<div>\n",
              "<style scoped>\n",
              "    .dataframe tbody tr th:only-of-type {\n",
              "        vertical-align: middle;\n",
              "    }\n",
              "\n",
              "    .dataframe tbody tr th {\n",
              "        vertical-align: top;\n",
              "    }\n",
              "\n",
              "    .dataframe thead th {\n",
              "        text-align: right;\n",
              "    }\n",
              "</style>\n",
              "<table border=\"1\" class=\"dataframe\">\n",
              "  <thead>\n",
              "    <tr style=\"text-align: right;\">\n",
              "      <th></th>\n",
              "      <th>Topic</th>\n",
              "      <th>Sentiment</th>\n",
              "      <th>TweetId</th>\n",
              "      <th>TweetDate</th>\n",
              "      <th>TweetText</th>\n",
              "    </tr>\n",
              "  </thead>\n",
              "  <tbody>\n",
              "    <tr>\n",
              "      <th>0</th>\n",
              "      <td>apple</td>\n",
              "      <td>positive</td>\n",
              "      <td>126415614616154112</td>\n",
              "      <td>Tue Oct 18 21:53:25 +0000 2011</td>\n",
              "      <td>Now all @Apple has to do is get swype on the i...</td>\n",
              "    </tr>\n",
              "    <tr>\n",
              "      <th>1</th>\n",
              "      <td>apple</td>\n",
              "      <td>positive</td>\n",
              "      <td>126404574230740992</td>\n",
              "      <td>Tue Oct 18 21:09:33 +0000 2011</td>\n",
              "      <td>@Apple will be adding more carrier support to ...</td>\n",
              "    </tr>\n",
              "    <tr>\n",
              "      <th>2</th>\n",
              "      <td>apple</td>\n",
              "      <td>positive</td>\n",
              "      <td>126402758403305474</td>\n",
              "      <td>Tue Oct 18 21:02:20 +0000 2011</td>\n",
              "      <td>Hilarious @youtube video - guy does a duet wit...</td>\n",
              "    </tr>\n",
              "    <tr>\n",
              "      <th>3</th>\n",
              "      <td>apple</td>\n",
              "      <td>positive</td>\n",
              "      <td>126397179614068736</td>\n",
              "      <td>Tue Oct 18 20:40:10 +0000 2011</td>\n",
              "      <td>@RIM you made it too easy for me to switch to ...</td>\n",
              "    </tr>\n",
              "    <tr>\n",
              "      <th>4</th>\n",
              "      <td>apple</td>\n",
              "      <td>positive</td>\n",
              "      <td>126395626979196928</td>\n",
              "      <td>Tue Oct 18 20:34:00 +0000 2011</td>\n",
              "      <td>I just realized that the reason I got into twi...</td>\n",
              "    </tr>\n",
              "  </tbody>\n",
              "</table>\n",
              "</div>"
            ],
            "text/plain": [
              "   Topic  ...                                          TweetText\n",
              "0  apple  ...  Now all @Apple has to do is get swype on the i...\n",
              "1  apple  ...  @Apple will be adding more carrier support to ...\n",
              "2  apple  ...  Hilarious @youtube video - guy does a duet wit...\n",
              "3  apple  ...  @RIM you made it too easy for me to switch to ...\n",
              "4  apple  ...  I just realized that the reason I got into twi...\n",
              "\n",
              "[5 rows x 5 columns]"
            ]
          },
          "metadata": {
            "tags": []
          },
          "execution_count": 3
        }
      ]
    },
    {
      "cell_type": "code",
      "metadata": {
        "id": "aBU9optGQHBk",
        "colab_type": "code",
        "colab": {}
      },
      "source": [
        "amazon = pd.read_json('http://snap.stanford.edu/data/amazon/productGraph/categoryFiles/reviews_Office_Products_5.json.gz', lines=True)"
      ],
      "execution_count": 0,
      "outputs": []
    },
    {
      "cell_type": "code",
      "metadata": {
        "id": "xQRAiBhfQJU3",
        "colab_type": "code",
        "colab": {
          "base_uri": "https://localhost:8080/",
          "height": 35
        },
        "outputId": "9c5b9292-76a3-47f2-e03e-eae8c13c1af8"
      },
      "source": [
        "twitter.columns"
      ],
      "execution_count": 5,
      "outputs": [
        {
          "output_type": "execute_result",
          "data": {
            "text/plain": [
              "Index(['Topic', 'Sentiment', 'TweetId', 'TweetDate', 'TweetText'], dtype='object')"
            ]
          },
          "metadata": {
            "tags": []
          },
          "execution_count": 5
        }
      ]
    },
    {
      "cell_type": "code",
      "metadata": {
        "id": "RVUskKd8QK7J",
        "colab_type": "code",
        "colab": {
          "base_uri": "https://localhost:8080/",
          "height": 35
        },
        "outputId": "4d359e18-7348-4caf-dfd4-68ddd2fa1394"
      },
      "source": [
        "twitter['Sentiment'].unique()"
      ],
      "execution_count": 6,
      "outputs": [
        {
          "output_type": "execute_result",
          "data": {
            "text/plain": [
              "array(['positive', 'negative', 'neutral', 'irrelevant'], dtype=object)"
            ]
          },
          "metadata": {
            "tags": []
          },
          "execution_count": 6
        }
      ]
    },
    {
      "cell_type": "code",
      "metadata": {
        "id": "9mjUz0dfQO97",
        "colab_type": "code",
        "colab": {}
      },
      "source": [
        "twitter = twitter[twitter['Sentiment']!='irrelevant']"
      ],
      "execution_count": 0,
      "outputs": []
    },
    {
      "cell_type": "code",
      "metadata": {
        "id": "DiqIdo2XQSSe",
        "colab_type": "code",
        "colab": {}
      },
      "source": [
        "def Preprocessing(text):\n",
        "  #Initializing a dataframe of stopwords\n",
        "  stop_words = pd.read_csv(\"https://gist.githubusercontent.com/sebleier/554280/raw/7e0e4a1ce04c2bb7bd41089c9821dbcf6d0c786c/NLTK's%2520list%2520of%2520english%2520stopwords\")\n",
        "  stop_words.values.tolist()\n",
        "\n",
        "  #Considering only alpha-numeric characters, numeric digits not even considered\n",
        "  text = re.findall(r'\\b[A-Za-z]\\w+\\b', text)\n",
        "  \n",
        "  #Remove stopwords\n",
        "  for word in text:\n",
        "    if word in stop_words:\n",
        "      text.remove(word)\n",
        "      \n",
        "  #Remove numerics\n",
        "  #res = ''.join([i for i in text if not i.isdigit()]) \n",
        "\n",
        "  #Remove @ and #\n",
        "  bad_chars = ['@', '#']\n",
        "  for i in text:\n",
        "    if i in bad_chars: \n",
        "      text = text.remove(i)\n",
        "  \n",
        "  text = list(text)\n",
        "\n",
        "  #Converting list to string\n",
        "  text = ' '.join(word for word in text)\n",
        "  return text"
      ],
      "execution_count": 0,
      "outputs": []
    },
    {
      "cell_type": "code",
      "metadata": {
        "id": "2hWbiDSDQU4e",
        "colab_type": "code",
        "colab": {
          "base_uri": "https://localhost:8080/",
          "height": 35
        },
        "outputId": "e3e21764-0a8b-4358-f1d8-05f7ef2b719f"
      },
      "source": [
        "\n",
        "Preprocessing(twitter['TweetText'][0])\n"
      ],
      "execution_count": 9,
      "outputs": [
        {
          "output_type": "execute_result",
          "data": {
            "text/plain": [
              "'Now all Apple has to do is get swype on the iphone and it will be crack Iphone that is'"
            ]
          },
          "metadata": {
            "tags": []
          },
          "execution_count": 9
        }
      ]
    },
    {
      "cell_type": "code",
      "metadata": {
        "id": "t-BCQ_pWQXnU",
        "colab_type": "code",
        "colab": {}
      },
      "source": [
        "\n",
        "twitter['preprocessed_text'] = twitter['TweetText'].apply(Preprocessing,1)"
      ],
      "execution_count": 0,
      "outputs": []
    },
    {
      "cell_type": "code",
      "metadata": {
        "id": "KfdinhgtQZ_I",
        "colab_type": "code",
        "colab": {
          "base_uri": "https://localhost:8080/",
          "height": 179
        },
        "outputId": "90e26977-3d27-4055-ce8b-fd484629a902"
      },
      "source": [
        "corpus = twitter['preprocessed_text'] \n",
        "vectorizer = CountVectorizer()\n",
        "X = vectorizer.fit_transform(corpus)\n",
        "print(vectorizer.get_feature_names()) #Column names\n",
        "print(X.toarray()) #Array of observations"
      ],
      "execution_count": 13,
      "outputs": [
        {
          "output_type": "stream",
          "text": [
            "['a050tg4l', 'a0wnchmi', 'a11y', 'a1zgak5l', 'a6fllkge', 'a88zbr2o', 'a8on3iaa', 'a8tlwr3o', 'a8zqmpyp', 'aaa', 'aaargh', 'aac', 'aalkhubaizi', 'aap7stht', 'aapl', 'abandoned', 'abbas', 'abbreviations', 'ability', 'able', 'about', 'aboutthatlife', 'above', 'absolutely', 'abstract', 'abt', 'ac8jpjpk', 'acabo', 'academy', 'acap03y9', 'acappellamedia', 'acc', 'accelerate', 'accelerated', 'acceleration', 'accent', 'acceptable', 'access', 'accessibility', 'accessing', 'accessnetworks', 'accessories', 'accidently', 'accompanying', 'according', 'account', 'accounts', 'acct', 'accu', 'accu_med', 'accuracy', 'accused', 'accusing', 'acha', 'achieved', 'acjrl4fo', 'acquire', 'acquisition', 'acronyms', 'across', 'acting', 'action', 'activated', 'activating', 'active', 'activity', 'acts', 'actual', 'actualizar', 'actually', 'ad', 'adaddy101', 'adam', 'adamdince', 'adamnash', 'adcenter', 'add', 'added', 'addict', 'addicted', 'addicting', 'addictive', 'adding', 'additional', 'address', 'adds', 'addthis', 'aderricks', 'adiman_', 'adityasood', 'admin', 'administrator', 'admirably', 'admit', 'admits', 'admitting', 'adobe', 'adobemax', 'adopted', 'adopterness', 'adoption', 'ads', 'adsense', 'adt', 'adubatsdub', 'adult', 'advance', 'advanced', 'advantage', 'advertise', 'advertisement', 'advertisements', 'advertisers', 'advertising', 'adverts', 'advisor', 'adweek', 'adwords', 'aej1vrgj', 'af', 'affair', 'affan', 'affects', 'afford', 'afhx3m2n', 'afm8vsmm', 'africa', 'afro', 'after', 'afterthought', 'afwazwoy', 'ag', 'again', 'against', 'agc6pcz7', 'age', 'agency', 'agenda', 'ages', 'aggregates', 'aggressive', 'aghbaqmn', 'ago', 'agree', 'agricole', 'agv49znj', 'ah', 'ah8km2jf', 'ahahaa', 'ahead', 'ahennessyworld', 'ahh', 'ahhfuckitsguss', 'ahhh', 'ahhhh', 'ahhhhh', 'ai', 'aijysfho', 'aik3ejwt', 'aik96uxm', 'aikochristine', 'ailing', 'aim', 'ain', 'aint', 'ainteeentrippin', 'air', 'airdrop', 'airplay', 'airport', 'airports', 'aislyngreene', 'ajrogers', 'aka', 'aki', 'aklnmkai', 'ala', 'alaluya', 'alamo', 'alarm', 'alarms', 'albatross', 'albertmal88', 'album', 'albums', 'alchemy', 'alcohol', 'aldictd1', 'alead', 'alert', 'alerts', 'alexbabb9', 'alexlindsay', 'alexmufferi', 'alexthe_assholebabb', 'algeria', 'algorithm', 'algorithms', 'alibabaoglan', 'alittle', 'alive', 'aljonkar', 'all', 'alleged', 'allie_hooker', 'allmusic', 'allow', 'allowed', 'allowing', 'allows', 'allthingsd', 'allthisass', 'alltogether', 'ally', 'allyfish87', 'almost', 'alomejor', 'alone', 'along', 'alongside', 'alot', 'already', 'alright', 'alrite', 'also', 'alternate', 'alternative', 'alternatives', 'although', 'alto', 'aluenterprise', 'always', 'am', 'amaboura', 'amalga', 'amandbrar', 'amarsanghera', 'amateur', 'amaturehour', 'amazed', 'amazes', 'amazing', 'amazon', 'ambercole', 'american', 'amerikusl', 'amiraaldewick', 'ammmylewis', 'amongst', 'amount', 'amp', 'amused', 'amusing', 'amysimendinger', 'an', 'an3bmarc', 'an_anonyma', 'analysis', 'analysts', 'analytics', 'analyze', 'anas_monaffal', 'and', 'andkatmy', 'andretelles', 'android', 'android4', 'android40', 'android40icecreamsandwich', 'androidbeam', 'androidcentral', 'androidheadline', 'androidicecream', 'androidicecreamsandwich', 'androidpolice', 'androids', 'androidtopnews', 'andshuttingdownru', 'andshuttingdownrunningprograms', 'andy', 'angelique_lique', 'angle', 'angry', 'angrybirds', 'angst', 'anibalfreitas45', 'annacorinne16', 'annette', 'annie', 'announce', 'announced', 'announcement', 'announcements', 'announces', 'announcing', 'annoyed', 'annoying', 'anntran_', 'anonymous', 'another', 'anothericloudfail', 'anroid4', 'answer', 'answered', 'answers', 'ant0ineh', 'anti', 'anticipate', 'antimalware', 'antitrust', 'antivirus', 'antonio', 'anuncia', 'anup_pillai', 'any', 'anyday', 'anymore', 'anyone', 'anyones', 'anything', 'anyway', 'aofyojme', 'aol', 'aooj8cai', 'aosp', 'ap', 'apache', 'apart', 'api', 'apis', 'aplj6tsk', 'aplusk', 'apollo', 'apologize', 'apology', 'app', 'apparently', 'appeal', 'appear', 'appears', 'apperature', 'appl', 'apple', 'applecanada', 'applecare', 'applecore', 'appledomination', 'appleinsider', 'applemacs', 'apples', 'applesearch', 'applestock', 'applestore', 'appletell', 'appletv', 'appleupdates', 'appliances', 'application', 'applications', 'applied', 'applies', 'apply', 'applying', 'appointment', 'appr', 'appreciated', 'approach', 'approaches', 'appropriately', 'approves', 'apps', 'appsense', 'appsensetechie', 'appstore', 'appt', 'apptment', 'aprons', 'apt', 'ar', 'aracılığıyla', 'arbitrary', 'arc', 'architecture', 'are', 'area', 'areas', 'aren', 'argument', 'ari', 'arial', 'arokfnos', 'around', 'arrival', 'arrive', 'arrived', 'arrives', 'arrogance', 'arrogant', 'arstechnica', 'art', 'article', 'articles', 'artisan', 'artist', 'as', 'asap', 'ascribeconference', 'asgariaj', 'ashercfo', 'ashu180489', 'asia', 'asiad', 'aside', 'asimrang', 'ask', 'askaaronlee', 'asked', 'asking', 'asp', 'aspenibiz', 'aspx', 'ass', 'asses', 'assessment', 'asshsmith', 'assim99', 'assistant', 'associations', 'astounding', 'asus', 'asymco', 'at', 'ate', 'athen', 'atl', 'atlantasnoop', 'atmiomoo', 'atnnittt', 'att', 'attacks', 'attcustomercare', 'attempting', 'attempts', 'attend', 'attending', 'attention', 'attentionspan', 'attracting', 'attributed', 'audio', 'audiocodes', 'audrievv', 'auf', 'august', 'auhqlivy', 'austin', 'australia', 'authorise', 'authorization', 'authorize', 'authorized', 'authorizing', 'authors', 'auto', 'autocomplete', 'autofollow', 'autograph', 'automated', 'automatically', 'automation', 'autop', 'autopilot', 'autosavesucks', 'autumn_tarbania', 'av', 'availability', 'available', 'avalible', 'ave', 'avenue', 'avepoint', 'average', 'avoided', 'avsl3ygu', 'avtar', 'avtweeps', 'awaited', 'awaswv5u', 'away', 'awdfxdci', 'awesome', 'awesomeness', 'awful', 'awfully', 'awjhxwgt', 'awkward', 'awsome', 'awtf2xjw', 'awwvvodr', 'ax2012', 'axdkhkb0', 'axl2k1gs', 'ay', 'aye', 'aye_cassandra', 'ayhokgo8', 'aymefitc', 'ayoo_mari', 'ayy_queen', 'ayyeee', 'azee1v1', 'azrael', 'azrmusic', 'azure', 'b1pr1kix', 'b2plmyvd', 'b4', 'b59lpycs', 'b5jmtr1l', 'b5x0sdgp', 'b6rys5gx', 'b__y', 'ba', 'babe', 'babies', 'baby', 'babydaddydrama', 'babygeeks', 'babymamadrama', 'back', 'backchannel', 'backdrop', 'background', 'backlinks', 'backside', 'backup', 'backwards', 'backyard', 'bad', 'baddchikkent', 'badge', 'badog420', 'baffles', 'bag', 'bah', 'bahhh', 'baked', 'balance', 'balked', 'ball', 'ballmer', 'balloons', 'balmer', 'balms', 'balzora', 'bammer', 'ban', 'bandwidth', 'bangalore', 'bangkok', 'bangla', 'banking', 'banned', 'bar', 'barackobama', 'bargain', 'barometer', 'bars', 'base', 'based', 'bashes', 'basic', 'basically', 'basketball', 'bastards', 'bathroom', 'batteries', 'battery', 'batting', 'battle', 'battling', 'batzayab', 'bay', 'baybeeeee', 'bb', 'bbc', 'bbcclick', 'bblowpoundz', 'bbm', 'bc', 'bc7yhhr4', 'bcopher', 'bcuz', 'bd2omnib', 'bdfkjgkz', 'be', 'bea', 'beabea210', 'beam', 'beaming', 'beat', 'beater', 'beating', 'beatles', 'beats', 'beautiful', 'beblogalicious', 'became', 'because', 'beckhma1', 'become', 'becoming', 'becuz', 'bed', 'bedtime', 'bee', 'beeethree', 'beef', 'beeline', 'been', 'before', 'beg', 'began', 'begging', 'begin', 'beginning', 'behatreen', 'behind', 'bein', 'being', 'beirut', 'bej32s6a', 'believe', 'believes', 'bell', 'belle', 'bellevue', 'belong', 'ben', 'benchmark', 'benchmarklearn', 'beneficial', 'benefit', 'benefits', 'benfolds', 'bengali', 'bennettgina', 'bennuk', 'benrubery', 'berlin', 'berry', 'best', 'bestbuy', 'bestpantsten', 'bet', 'beta', 'beta7', 'better', 'between', 'betweensundays', 'beware', 'bewertung', 'beyond', 'bf5zvm0u', 'bf6qucwt', 'bff', 'bffaeapw', 'bg', 'bgkimgjf', 'bgotzj7k', 'bgr', 'bgrznnvs', 'bhammz', 'bhhgh5qc', 'bhxpqyo5', 'bi', 'bible', 'bidmyway', 'bids', 'big', 'bigapple', 'bigbellybigcuz', 'bigbrother', 'bigdata', 'bigdealdawson', 'bigdenmoments', 'biggest', 'bigmama', 'bigmelo216_tsa', 'bigtrouble', 'bikervox', 'bill', 'billgates', 'billguard', 'billion', 'billions', 'biltmore', 'binaryfaires', 'bind', 'bing', 'biopic', 'bipvbdxz', 'biqbehtb', 'bird', 'birthday', 'bishop', 'bishopwsthomas', 'bisquiat', 'bit', 'bitch', 'bitching', 'bitchslaps', 'bite', 'biting', 'bitwizards', 'biz', 'biznews', 'bizspark', 'bkad5161', 'bkgep6zm', 'bkkkkkk', 'bla1ze', 'black', 'blackberry', 'blackouts', 'blade', 'blame', 'blameitontheiphone', 'blames', 'blank', 'blaring', 'blast', 'blatant', 'blaze', 'blazure', 'bldwin', 'blend', 'bless', 'blessed', 'blessing', 'bleublancrouge_', 'blew', 'blgr9ue5', 'blhhgopo', 'blige', 'blob', 'block', 'blocked', 'blocks', 'blog', 'blogalicious', 'blogger', 'blogpost', 'blogs', 'blogspot', 'blood', 'bloody', 'bloodymary3', 'bloomberg', 'bloombergnews', 'blow', 'blowed', 'blowing', 'blown', 'bltq3vrk', 'blue', 'blue_chipperz', 'blues', 'bluetooth', 'blz7dtsy', 'bm4nenit', 'bm88', 'bmann', 'bmeiy5rq', 'bmqf5wex', 'boa', 'boaa', 'board', 'boasts', 'boczcmbg', 'bode', 'body', 'bofh', 'bogus', 'bologna', 'bong', 'bonkoif', 'bonobo', 'boo', 'boogiedebeast', 'booiiiii', 'book', 'bookcase', 'booked', 'bookmark', 'bookmarks', 'books', 'bookworms', 'boost', 'boosts', 'boot', 'booted', 'booth', 'boothelk', 'borders', 'bored', 'boring', 'boss', 'both', 'bother', 'bottlenecks', 'bottom', 'bought', 'bounce', 'bouncy', 'bound', 'bouquet', 'bout', 'bowl', 'bows', 'box', 'boxes', 'boy', 'boycotting', 'boylston', 'bpfkyd1o', 'bppjwncp', 'bpzrz337', 'bqmuhxkk', 'br3mhhvg', 'brady', 'braedonrice', 'braille', 'brain', 'brainware', 'bran_day', 'branch', 'brand', 'brandonminiman', 'brands', 'brat', 'bravo', 'brb', 'brbjtb86', 'break', 'breakfast', 'breaking', 'breakingnews', 'briancrockerjr', 'brianmincey', 'briannaa___', 'brick', 'bricked', 'bridge', 'briefing', 'brightness', 'brightsidenews', 'briliant', 'brilliance', 'brilliant', 'brin', 'bring', 'bringing', 'brings', 'britain', 'brittjje', 'bro', 'broadly', 'broke', 'broken', 'bromance', 'brotha', 'brother', 'brought', 'browse', 'browser', 'browsers', 'browserwars', 'browsing', 'bruise', 'brunodelucas', 'brunodgama', 'bs', 'bsd', 'bsdalton', 'bsnbahbp', 'bst25w2u', 'bsteelooper', 'bt', 'btfu', 'bthompson16', 'btw', 'bu', 'bucboyy', 'bud', 'buddies', 'buddy', 'buffalo', 'bug', 'buggy', 'bugs', 'build', 'building', 'buildingwindows8', 'builds', 'buildwindows8', 'built', 'builtin', 'bullet', 'bulletin', 'bulletproof', 'bullmer', 'bullshit', 'bullying', 'bummer', 'bump', 'bunch', 'bundles', 'bunny', 'buried', 'burkepatch', 'burn', 'bus', 'bush', 'business', 'businesses', 'businessuplift', 'busy', 'busyness', 'but', 'butler', 'butt', 'buttery', 'button', 'buttons', 'buwil76a', 'buy', 'buying', 'buys', 'buzz', 'buzzz', 'buzzzit', 'bvkp5caq', 'bvu1qtkt', 'bwzganje', 'bxlewi1', 'by', 'bye', 'byn1njee', 'bytenow', 'byyfhtpz', 'byyicrps', 'bz0uabpp', 'bzny74nn', 'bzx4ue6k', 'c0ykfjla', 'c1yryifh', 'c4elm79o', 'c4goy04v', 'c5tu3dzk', 'c97snizt', 'cable', 'cached', 'cadientgroup', 'caelusgreenroom', 'cake', 'calendar', 'california', 'call', 'called', 'calling', 'callmepinoc', 'calls', 'calumo', 'calvinnieh', 'came', 'camera', 'cameras', 'camp', 'campaign', 'campaigns', 'camper', 'campus', 'can', 'canada', 'canadait', 'cancer', 'canes', 'cannot', 'canon', 'cans', 'cant', 'cantwealljustgetalong', 'cap', 'capabilities', 'capability', 'capacity', 'capital', 'capo_young', 'capped', 'captain', 'capture', 'captures', 'car', 'caracteres', 'caramba', 'card', 'cards', 'cardsapp', 'care', 'cared', 'careers', 'careful', 'caring', 'carlmilner', 'carlton858', 'carnegie', 'carnegiemellon', 'carrier', 'carriers', 'carry', 'carrying', 'carrypad', 'cars', 'carsonfratus', 'cartoon', 'caschys', 'case', 'cases', 'cash', 'cast', 'castle', 'cat', 'catastrophe', 'catastrophically', 'catch', 'catchaset_', 'catchin', 'catchment', 'catchy', 'categories', 'categorizing', 'caught', 'cause', 'causes', 'cavi', 'cbcefiln', 'cbillich', 'cbm', 'cbmonarch', 'cc', 'ccna', 'cd', 'cdkpyjzv', 'cdma', 'ce', 'ceejay3k', 'ceel', 'celeb', 'celebrities', 'celebrity', 'censorship', 'cent', 'center', 'central', 'centre', 'centric', 'centuries', 'century', 'ceo', 'ceremoniously', 'certain', 'certificate', 'certification', 'certified', 'cerulean', 'ces', 'cesspit', 'cfhu4jbp', 'cgt', 'chadleaman', 'chairs', 'challenged', 'champ', 'chance', 'change', 'changed', 'changer', 'changes', 'changing', 'changingdiapers', 'channel', 'chao', 'chaos', 'characters', 'charade', 'charge', 'charged', 'charger', 'charges', 'charging', 'charities', 'charity', 'charlesarthur', 'charlielace', 'charlieroffe', 'charmybird', 'chart', 'charts', 'chascouponmom', 'chases', 'chat', 'chaton', 'chatoney', 'chavito', 'cheap', 'cheat', 'cheatedabit', 'check', 'checkboxes', 'checked', 'checking', 'cheer', 'cheltenham', 'cheque', 'chest', 'chicago', 'chick', 'chicken', 'chickz', 'chief', 'child', 'children', 'chillin', 'chime', 'china', 'chinese', 'chinkiibeauty', 'chips', 'chipsets', 'chk', 'choice', 'choices', 'choiceznewz', 'choose', 'chooses', 'choosy', 'chosen', 'chosenfewdjs', 'chris', 'chrispirillo', 'christmas', 'christyjbpl', 'chrisvoss', 'chrome', 'chtvn', 'chu', 'chucktodd', 'chwilhelm', 'chyxxdi2', 'cibereconomia', 'cimes', 'cio', 'circle', 'circles', 'circuits', 'circumstances', 'circustk', 'cisco', 'citizenship', 'citrix', 'city', 'citysearch', 'cj', 'cj20k', 'cjj12v4i', 'cjonncvk', 'cjwallace03', 'ck', 'ck4yffsy', 'claim', 'claims', 'clarence', 'class', 'classic', 'classroom', 'claws', 'cld', 'clean', 'cleaned', 'clear', 'clearlycassi_', 'cli', 'click', 'clicking', 'clicks', 'client', 'clients', 'clo', 'clock', 'clocks', 'close', 'closed', 'closely', 'closer', 'closes', 'closet', 'closing', 'clothes', 'clothing', 'cloud', 'cloudcomputing', 'cloudnewsindia', 'clouds', 'cloudy', 'clowns', 'club', 'clue', 'cmaneu', 'cmm', 'cmon', 'cmswire', 'cnbc', 'cnbcfastmomey', 'cnet', 'cnt', 'co', 'coach', 'coast', 'coated', 'coatgal', 'cobjrw66', 'cod', 'code', 'codec', 'codecs', 'codename', 'coding', 'codytigernord', 'coffers', 'cofounder', 'coincide', 'coincidence', 'coldplay', 'coldstorage', 'collaborated', 'collaboration', 'collabware', 'colleague', 'colleagues', 'collecting', 'collection', 'collects', 'college', 'colleges', 'collobrate', 'color', 'colorful', 'colour', 'com', 'combination', 'combine', 'combo', 'come', 'comes', 'coming', 'commands', 'comment', 'comments', 'commerce', 'commercial', 'committed', 'commodity', 'commons', 'communications', 'community', 'comp', 'compact', 'companies', 'companion', 'company', 'compares', 'comparing', 'comparison', 'compatibility', 'compatible', 'compelling', 'compete', 'competition', 'competitive', 'competitor', 'competitors', 'compilation', 'compiler', 'complain', 'complaints', 'complete', 'completely', 'completes', 'complex', 'complicated', 'compliments', 'compo', 'component', 'compose', 'composite', 'comptia', 'computer', 'computerworld', 'computing', 'con', 'concept', 'conceptualart', 'concerned', 'concero', 'concluded', 'concrete', 'conditions', 'condom', 'conductive', 'conf', 'conference', 'conferencecall', 'configure', 'confirmed', 'confirms', 'conflict', 'confused', 'confusedbymytimeline', 'confusin', 'confusing', 'congrats', 'congratulations', 'connect', 'connected', 'connecting', 'connectingforhealth', 'connection', 'connections', 'connectivity', 'connector', 'cons', 'consider', 'consideration', 'considered', 'considering', 'considers', 'console', 'consolidation', 'conspiracy', 'constantcontact', 'constrained', 'consultants', 'consulting', 'consultingware', 'consumer', 'consumer_demand', 'consumers', 'cont', 'contact', 'contacted', 'contacts', 'contend', 'contender', 'content', 'contest', 'contests', 'continue', 'continued', 'continues', 'continuing', 'continuous', 'continuously', 'continuum', 'contract', 'contracts', 'contrast', 'control', 'controlled', 'controller', 'conundrum', 'convenient', 'conversation', 'conversations', 'conversion', 'convert', 'converting', 'convince', 'coo', 'cookbook', 'cool', 'coollike', 'coolstorybro', 'cope', 'copied', 'copy', 'copyandpaste', 'copying', 'copyright', 'coqclb9r', 'cord', 'core', 'coreapptech', 'corebts', 'cores', 'corporate', 'corporation', 'correct', 'corrected', 'correction', 'cos', 'cosf8wus', 'cost', 'costs', 'cotmtulsa', 'could', 'couldn', 'couldnt', 'count', 'counter', 'countries', 'county', 'couple', 'coupons', 'course', 'coursey', 'court', 'courtesy', 'covent', 'coverage', 'covered', 'covering', 'covers', 'coworker', 'coz', 'cpc504', 'cpg', 'cpmorris', 'cqcaword', 'cqfsjdwb', 'cr3a6k9u', 'crack', 'crackberry', 'cracked', 'cracking', 'cranberry', 'cranial', 'crankywithnophone', 'crap', 'crappy', 'crash', 'crashes', 'crashing', 'craving', 'crawl', 'crazy', 'crazy_golfer', 'cream', 'create', 'created', 'creating', 'creation', 'creative', 'creatives', 'creators', 'credential', 'credit', 'creditbility', 'credits', 'creep', 'creepy', 'crew', 'crime', 'crisis', 'critical', 'criticise', 'criticizing', 'critics', 'crm', 'crm2011', 'crmaaagq', 'crmstrategies', 'crome', 'cropping', 'cross', 'crossed', 'crowd', 'crush', 'crushed', 'cs', 'csaefrhc', 'csg122', 'csharp', 'csr', 'cstanslf', 'cstd8cpm', 'csuc7hvh', 'ct', 'ctia', 'ctp', 'ctp3', 'ctr', 'cu', 'cue', 'cultofmac', 'cuow78du', 'curate', 'curiosity', 'curious', 'current', 'currently', 'curse', 'curve', 'custom', 'customer', 'customerappreciation', 'customers', 'customerservice', 'customerthink', 'customize', 'custserv', 'cut', 'cute', 'cutting', 'cuz', 'cvekdoiq', 'cvfwmvmo', 'cxovk5ww', 'cy6vxrnf', 'cyanogenmod', 'cyclone', 'cypher', 'cyruss1989', 'czmfvnlq', 'd0u2o9nz', 'd1lonczc', 'd2l', 'd4vjl7si', 'd5', 'd6gfyji3', 'd6mezbzv', 'd6t2xyad', 'd7eejhbt', 'd7ntpait', 'd_realrogers', 'd_snaps', 'da', 'daaayum', 'dad', 'daily', 'dailydealchat', 'daje', 'dale', 'dallas', 'dalmaer', 'dam', 'damage', 'damaged', 'dammit', 'damn', 'dancecentral', 'danced', 'dancemoms', 'dancers', 'danger', 'danielltosh', 'danielpink', 'daniweb', 'dannysullivan', 'dansaap', 'danysaadia', 'dappm4av', 'dar', 'dar3ef5t', 'dariuszporowski', 'dark', 'darkness', 'darkoivancevic', 'dashburst', 'dat', 'data', 'database', 'dataquality', 'date', 'dates', 'daughter', 'davebakerd2l', 'davepeck', 'david', 'davidcohen', 'davidegori', 'davidmerzel', 'davis', 'davislachance', 'dawn', 'dawnabvx', 'dawns', 'day', 'day305', 'days', 'daytimewdonna', 'db', 'db2rzsu5', 'dbbwsdpx', 'dbsma1pb', 'dbw', 'dciffpi1', 'dcjobs', 'dcoult', 'ddlovato', 'ddu2qm7o', 'dduu9ffd', 'de', 'dead', 'deaf', 'deal', 'dealing', 'deals', 'dear', 'death', 'deb_lavoy', 'debate', 'debating', 'debt', 'debut', 'debuts', 'decades', 'december', 'december2011', 'decent', 'decide', 'decides', 'decision', 'decisions', 'declares', 'declarng', 'decline', 'declined', 'declining', 'dedicated', 'deejaydenco', 'def', 'default', 'defaulting', 'defaults', 'deferom', 'define', 'definitely', 'defrauding', 'degrassi', 'degusta', 'del', 'delaware', 'delay', 'delegates', 'delete', 'deleted', 'delicious', 'delight', 'deliver', 'delivered', 'delivering', 'delivers', 'dell', 'dellmanning', 'demo', 'demoing', 'demons', 'demonstrates', 'demonstration', 'denali', 'dennieb_15', 'dennis', 'dennisritchie', 'denounce', 'density', 'dentist', 'department', 'dependent', 'depends', 'deploying', 'deployment', 'deployments', 'depreciate', 'der', 'derryxowners', 'des', 'dese', 'desertbeacon', 'design', 'designed', 'designers', 'designs', 'desire', 'desire2learn', 'desired', 'desk', 'desktop', 'desperatehousewives', 'despite', 'destination', 'destroying', 'detailed', 'detailing', 'details', 'detection', 'determine', 'dev', 'develop', 'developed', 'developer', 'developers', 'developing', 'development', 'device', 'devices', 'devproblems', 'devreach', 'dezz', 'deár', 'dff', 'dffkvnsj', 'dggsnoh2', 'dgikwyoi', 'dgnbsbuj', 'dhilipsiva', 'di9qkga5', 'diannaagron', 'dias', 'diaz', 'dick', 'dickcostolo', 'dicks', 'dicn', 'dictation', 'did', 'didn', 'didnt', 'die', 'died', 'diego', 'dien', 'diff', 'difference', 'different', 'differs', 'difficult', 'difficulties', 'difqtmwm', 'digg', 'digging', 'diggita', 'digit', 'digital', 'digitally', 'digitalstrategy', 'dijo', 'dilation', 'dine', 'dinner', 'direct', 'directional', 'directions', 'directly', 'director', 'directs', 'dis', 'disabled', 'disabling', 'disagree', 'disappear', 'disappoint', 'disappointed', 'disappointing', 'disappointmen', 'disappointment', 'disaster', 'disclosed', 'discontinued', 'discount', 'discover', 'discovery', 'discu', 'discuss', 'discussing', 'discussion', 'disguise', 'dishing', 'disney', 'display', 'disruptions', 'dissent', 'disses', 'distractions', 'distributing', 'distrust', 'disturbin', 'ditch', 'div_spartan', 'divisions', 'dizzleb19', 'dj_bmoney', 'dj_nasty16', 'djsp2g5b', 'djtrebel1', 'dl3cnteu', 'dl68lkqu', 'dl9crczy', 'dlc', 'dllabuak', 'dm', 'dm4actyv', 'dms', 'dmvtfsvg', 'dn3qwkkb', 'dniokchp', 'dnt', 'dnwy6mqx', 'do', 'doc', 'dock', 'docs', 'document', 'documentary', 'documents', 'dodged', 'dodgy', 'doe', 'does', 'doesanyoneknow', 'doesn', 'doesnt', 'dog', 'dogs', 'dohdenmg', 'doin', 'doing', 'doj', 'dollar', 'dollars', 'domain', 'domination', 'don', 'donate', 'donated', 'done', 'donorschoose', 'dont', 'dontbemadatmebecause', 'doomed', 'door', 'doorstep', 'dope', 'dopest', 'dose', 'dosent', 'dostupan', 'dotnet', 'double', 'doubt', 'douchebags', 'doug', 'doug_newton', 'dough', 'down', 'downgrade', 'download', 'downloadable', 'downloaded', 'downloading', 'downloads', 'downtown', 'downward', 'dozens', 'dplbpqho', 'dpr', 'drain', 'drakes', 'drawlin', 'dream', 'dreamhost', 'dreaming', 'dreams', 'drew', 'drewbezanson', 'drink', 'drive', 'driver', 'driving', 'drkhan', 'droid', 'droidbionic', 'droidtweak', 'droidtweets', 'drop', 'dropbox', 'dropped', 'dropping', 'drops', 'droptheknife', 'drugs', 'drumroll', 'drvksvf6', 'dryad', 'drying', 'dst', 'dtq23g5g', 'dtv', 'dubai', 'dubbe', 'dude', 'due', 'duet', 'duetenterprise', 'duff', 'duh', 'duhhhh', 'duk6ze2g', 'duking', 'duly', 'dumb', 'dumbass', 'dummy', 'dump', 'dumped', 'duo', 'duped', 'duplicates', 'duplicating', 'duplication', 'durable', 'durban', 'during', 'duruyoruz', 'dusting', 'duty', 'duuuuhhh', 'dvroegop', 'dwd100', 'dwtalker', 'dxbkq8q8', 'dxn6npib', 'dxrbxjkb', 'dxxklubp', 'dxzba5bg', 'dyanna299', 'dying', 'dylawnward', 'dymdmu3z', 'dynamics', 'dzhvfxvh', 'dzmphbut', 'dzsgphqt', 'e0kvstj4', 'e2evc', 'e3xk1w67', 'e44qd1u2', 'e4llmmyg', 'e5clgzsi', 'e5uhka8f', 'e8dcqo7s', 'e8umrmro', 'ea_jorge', 'each', 'ear', 'earbuds', 'earlier', 'early', 'earned', 'earnings', 'ears', 'earth', 'easier', 'easiest', 'east', 'easter', 'easy', 'eat', 'eatables', 'eating', 'eatmagazine', 'ebay', 'ebook', 'ebooks', 'eboyee', 'ecdl', 'ecji1iio', 'eclair', 'eclipsed', 'ecm', 'eco', 'ecofriendly211', 'ecogreenvalet1', 'ecommnewsupdate', 'economics', 'econsultancy', 'ect8fyia', 'ecwx3ajl', 'ed', 'edatpost', 'edbott', 'edchat', 'edge', 'editing', 'editor', 'edmaguire', 'edswoxoc', 'edu', 'edu11', 'education', 'educause', 'edugeek', 'edxe0xbd', 'eedar', 'eef3780b', 'eff', 'effect', 'effects', 'efffing', 'efficient', 'efficiently', 'effort', 'efma', 'eft', 'ega3wrr4', 'eggregiously', 'eggs', 'eh', 'eharmony', 'ehoebmdw', 'ehr', 'eight', 'eisaahmad', 'either', 'eizexun0', 'ej8a2msm', 'ejunkie', 'ekdjxo5h', 'ekh5jmgp', 'el', 'elcheicon', 'eldermltillerjr', 'elearnnet', 'electability', 'electric', 'electricsoup', 'elegance', 'elevated', 'elh77r4p', 'elijahcrago', 'elishiawindfohr', 'elop', 'else', 'em', 'em2ydlrs', 'email', 'emails', 'embed', 'embracing', 'emc', 'emea', 'emergency', 'emis', 'emoji', 'emoticons', 'emp', 'empezó', 'emphasis', 'emphasize', 'empire', 'employability', 'employee', 'employees', 'employers', 'empowerment', 'empty', 'emptythreats', 'en', 'en0iacwr', 'enable', 'enabled', 'encourage', 'encouraging', 'encrypt', 'encrypted', 'encrypting', 'encryption', 'encrypts', 'encsf1ju', 'end', 'ending', 'endless', 'ends10', 'enemies', 'enemy', 'engadet', 'engadget', 'engage', 'engaged', 'engages', 'engaging', 'engine', 'engineer', 'engineering', 'engineers', 'engines', 'engt', 'enhance', 'enhancements', 'enhances', 'enjoy', 'enjoying', 'enlightened', 'enough', 'enrages', 'ensemble', 'entering', 'enterprise', 'enterprises', 'entertaining', 'entire', 'entrepreneur', 'entrepreneurs', 'entreprise', 'environment', 'environments', 'eocfm1kd', 'eorosstx', 'epharma', 'epicfail', 'epicquotesorg', 'epidemics', 'episode', 'epiv7ny5', 'epson', 'epub', 'eqazzbcz', 'eqgbhnq6', 'equal', 'equipment', 'equivalent', 'eqz4hknk', 'erfolgsspur', 'ergonomic', 'eric', 'ericgreenspan', 'ericligman', 'erika', 'erp', 'error', 'errors', 'ery', 'escape', 'escort', 'escorts', 'esp', 'español', 'especially', 'esphoneblog', 'espn', 'esque', 'esse', 'essential', 'essentials', 'estate', 'esxi5', 'et', 'eta', 'etc', 'ethernet', 'ethical', 'ethiopian', 'eu', 'eupphd1w', 'europe', 'europeansp', 'euw1rsnb', 'eva', 'evacuation', 'evangelist', 'evans', 'even', 'evening', 'evenings', 'event', 'events', 'ever', 'everettcoldwell', 'evernote', 'everson', 'every', 'every1', 'everybody', 'everyday', 'everyone', 'everyoneisacritic', 'everyones', 'everything', 'everytime', 'everywhere', 'evidence', 'evil', 'evjih7od', 'evkkea8l', 'evo', 'evolution', 'evolutionofit', 'evolvetech', 'ewfffl35', 'ex', 'exact', 'exactly', 'exam', 'examine', 'example', 'exams', 'exbyurkl', 'excel', 'excellent', 'except', 'exception', 'exchange', 'exchange2010', 'exchg', 'excited', 'exciting', 'exclaims', 'excludes', 'exclusive', 'excnswwx', 'excuse', 'excuseme', 'exec', 'executive', 'executives', 'exercise', 'exhibit', 'exists', 'exorcist', 'expanded', 'expands', 'expect', 'expectations', 'expected', 'expensive', 'expensivepaperweight', 'experience', 'experiences', 'experiment', 'expert', 'experts', 'explain', 'explained', 'explaining', 'explains', 'exploded', 'exploits', 'explored', 'explorer', 'exposed', 'express', 'extend', 'extended', 'extends', 'extensivity', 'extent', 'extreme', 'extremejohn', 'extremes', 'extremists', 'ey', 'ey8goirk', 'eye', 'eyelash', 'eyes', 'eyhmhstm', 'eylm3pav', 'eylvacyn', 'ez', 'ezbtvm9z', 'ezjczlt6', 'f0rnfgpa', 'f1v3hjae', 'f4hwan6q', 'f6aztiad', 'f8ball', 'f9b14ry3', 'f9l7gnwt', 'fab', 'fabi_m', 'fac', 'face', 'facebook', 'facebookoff', 'facebookposts', 'faceboook', 'facetime', 'facial', 'facialunlock', 'fact', 'factories', 'factory', 'facts', 'faculty', 'fad', 'fade', 'fail', 'failed', 'failing', 'fails', 'failure', 'failures', 'fair', 'fairview', 'faith', 'faithmcnally', 'fake', 'fakin', 'fala', 'fall', 'fallen', 'falling', 'false', 'fam', 'family', 'famous', 'fan', 'fanatics', 'fanboys', 'fancy', 'fans', 'fansoflilwayne', 'fantastic', 'fantasy', 'far', 'farreal', 'fashionnoguilt', 'fast', 'fastcompany', 'faster', 'fat', 'fatboyfresh87', 'fatfuckingchance', 'fattest', 'fault', 'faults', 'faulty', 'favoring', 'favorite', 'fawkin', 'fb', 'fb7y5e1e', 'fbf11', 'fbjqb5ra', 'fboej2vd', 'fboff', 'fbvzq8yp', 'fcpbcqlo', 'fcucks', 'fcwxoud8', 'fcxdu7ma', 'fd1m8vn1', 'fdp', 'feat', 'feature', 'featured', 'features', 'featuring', 'feb4uimr', 'fed', 'federal', 'federal_and_co', 'feds', 'feed', 'feeding', 'feeel', 'feel', 'feeling', 'feelings', 'feels', 'feet', 'fell', 'fellow', 'fellows', 'female', 'few', 'ff', 'fg0wfywl', 'fgbcxytp', 'fic', 'ficando', 'fiction', 'fiercecio', 'fiercewireless', 'figgured', 'fight', 'figure', 'figured', 'figures', 'fiioapkt', 'fiiss', 'file', 'files', 'fileserver', 'film', 'filters', 'final', 'finalises', 'finally', 'finallycool', 'finance', 'financial', 'find', 'fine', 'finest', 'finger', 'fingers', 'fingerscrossed', 'finish', 'finland', 'finna', 'finpanther', 'firefox', 'firewire', 'firms', 'firmware', 'first', 'firstworldproblems', 'fishmama', 'fit', 'fiti6zia', 'fits', 'five', 'fix', 'fixation', 'fixed', 'fixes', 'fixing', 'fixit', 'fkrucqis', 'flash', 'flashcard', 'flat', 'flattery', 'flawless', 'fleet', 'flight', 'flip', 'flipbooks', 'flirting', 'flood', 'floridamike', 'flowers', 'flu', 'fm', 'fmanjoo', 'fml', 'fmzfwgyv', 'fn', 'fnbknwmj', 'fnkbw24f', 'fo', 'focus', 'fold', 'folder', 'folders', 'folks', 'follow', 'followback', 'followed', 'followees', 'follower', 'followers', 'followfriday', 'following', 'followlimitisgay', 'followme', 'follownow', 'follows', 'fone', 'font', 'foodie', 'foolish', 'football', 'for', 'forbes', 'force', 'forced', 'forces', 'ford', 'forever', 'foreveralone', 'foreverfit4u', 'forget', 'forgettin', 'forgetting', 'forgive', 'forgot', 'forgotten', 'form', 'format', 'former', 'forms', 'forstall', 'forsure', 'forth', 'fortunately', 'forum', 'forward', 'fotografia', 'found', 'foundation', 'founder', 'foundersfund', 'four', 'fox', 'fpv2ydof', 'fpvkn1kj', 'fqbfdiye', 'fqlhyaat', 'fqspn4an', 'frame', 'framework', 'fran_mac_', 'francisco', 'frankhenchusa', 'freakbull_', 'freaked', 'freaking', 'freaks', 'fredbenenson', 'free', 'free_nuttball', 'freedom', 'freelance', 'freelancer', 'freesoftwarefoundation', 'freestyle', 'freeze', 'freezes', 'freezing', 'fregon', 'french', 'frequently', 'fresh', 'freshened', 'fri', 'fried', 'friend', 'friendliness', 'friends', 'friendship', 'friggin', 'frizzy_drizzy', 'frm', 'frnds', 'from', 'front', 'frontpage', 'frown', 'froze', 'frozen', 'fruit', 'fruits', 'frustrated', 'frustration', 'fs', 'fsf', 'fslfpmob', 'ft', 'ftl', 'ftlttlpn', 'ftw', 'fu', 'fuck', 'fucka', 'fucked', 'fucker', 'fuckin', 'fucking', 'fuckingpissed', 'fuckingshinez', 'fuckinup', 'fucknwithfatty', 'fucks', 'fucktec', 'fuckyoumean', 'fue', 'fue4vxxe', 'fuel', 'fuh', 'fuieskecido', 'ful1time', 'full', 'fully', 'fun', 'function', 'functionality', 'functioning', 'functions', 'fundingroadmap', 'funds', 'funniest', 'funny', 'funnyyyyyyy', 'future', 'futuristic', 'fuzzball', 'fwm', 'fx2', 'fxck', 'fxhomehitfilm', 'fytcyeg2', 'fyyiimix', 'fz216oij', 'für', 'g0elvrvj', 'g4cobopl', 'g6eofuyy', 'g8uof7uz', 'ga', 'gaabisfc_', 'gadget_guy', 'gadgeteer', 'gadgets', 'gah', 'gain', 'galaxy', 'galaxynexus', 'gallery', 'galuhoktriana', 'game', 'gamecenter', 'gamerchik16', 'gamers', 'games', 'gaming', 'ganna', 'gapeyl5n', 'garbage', 'garden', 'garmin', 'garner', 'garr_williams', 'gartner', 'gartnersym', 'gate', 'gates', 'gateways', 'gatos', 'gave', 'gay', 'gazette', 'gazmaz', 'gb', 'gbkv9pbq', 'gcicpex4', 'gcrpukwf', 'gcy8iphn', 'gd', 'gdapps', 'gdcurry', 'gear', 'gee', 'geecloud', 'geek', 'geekfact', 'geekosystem', 'geeks', 'geekwire', 'gem', 'gemini', 'gems', 'gen', 'generate', 'generation', 'generator', 'genius', 'geniusbar', 'gentle', 'genuine', 'geo', 'geographic', 'geographictarget', 'geolocation', 'geoloco', 'gerardopaolillo', 'german', 'gesture', 'gestures', 'get', 'getaclue', 'getglue', 'getitdone', 'getn', 'gets', 'getsamanthaofftwittereveryone', 'gettin', 'getting', 'gf', 'gforbz3', 'gfs', 'gg', 'ggbyvvu0z5s', 'gglwtslt', 'gh0tvqmo', 'ghcez2yk', 'ghost', 'ghpcgcpx', 'ghpdqalt', 'gi', 'giant', 'giants', 'gift', 'gifts', 'gigaom', 'gigs', 'gihtheij', 'gihypzwo', 'gimmie', 'ginbvlsk', 'gingerbread', 'girl', 'girlfriend', 'girlies', 'girls', 'gitex', 'giuseppepietta', 'give', 'giveaway', 'gives', 'givin', 'giving', 'gizmo', 'gizmodo', 'gjiu2zz1', 'gk6yjtfy', 'gklxmui6', 'gkohbpn8', 'gkumaran', 'gl', 'glaad', 'glad', 'glaralopez', 'glass', 'glee', 'glendale', 'glitch', 'glluqitj', 'gloaxhle', 'global', 'globally', 'globe', 'glorified', 'glyzoxmc', 'gm', 'gmail', 'gmic', 'gmsgxcq8', 'gmt9slfn', 'gmusic', 'gn', 'gncdgqsc', 'gnu', 'gny9g07b', 'go', 'goalset', 'god', 'godbless', 'gods', 'goedegebuure', 'goes', 'goin', 'going', 'gold', 'gon', 'gona', 'gone', 'gonna', 'goo', 'good', 'goodbye', 'goodmorning', 'goodmourning', 'goodnight', 'goodnightworld', 'goodnite', 'goodnitee', 'goodriddance', 'goods', 'goodsamarit', 'goodsamaritanswag', 'goodtoknow', 'goodwill', 'goof', 'goog', 'googland', 'google', 'googleapps', 'googledocs', 'googledownunder', 'googlemusic', 'googlenews', 'googlenexus', 'googlephone', 'googleplus', 'googlepresentations', 'googleresearch', 'googles', 'googlesearch', 'googling', 'gooodnight', 'goose', 'goqgjvvb', 'gordf5dj', 'gosocial', 'got', 'gotcha', 'gotta', 'gotten', 'gov', 'governance', 'government', 'governor', 'govhs', 'gowhitedawg', 'gp', 'gp8tirxn', 'gp_jman852', 'gpb2mjfw', 'gplus', 'gpo', 'gps', 'gqqyqbag', 'gr', 'grab', 'grabs', 'grahamgoingham', 'grandma', 'granting', 'graphic', 'graphicsworkstation', 'grass', 'gratis', 'gray', 'grazitti', 'greader', 'great', 'greater', 'greatly', 'greatsuccess', 'greedy', 'greener', 'greenest', 'greenpower', 'greenrankings', 'greenwich', 'gregulator0', 'gretcheneclark', 'grew', 'grhbooar', 'grind', 'gross', 'ground', 'group', 'groupies', 'groupon', 'groupwise', 'grown', 'growth', 'growuppeterpan', 'grrrr', 'gruber', 'grumbledook', 'gsa', 'gsi', 'gsmarena_com', 'gt', 'gtojxlhh', 'gtqdvfxo', 'gu7sckxl', 'guae', 'guarantee', 'guarantees', 'guarded', 'guardian', 'guardiantech', 'gud', 'guess', 'guessers', 'guests', 'gui', 'guide', 'gulp', 'gun', 'gundotra', 'gunna', 'guns', 'guru', 'guy', 'guys', 'gv1edcvp', 'gvbdhliu', 'gwgoddess', 'gwi35vtp', 'gwokoceg', 'gx07qywe', 'gxvkqi6z', 'gyge5sca', 'gyguyr64', 'gym6puux', 'gzmdzvle', 'h0gscvzr', 'h1a3v7zv', 'h4ouzdok', 'h8geayt5', 'h8n7casg', 'h8pyttyr', 'ha', 'haah', 'hack', 'hacked', 'hacker', 'hackers', 'had', 'hadoop', 'haendel', 'haendelbalzora', 'hah', 'haha', 'hahaha', 'hahahahaha', 'hahahahahaha', 'hailfire101', 'hairline', 'hairs', 'hak', 'half', 'hall', 'ham', 'hammer', 'hand', 'handheld', 'handle', 'handled', 'handling', 'hands', 'hands_on', 'handsets', 'handy', 'hang', 'hanging', 'hangouts', 'hannahmccall1', 'hanrahan52', 'happen', 'happened', 'happening', 'happens', 'happier', 'happy', 'happyplace', 'hard', 'harder', 'hardware', 'harmonix', 'harshgandhitk', 'has', 'hasanga', 'hashtags', 'hasn', 'hat', 'hate', 'hated', 'hater', 'hates', 'hatin', 'hating', 'have', 'haven', 'havin', 'having', 'hawaii', 'haxxdubbz', 'hay', 'hblodget', 'hbogo', 'hckjxz4k', 'hcr3fspd', 'hcsmeu', 'hd', 'hdd', 'hdljwzaw', 'hdmi', 'hdv', 'he', 'head', 'headache', 'headed', 'headers', 'headings', 'headline', 'headphones', 'headquarters', 'health', 'healthinformation', 'healthit', 'healthvault', 'healthy', 'hear', 'heard', 'heart', 'hearts', 'heatmeup', 'heaven', 'heavily', 'heck', 'hectic', 'hectoralteto', 'hehe', 'hell', 'hella', 'hello', 'hellyeah', 'help', 'helped', 'helpful', 'helping', 'helpme', 'helps', 'helsinki', 'hemo', 'hennessynation', 'her', 'herahussain', 'here', 'hermancain', 'hero', 'hersheytech', 'hes', 'heute', 'hey', 'hfwpbmy6', 'hfzf2cje', 'hghmpose', 'hhamwm8k', 'hhfjbbhu', 'hhkvlwfb', 'hi', 'hi1cq2si', 'hibjxhvd', 'hide', 'hides', 'high', 'highlight', 'highlights', 'highly', 'highscoolmemories', 'hijqpbso', 'hilarious', 'hillsdale', 'him', 'hindi', 'hints', 'hip', 'hipster', 'hire', 'hirudineajigane', 'his', 'hispanicbizmag', 'hispanics', 'hiss', 'hissy', 'history', 'hit', 'hitech', 'hits', 'hitting', 'hj8qloc9', 'hk', 'hkcbc7pm', 'hkk3qmme', 'hlgnvlrw', 'hlickxpv', 'hlrxf2df', 'hlybd7uc', 'hm', 'hm2x3yim', 'hmm', 'hmmm', 'hmmmm', 'hmt51bdf', 'hnews', 'hnrzdfk5', 'hnxvwypp', 'ho', 'hob37hbo', 'hockey', 'hoes', 'hofmania', 'hogwarts', 'hoh', 'hoje', 'hojx73hh', 'hold', 'holder', 'holding', 'holiday', 'hollycash', 'holodeck', 'holodesk', 'holographic', 'home', 'homepage', 'homies', 'honeka', 'honest', 'honey', 'honeycomb', 'hong', 'honor', 'honored', 'hoo', 'hoodmemories', 'hook', 'hooked', 'hookup', 'hooray', 'hope', 'hopeful', 'hopefully', 'hoping', 'horizontal', 'horrible', 'horse', 'hospital', 'host', 'hosted', 'hosting', 'hot', 'hotel', 'hotspots', 'hour', 'hourly', 'hours', 'house', 'household', 'housemusic', 'housewives', 'houston', 'how', 'howardmortman', 'however', 'howl', 'howto', 'hoy', 'hp', 'hpc', 'hpc_guru', 'hpci', 'hpvirtualsystem', 'hq', 'hr', 'hrkwt2va', 'hrs', 'ht', 'htc', 'html5', 'htputbfk', 'htt', 'http', 'https', 'hubby', 'hubo', 'hubspot', 'hudl', 'huffington', 'huffpost', 'huge', 'hugo', 'huh', 'hulu', 'human', 'humantrafficking', 'humble', 'humor', 'humpt', 'hungry', 'hurry', 'hurt', 'hurting', 'hurts', 'hush', 'hut', 'hut3fqya', 'hv2oi81b', 'hwa4twic', 'hwzziekk', 'hx21e1jk', 'hxsalzpv', 'hybrid', 'hype', 'hyper', 'hyperv', 'hypo', 'hypocritical', 'hze1tqal', 'håper', 'i0s5', 'i1khkgjm', 'i2a', 'i4s', 'i6r95xgk', 'i6woujuh', 'i6ywq7or', 'i8sw5udz', 'iahhagxy', 'iamdkt', 'iamroyaltyfresh', 'iamsrk', 'iamtinathompson', 'iancollinsuk', 'ibad', 'ibm', 'ibmconnections', 'ibmwatson', 'ibooks', 'ical', 'icar', 'ice', 'ice_cream_sandwich', 'icecream', 'icecreamsandwhich', 'icecreamsandwich', 'icecreamsandwichandroid', 'icecreamsandwichevent', 'icecreamsandwichfail', 'icelebrates', 'icloud', 'iclould', 'icon', 'icons', 'icpc', 'ics', 'ict', 'id', 'idea', 'ideas', 'identify', 'identity', 'idgafboutyou', 'idisk', 'idk', 'idontunderstand', 'idtheftprotect', 'ie', 'ie6', 'ie8', 'ie9', 'if', 'if3ivlwn', 'ifb', 'iflb5ehj', 'ifollowback', 'ifxu5za0', 'ig3gi4qd', 'ig4qm3sn', 'igainfollows', 'igen', 'igenius', 'iggyet9s', 'igiveup', 'ignore', 'igohard_noboner', 'igorlilmonster', 'igq9kdil', 'ihateitwhen', 'ihateyourightnow', 'ihelpline', 'ihnatko', 'ihs', 'ihts3pyw', 'ii', 'iilxenki', 'ij292ye3', 'ij6xydp3', 'ijustine', 'ijwr1muj', 'ik3iq8kr', 'ikaveri', 'ikn087ze', 'ikooqdoc', 'ikzim8i5', 'iljdqbpt', 'ill', 'illustrating', 'ilovemytats', 'iloveya', 'iloveyou', 'ilqpkez0', 'ilwps3f9', 'ilygz5ox', 'im', 'ima', 'imac', 'image', 'images', 'imagine', 'imaginecup', 'imamac', 'imason_inc', 'imchokolatewhou', 'imdb', 'imediasummit', 'imessage', 'imightbewrong', 'imitation', 'imjusaskin', 'immad_immad', 'immediate', 'imminent', 'immobile', 'imo', 'impact', 'impersonation', 'implant', 'implement', 'implementation', 'implementing', 'importance', 'important', 'importantly', 'importing', 'impossible', 'impressed', 'impressions', 'impressive', 'improve', 'improvement', 'improvements', 'improves', 'in', 'in2', 'ina', 'inanimate', 'inbox', 'inbuilt', 'inc', 'incapable', 'incase', 'incentive', 'incl', 'include', 'included', 'includes', 'including', 'incomparable', 'incompatible', 'inconvenienced', 'inconvenient', 'incorrect', 'increase', 'increasing', 'incredible', 'ind', 'indeed', 'index', 'indexed', 'india', 'indian', 'indians', 'indicator', 'indie', 'individual', 'industry', 'ineedadoctor', 'ineedthosepictures', 'ineedtoupdate', 'inend', 'inept', 'inez260', 'infamarketplace', 'infamous', 'inferno', 'infinite', 'infinitywebinar', 'influential', 'info', 'infofail', 'infograhpic', 'infographic', 'inform', 'information', 'informationweek', 'inforpath', 'infosys', 'infringement', 'initialisms', 'initiative', 'injunction', 'ink', 'inline', 'inna', 'inner', 'innotive', 'innov', 'innovate', 'innovati', 'innovation', 'innovations', 'innovators', 'input', 'inqbcg68', 'insane', 'insanely', 'insert', 'insertion', 'inside', 'insight', 'insist', 'inspiration', 'inspire', 'inspired', 'inspiron', 'instagram', 'install', 'installation', 'installed', 'installer', 'installing', 'instant', 'instantfollowback', 'instantly', 'instead', 'institute', 'instruments', 'insurance', 'integrat', 'integrate', 'integrated', 'integrates', 'integrating', 'integration', 'intel', 'intellectual', 'intelligence', 'intellimatch', 'intended', 'intensifies', 'intent', 'interact', 'interacting', 'interaction', 'interactive', 'interconnect', 'interesing', 'interest', 'interested', 'interesting', 'interestng', 'interests', 'interface', 'interfaces', 'interference', 'intern', 'internal', 'internet', 'internetbh', 'internode', 'interoperability', 'interrupting', 'intervals', 'intervate', 'interview', 'interviewed', 'interviewing', 'interviews', 'into', 'intraday', 'intriguing', 'intro', 'introduce', 'introduced', 'introduces', 'introducing', 'introduction', 'intuitive', 'intune', 'invent', 'invented', 'invention', 'inventor', 'inventory', 'invested', 'investigate', 'investigating', 'investment', 'investments', 'invisible', 'involved', 'io', 'io5', 'ios', 'ios5', 'ios5atemydingo', 'ios5downgrade', 'ios_notch', 'ip', 'ip_wars', 'ipad', 'ipad1', 'ipad2', 'ipadpowerusers', 'ipads', 'ipas', 'iphome4s', 'iphone', 'iphone2', 'iphone4', 'iphone4s', 'iphone4s_nerd', 'iphone5', 'iphone_news', 'iphoneartists', 'iphonecases', 'iphones', 'iphoto', 'iplaw360', 'ipod', 'ipod4s', 'ipods', 'iqa0ipvt', 'irain', 'ireallyhatewhenpeople', 'ireton', 'irma', 'irony', 'irvine', 'irvysan', 'iryn5vis', 'is', 'isaidit', 'isb', 'iscream', 'iscsi', 'ishit', 'isn', 'isnst', 'isnt', 'iso', 'isorry', 'issue', 'issues', 'isteps', 'isuck', 'isv', 'it', 'italianjoya', 'itasum11', 'itaylor_simpson', 'itdklrry', 'item', 'items', 'iteration', 'itheperson', 'itjustworks', 'itnews_au', 'itouch', 'itouch4', 'itpro', 'its', 'its_kcheese', 'itsecurity', 'itss', 'itsthesituation', 'itstolate', 'ittraining', 'itunes', 'itunesmatch', 'itunesmusic', 'itweettechnews', 'iuaa4yue', 'iui7jtcm', 'iusxjjdq', 'iuy0df5s', 'iuykwvrq', 'ive', 'iw7kjq81', 'iwantanautomaticpromotion', 'iweb', 'iwehzoqx', 'ix4fecm2', 'ixd', 'iyo86gvj', 'iytwizzv', 'izh7kaiu', 'izo0wunt', 'j1t6khgp', 'j2ftieng', 'j332zfpo', 'j3p3kyhf', 'j8fgwwgs', 'j_roc616', 'ja9seesh', 'jaccusedz', 'jackasses', 'jackdavidson95', 'jacked', 'jackiebaaby_', 'jackiestone1', 'jackpot15', 'jacob', 'jacobstanton2', 'jaiku', 'jail', 'jailbroke', 'jailbroken', 'jaime_rivera', 'jajajajajajaj', 'jake_gyllenhaal', 'jakedizzlewins', 'jamaicanidler', 'james', 'jammers302', 'jane73', 'japan', 'jarjartee', 'jaroslovsky', 'jatfvfpm', 'javascript', 'jayscandreth', 'jbdancingmachin', 'jblank23', 'jbmsau6o', 'jcawwrzq', 'jcjbfz8w', 'jcmwright', 'jcp7bkvg', 'jd3x8sgm', 'jdougyj', 'jean', 'jedsinger', 'jeenzqdw', 'jeez', 'jeffbullas', 'jefferypjacobs', 'jennyorwuuut', 'jenweedin', 'jeremey', 'jerkoffmore', 'jerrybrown', 'jesperordrup', 'jessecablek', 'jessvpeterson', 'jesus', 'jet', 'jets', 'jewelz2611', 'jfsikora', 'jhb', 'jhdtykcv', 'jhgldej9', 'jhon_doe_smokes', 'jhoodmartin', 'ji_lee', 'jihad', 'jilive', 'jilldyche', 'jimmcniel', 'jimml4rc', 'jinnhvwz', 'jiqbgghc', 'jiv8z67u', 'jivkvbah', 'jizz', 'jjrwivmc', 'jk', 'jkotcrmb', 'jkrzygbo', 'jkzqrno6', 'jlachance04', 'jldavid', 'jlruwrf6', 'jmyt6myl', 'jnmnbs9w', 'joannejacobs', 'job', 'jobely', 'jobs', 'jodmoruf', 'joebelfiore', 'joel', 'joelburns', 'joelplane', 'john', 'johnnyvegas', 'johnodame', 'join', 'joining', 'joint', 'jokeaholic_p', 'jokes', 'joking', 'jolieesharmeda', 'jolly', 'jomanerh', 'jomucrmb', 'jon4lakers', 'jonjars', 'jonsibley', 'joseph', 'journalists', 'jowyang', 'jpobrien11', 'jr', 'jrc4qstj', 'jsq96nuq', 'jtbrownn', 'jte7vudk', 'juanhustle', 'juani_2', 'judge', 'judgegregmathis', 'juice', 'julia', 'jump', 'jumpin', 'jumps', 'junk', 'junkie', 'junkyard', 'jure', 'jus', 'just', 'justbecause', 'justice', 'justin', 'justinbieber', 'justsayin', 'justsaying', 'jw1ubodi', 'jwspetbd', 'jxhfhptj', 'jxpuvecs', 'jyxk7okc', 'jzmvbdnm', 'já', 'k074n0z2', 'k0tksz1o', 'k10svnnr', 'k1kdqz04', 'k2qyy9ex', 'k2rrc2ir', 'k3', 'k3txy6jz', 'k6bggvdx', 'k7b686hx', 'k9qst4r4', 'kaekaed', 'kahnfla7', 'kaiylw0lf', 'kalemurphy', 'kalezo', 'kalifornia', 'kanvaskings', 'kanye', 'karaoke', 'karate', 'karljuhlke', 'karth_vader_', 'karşı', 'kasper', 'katebetts', 'kathrynyee', 'katie', 'katieec7', 'kdbnjyyb', 'kdhaufdl', 'kdtd4zre', 'keep', 'keeping', 'keepnupwittboyd', 'keeps', 'keepsake', 'keepthedesktop', 'keithkeller', 'kekelauren', 'kelley', 'kentisg', 'kenya', 'kenyaopendoor', 'kept', 'kevin', 'key', 'keyboard', 'keyboards', 'keynote', 'keynotes', 'keypad', 'keys', 'keyword', 'keywords', 'kfwq8r4t', 'kgnrbvgp', 'kha1989led', 'khoslaventures', 'khtdqsho', 'kick', 'kicked', 'kickoff', 'kicks', 'kid', 'kidding', 'kids', 'kihs1hrm', 'kiite', 'kill', 'killed', 'killin', 'killin_emsoftly', 'killing', 'kimaris', 'kimdeanmusic', 'kind', 'kinda', 'kindahow', 'kinect', 'kinext', 'king', 'king_fizzy', 'kingstoncc', 'kiss', 'kissed', 'kissing', 'kit', 'kj2y69hm', 'kj6pjvkh', 'kj890kmf', 'kjkz77zy', 'kjwugom3', 'kkakfsch', 'kkdup8v1', 'kkuepmvw', 'klicks', 'klingelte', 'klmgkh5v', 'klout', 'kma7znaf', 'kmiones', 'kml', 'knew', 'knicks', 'kniz452s', 'knmpxsw0', 'kno', 'know', 'knowing', 'known', 'knows', 'knowyourmobile', 'knw', 'kobo', 'kofax', 'kojqre1q', 'kong', 'kostatsetsekas', 'kot83dxf', 'kpdxwpeb', 'kpis', 'kpslzjfc', 'kqbwwiyd', 'krause', 'ksgglndc', 'ksjh8bas', 'ksx2xzor', 'ku288wx6', 'kubkpo0t', 'kudos', 'kumarsachi', 'kursed', 'kushkitty420', 'kusi_sk', 'kvjsercj', 'kvox', 'kwfpth4p', 'kxboqskj', 'kyliemessier', 'kylisinatl', 'kymbersanden', 'kys', 'kyxunp8i', 'kzmzdxme', 'l1ld3bb13', 'l4hqkv0c', 'l4vthsv5', 'l5j2ueeq', 'l5m9uwd7', 'l5mtm6ig', 'l5uninsw', 'l6brf3yb', 'l86owqre', 'l8rsx1yf', 'l_evenement', 'la', 'lab', 'labs', 'lack', 'lacks', 'lady', 'lag', 'lager', 'laggin', 'laid', 'lame', 'lamontagne', 'land', 'landing', 'landscape', 'lang', 'language', 'languages', 'lançam', 'lapse', 'laptop', 'laptopwebcam', 'laser', 'lasn4ol0', 'last', 'lasted', 'latc214', 'late', 'late_show', 'later', 'latest', 'latina', 'latiola', 'latter', 'laugh', 'laughable', 'laughs', 'launch', 'launched', 'launches', 'launchfail', 'launching', 'laundering', 'law', 'laws', 'lawsuit', 'lawsuits', 'lay', 'laying', 'layout', 'lays', 'lazy', 'lbn_prod', 'lcashdol', 'lcmediahouse', 'lcrww4ld', 'lctpxhf5', 'lcuvlvad', 'lcxa9q8p', 'lcznpdhr', 'ld2i871x', 'le', 'lead', 'leader', 'leadership', 'leading', 'league', 'leak', 'leaked', 'lean', 'leaning', 'leap', 'learmonth', 'learn', 'learned', 'learning', 'least', 'leave', 'leaves', 'leaving', 'leawood', 'lecko_alx', 'lecture', 'led', 'left', 'leg3nd', 'legacy', 'legal', 'legiondachosen1', 'legooo', 'leiboaz', 'leland', 'lemme', 'lentess', 'leolaporte', 'leopard', 'less', 'lesson', 'let', 'letdown', 'letme', 'lets', 'letter', 'letting', 'levine', 'leviti09', 'lf03zkuz', 'lf3rktcj', 'lfppk5yk', 'lg', 'lgfw', 'lgtx40um', 'lh6proam', 'li', 'libraries', 'licensing', 'licia0321', 'lie', 'lied', 'lien', 'lies', 'life', 'lifecam', 'lifted', 'light', 'lightly', 'lightning', 'lightswitch', 'lik', 'like', 'liked', 'likely', 'likes', 'liking', 'lil', 'lil_ham05', 'limit', 'limited', 'limitless', 'linas', 'line', 'lined', 'lines', 'link', 'linkedin', 'links', 'linq', 'linux', 'lion', 'lisa', 'lisa_marie1987', 'list', 'listed', 'listen', 'listening', 'listing', 'literally', 'little', 'live', 'liveblog', 'lives', 'livestream', 'living', 'lizpope', 'ljin0see', 'ljlc6yzs', 'ljpgvzjt', 'lk', 'lkjhqrnr', 'lkm2jzin', 'll', 'll61rx2r', 'lljpgm2a', 'lls', 'llslrxfm', 'llssss', 'lm79zlwa', 'lmao', 'lmaoo', 'lmfao', 'lms', 'lnegf7kn', 'lo', 'load', 'loads', 'loathe', 'lobby', 'local', 'localjoost', 'locate', 'located', 'location', 'lock', 'locked', 'locks', 'lockscreen', 'log', 'logged', 'logging', 'logic', 'logic2020', 'logicx', 'login', 'logitech', 'logo', 'logoninjas', 'lol', 'lolol', 'lolz', 'london', 'lonely', 'long', 'longer', 'look', 'lookin', 'looking', 'lookout', 'looks', 'lookup', 'lool', 'looong', 'loop', 'loose', 'lord', 'lords', 'loriboolive', 'los', 'lose', 'loses', 'losing', 'loss', 'lost', 'lot', 'lots', 'loud', 'lovatics', 'love', 'loveable_letty8', 'loved', 'lovee', 'loveguru_b', 'lovely_mstoya', 'lovemyiphone', 'lovers', 'loves', 'lovethem', 'lovin', 'loving', 'low', 'lowdown', 'lower', 'loyalty', 'lp', 'lpb9n510', 'lsftp8rl', 'lt', 'lt4m2hh4', 'ltcartoon', 'ltrc34vg', 'ltws9xvx', 'lucasblack', 'luck', 'lucky', 'lucky_2_have', 'lucrative', 'luisfitq', 'lukerussell1', 'lunch', 'lunched', 'lure', 'luzern', 'lvffdcel', 'lvzjnrps', 'lwflxasl', 'lwjp9giu', 'lwtpxejo', 'lwuys0up', 'ly', 'lync', 'lzjmtgq9', 'm0otpgem', 'm10135', 'm2fqakyr', 'm2uggiev', 'm3', 'ma', 'mac', 'macbook', 'macbookpro', 'macbreak', 'macdej', 'machado', 'machine', 'macintosh', 'mack', 'maclife', 'macos', 'macosc', 'macro', 'mactard', 'macworld', 'mad', 'maddening', 'maddox', 'made', 'madness', 'madtruckman', 'magazine', 'magazines', 'maggadget', 'magic', 'magical', 'magically', 'mahimakurra', 'mail', 'main', 'mainey_maine', 'mainly', 'maintenance', 'mais', 'major', 'majorfail', 'make', 'makemeproud', 'makes', 'makesnomovetogetupfromcomputer', 'makethatlink', 'makeup', 'making', 'malia', 'mall', 'man', 'manage', 'managed', 'management', 'manager', 'mandarin', 'mane', 'manelfmartinez', 'mango', 'manhole', 'manipulate', 'mann', 'manny', 'mannymarroquin', 'mansion', 'manually', 'manwitpurpose50', 'many', 'maoqaplh', 'map', 'maps', 'marcdaley', 'marcfletcher', 'march', 'marcmonster', 'marcoarment', 'marijuana', 'mariomussolini', 'mariospr', 'mark', 'mark_newton', 'markcullum1', 'market', 'marketeer', 'marketer', 'marketers', 'marketing', 'marketplace', 'markets', 'marks', 'markstuver', 'marlorific', 'marroquin', 'mary', 'maryland', 'mashable', 'mashbusiness', 'massconfusion', 'massive', 'master', 'match', 'matter', 'matthewgphy', 'mattimooz', 'mattmarcheski', 'mattsloyer', 'mattyriesz', 'maurogarcia92', 'maven_infosoft', 'maximize', 'may', 'mayati', 'maybe', 'mayne', 'mb', 'mbl', 'mbp', 'mcala', 'mcbride', 'mccready', 'mchammer', 'mckellip', 'mcommerce', 'mcp', 'mcp111', 'mcse', 'mctsummitna', 'mcw78vtg', 'mcz9rsdf', 'mdhughes', 'mdqhb6x3', 'me', 'me_cedez', 'mean', 'means', 'meant', 'measure', 'med', 'media', 'media_guerilla', 'mediagofer', 'mediatip', 'medical', 'meego', 'meekly', 'meet', 'meeting', 'mega', 'meghankel', 'meh', 'mein', 'meko2301', 'melaleucathewellnesscompany', 'melbourne', 'melkhdb7', 'mellee_love', 'mellon', 'melodybtcc', 'melted', 'melts', 'member', 'memorial', 'memories', 'memory', 'memos', 'men', 'mena', 'mention', 'mentioned', 'mentions', 'mentor', 'menu', 'merchandising', 'mercy', 'merge', 'mesmo', 'mess', 'message', 'messages', 'messaging', 'messed', 'messy', 'met', 'meta', 'metacon', 'metalogix', 'methinks', 'metro', 'meu', 'mexer', 'mf', 'mfgquzku', 'mgmnt', 'mgn9gzz1', 'mi', 'mia', 'miam', 'miami', 'mic', 'mica', 'mich', 'michaelkroker', 'michaelmark', 'michigan', 'michiganders', 'mickh87', 'micr', 'microso', 'microsof', 'microsoft', 'microsoft_edu', 'microsofthelps', 'microsoftlatam', 'microsoftstores', 'middle', 'midnight', 'might', 'mightily', 'mighty', 'migrate', 'migrating', 'mike', 'mikedunn', 'mikeferri', 'mikemccready', 'mikeshat', 'mikeshatzkin', 'milatus', 'milestone', 'miley', 'mileycyrus', 'milky', 'mill', 'millenia', 'milli', 'million', 'millions', 'mim', 'mimecastsa', 'mimgwgwo', 'min', 'mind', 'mindphucked', 'minds', 'mindshare', 'mindtree', 'mindtree_pr', 'mine', 'minecraft', 'mines', 'minha', 'minis', 'ministeronline', 'minority', 'mins', 'minus', 'minute', 'minutes', 'mirroring', 'misread', 'miss', 'missayunnaaa', 'missed', 'missing', 'mission', 'misthang2u', 'mistry', 'mitchjoel', 'mix', 'mixedchik22', 'mixer', 'mixtape', 'mizzspicey', 'mjhroa7l', 'mjyslzie', 'mk8pv0tn', 'mkii', 'mkt', 'mm', 'mmm', 'mmmm', 'mms14pdw', 'mmurrayphoto', 'mn2nova', 'mn39r2vc', 'mnamu0xf', 'mnr1hix2', 'mo', 'mo4jtptl', 'mob', 'mobil', 'mobile', 'mobileburn', 'mobiledevice', 'mobileme', 'mobilemem', 'mobilenews', 'mobiletechworld', 'mocks', 'mode', 'model', 'models', 'modern', 'modernfamily', 'modify', 'moe', 'mohamedg', 'mohoisham', 'mole', 'molifer26', 'molleymoody', 'mom', 'moment', 'moments', 'momma', 'mommy', 'mommy_gaga', 'moms', 'mon', 'monday', 'money', 'monica', 'monicaac_', 'moniqueprothero', 'monitor', 'monitoring', 'monitors', 'monkeys', 'monopolistic', 'monopoly', 'month', 'months', 'montrelcox', 'monty', 'monumental', 'mood', 'more', 'morning', 'moron', 'morphy', 'mortar', 'most', 'mostly', 'mothafuckin', 'mother', 'mothers', 'moto', 'motoactiv', 'motoactv', 'motorola', 'mountainview', 'mourning', 'mouse', 'mousecombos', 'mouth', 'move', 'movement', 'movie', 'movies', 'moving', 'mp', 'mp3', 'mpbzyl72', 'mpeagler', 'mpn', 'mpromo', 'mpzoilrs', 'mquojaaf', 'mr', 'mr_a_johnson', 'mr_lister', 'mr_malie504', 'mrgareth', 'mrjkoxno', 'mrkt', 'mrng', 'mrrobinson', 'mrtonysays', 'ms', 'ms06fehi', 'ms11', 'ms6awix4', 'msamberpriley', 'msantram', 'msanywhere', 'mscariefwr', 'mscre', 'msdn', 'msdynerp', 'msft', 'msftdynamicserp', 'msftresearch', 'msftsecresponse', 'msftstore', 'msg', 'msgs', 'mshfeqe6', 'msleamichele', 'mslearning', 'msn', 'mspartners', 'mspegypt', 'msqsvmdk', 'mstapoutbarbie', 'msteched', 'mswx6eo6', 'mt0vajwd', 'mt9rdrcz', 'mtdvroij', 'mtk3xz2l', 'mtnbj9hd', 'mts11', 'mtu7tgx7', 'much', 'muchhh', 'mug', 'mugambi', 'muh', 'muhaimin', 'mui_dziak', 'mulling', 'multi', 'multilang', 'multimedia', 'multiple', 'multitasking', 'multitenant', 'multitouch', 'murainer', 'music', 'musicaa', 'must', 'mustfollow', 'mustread', 'mute', 'muthafucka', 'muuwbgpn', 'mv', 'mvdcd0v8', 'mvm549', 'mvp', 'mvpbuzz', 'mw22mjog', 'mw3', 'mwlpnwtm', 'mx2bmy3o', 'my', 'myhoopdreams', 'mylzfmrq', 'mymelange', 'mynextphone', 'myself', 'myspace', 'n2gc2gk4', 'n4cpu3vj', 'n4lewray', 'n6lr23kj', 'n8ky79pq', 'n9', 'nada', 'nafaexuh', 'nagoul1', 'nagoya', 'nam', 'name', 'named', 'names', 'naming', 'nand_krish007', 'nandamaulida', 'nanotech', 'nansen', 'napviot8', 'nasa', 'nascarwriter', 'nascent', 'nasqbmat', 'nasty', 'nat', 'nataliajones', 'natemarozzi', 'national', 'nationalgeographic', 'nationaltv', 'native', 'natural', 'nauseous', 'nav', 'navigate', 'navigation', 'navteq', 'naw', 'nawwaf91', 'nayarivera', 'nb4dhlsg', 'ncqrwpyb', 'nd', 'ndk', 'ndpyfvpk', 'ndrpciy9', 'nds5b4ej', 'near', 'nearest', 'nearly', 'neat', 'neck', 'nedraallmond', 'neea', 'need', 'need4s', 'needed', 'needless', 'neednewipadguide', 'needs', 'needs2b', 'needsomethingtoread', 'negative', 'negro', 'nehra', 'nejbye', 'nem', 'neon_ness', 'neowin', 'neowinfeed', 'neqhcjsy', 'nerdboner', 'nerdiness', 'nerve', 'nervous', 'net', 'netapp', 'netbooks', 'netscape', 'netteo81', 'network', 'networkin', 'networks', 'networkspecs', 'never', 'new', 'newbestfriends', 'newer', 'newest', 'newfeature', 'newly', 'news', 'news360app', 'newspaper', 'newsstand', 'newstand', 'newsweek', 'newton', 'next', 'nexttime', 'nexus', 'nexus1', 'nexus_prime', 'nexusprime', 'nexuss', 'nfc', 'nfl', 'nfpvegdk', 'nfwcqd9r', 'nice', 'nicehire', 'nicholi57', 'nick', 'nicki', 'nickthefnicon', 'nicolaziady', 'nicolebanyots', 'nicolelil', 'nigga', 'niggas', 'nigh', 'night', 'nightattheroxbury', 'nightmares', 'nighty', 'nike', 'nikki_bobo', 'nine_oh', 'ninguem', 'ninguém', 'nintendo', 'nintex', 'niqht', 'nirvana', 'nisksml4', 'nite', 'nitee', 'njthoi2x', 'njthu7tm', 'nkhuom7u', 'nkpjgp3w', 'nl9e08q7', 'nlcxocuz', 'nldtu5oy', 'nlevenbrown', 'nm30ugqq', 'nn8oiett', 'nnvy8np2', 'no', 'noarchive', 'nobigdeal', 'nobody', 'nobueno', 'noez', 'nofollowed', 'nohelp', 'noite', 'noiva', 'nokia', 'nokia800', 'nokian9', 'non', 'none', 'nonimsi', 'nonstop', 'nonusatimezonel', 'nookie', 'noowwwwww', 'nopatience', 'nope', 'nor', 'noreallyihearvoices', 'noreply', 'nortel', 'northpark', 'norway', 'nostalgia', 'not', 'notbook', 'notch', 'notcool', 'note', 'notebook', 'notebooks', 'noted', 'notes', 'notesinthecloud', 'notgoingtolast', 'nothappy', 'nothing', 'noticed', 'notification', 'notifications', 'notified', 'notifies', 'notify', 'notjustaboutthephone', 'notleifgarrett', 'notreally', 'notresponding', 'notsosuperpro', 'nov', 'novatyler', 'novel', 'novell', 'novelty', 'november', 'novidade', 'novo', 'now', 'nowhere', 'nowicanspendevenmoretimeonmyphone', 'nowplaying', 'nowthatsbasic_', 'noww', 'nowww', 'npz2kwmq', 'nsaisrip', 'nshlfiux', 'nspqbzfz', 'nt', 'ntchat', 'nttdocomo', 'nuance', 'nuevo', 'nugget', 'nui', 'number', 'numbering', 'numbers', 'numerouno', 'numm5n3u', 'nur', 'nuther', 'nuts', 'nvd7mqvk', 'nvida2', 'nvnns7vr', 'nwi63ghb', 'nwlalddd', 'nwmbsevm', 'nx', 'nx3000', 'nxc7wo4s', 'ny', 'nyc', 'nyerrr', 'nyjhknou', 'nyquil', 'nytimes', 'nz', 'nzhbzzw3', 'o07moli4', 'o2', 'o3', 'o35vv1wt', 'o3hyxbxh', 'o3m07opc', 'o3oh3ypb', 'o7thrxpr', 'o7vjl4tl', 'o7zqny7k', 'o9v1j49v', 'o_o', 'obamaphile', 'obinnaosobalu', 'obituaries', 'objects', 'obnoxious', 'obscure', 'obsessions', 'obsexxed69', 'obsolete', 'obuxexci', 'obvious', 'obviously', 'obvs', 'occupy', 'occupy_wall_street', 'occupywallst', 'occupywallstreet', 'occur', 'ocre5fwu', 'ocs', 'oct', 'october', 'ocuupy', 'odbc', 'odd', 'oe9imdob', 'oem', 'oeurmtlx', 'oezk9iv1', 'of', 'ofa_ia', 'off', 'offer', 'offering', 'offerings', 'offers', 'offf', 'office', 'office2007', 'office2010', 'office365', 'officesuites', 'official', 'officially', 'offing', 'offline', 'offtoshower', 'ofh9ptag', 'ofmy', 'often', 'ofxunqhy', 'ogkayzo7', 'ogoakrbf', 'oh', 'oh8btu2e', 'ohbevxdp', 'ohemgee', 'ohnonotagain', 'oimnakvf', 'oizgnxgt', 'ojykycfo', 'ok', 'okadestate', 'okay', 'okcwnrpq', 'oktraysu', 'okuprettybut', 'old', 'older', 'oldivory', 'olelady', 'omap4460', 'omfg', 'omg', 'omission', 'omni', 'omnitouch', 'omnomnomnom', 'omxjhzh0', 'on', 'once', 'onda', 'ondxwper', 'one', 'ones', 'onl', 'online', 'only', 'onthebigscreen', 'onto', 'oodugpqg', 'oof', 'oomf', 'oops', 'oovoo', 'op', 'op379ycf', 'open', 'opening', 'openletter', 'opens', 'opensource', 'opentext', 'operating', 'operation', 'operations', 'operator', 'opinion', 'opinions', 'opjnrxlb', 'opportunities', 'opportunity', 'opposite', 'optimization', 'optimus7', 'option', 'options', 'oqjrryfq', 'or', 'oracle', 'orange', 'oranges', 'oranise', 'orbital', 'orcamera', 'order', 'ordered', 'ordering', 'orders', 'ordg1z2f', 'organic', 'organise', 'organizations', 'organizing', 'orging', 'original', 'orktnt7r', 'orkut', 'orlando', 'os', 'oseqht7w', 'oshpyv2g', 'oswefixz', 'osx', 'ota', 'ota4rqi9', 'otbwkxo9', 'other', 'others', 'otherwise', 'otqfw9xq', 'otvmqxj2', 'ou', 'ou7k39ge', 'ouch', 'ougsb108', 'our', 'ours', 'out', 'outbound', 'outdated', 'outfits', 'outlaws', 'outlook', 'outside', 'outt', 'outta', 'ov', 'ova', 'over', 'overall', 'overbearing', 'overboard', 'overcapacity', 'overcomplicated', 'overhaul', 'overview', 'overwhelmed', 'ow', 'owf25yjb', 'owhyr0yj', 'owl', 'own', 'owner', 'owners', 'ownership', 'owns', 'oxfordshire', 'oxycodone', 'oy8puvhp', 'oygo65p1', 'oyszmjvi', 'p05yr6pc', 'p1hwo73x', 'p1j', 'p2', 'p32ehduq', 'p3qhh63d', 'p4chggwg', 'p4m8xvaz', 'p5kuioox', 'p8go0gks', 'p9pmpcfl', 'pacific', 'pack', 'packaged', 'packages', 'packed', 'packtenterprise', 'pad', 'page', 'pagerank', 'pages', 'paging_dr_a', 'paid', 'paidcontent', 'paigemorse1', 'pain', 'painful', 'painfully', 'painless', 'painted', 'palmface', 'palo', 'pampers', 'pampershelloapps', 'pan_act', 'panasonic', 'pancan', 'pancreatic', 'panel', 'panorama', 'panoramas', 'panoramic', 'pants', 'paper', 'paperboy', 'para', 'paradoxicalmike', 'paranormal', 'pardus', 'parents', 'pareto', 'parisian', 'parivar', 'parker', 'parkour', 'part', 'participated', 'participation', 'particularly', 'partner', 'partnering', 'partners', 'partnership', 'partnersummit', 'parts', 'party', 'pass', 'passed', 'passing', 'password', 'past', 'pastel', 'patent', 'patented', 'patenting', 'patents', 'pathetic', 'patiently', 'paul', 'paulbentleymelb', 'paulens', 'pavilions', 'pay', 'paying', 'payme', 'payment', 'paypal', 'pbwdstmb', 'pc', 'pcam', 'pcmag', 'pcmjon', 'pcs', 'pcu88z7j', 'pcworld', 'pd', 'pdbf7h3f', 'pdf', 'pdfs', 'peace', 'pearson', 'peeps', 'peepz', 'pen', 'people', 'per', 'perceived', 'perf', 'perfect', 'perfectly', 'perform', 'performance', 'perhaps', 'perils', 'period', 'periods', 'perks', 'permission', 'pero', 'perpetual', 'person', 'personal', 'personalization', 'personally', 'personas', 'petapixel', 'peter', 'peternemcok', 'petty', 'pg5uhrmi', 'ph', 'phil', 'philanthropy', 'philipgrey', 'philliprowntree', 'philosopher', 'philosophy', 'philsimon', 'phne', 'phoenixswinger', 'phone', 'phonedog_aaron', 'phonerecord', 'phones', 'photo', 'photograherseye', 'photography', 'photos', 'photosharing', 'phr', 'phxguy88', 'physical', 'pic', 'pick', 'picked', 'picking', 'pics', 'picture', 'pictures', 'piece', 'pile', 'pills', 'pin', 'pinball', 'pinball_fx_2', 'pinch', 'ping', 'pink', 'pins', 'pinto', 'pioniq', 'piracy', 'pissed', 'pissing', 'pith', 'pitman', 'pittman', 'pittsburgh', 'pivotaltracker', 'pj', 'pjkyf0gf', 'pjpfeytf', 'pjxurwrp', 'pkedrosky', 'pkmbgsnr', 'pl4zeevh', 'place', 'placement', 'places', 'plan', 'planed', 'planet', 'planforfame', 'planking', 'planned', 'planning', 'planova', 'plans', 'plant', 'plastics', 'plate', 'platform', 'platforms', 'play', 'playa', 'playback', 'playbooks', 'played', 'player', 'players', 'playful', 'playing', 'playlist', 'playlists', 'plays', 'playstation', 'pleasant', 'please', 'pleased', 'pleasure', 'plot', 'pls', 'plse', 'pltitgei', 'plugged', 'plugin', 'plus', 'plusone', 'plz', 'pm6wxvqb', 'pmanmoah', 'pmecxpug', 'pmphillips', 'pms', 'pocket', 'pocketlint', 'pockettouch', 'podacst', 'podcast', 'podcasts', 'podrian', 'point', 'pointing', 'points', 'poised', 'policies', 'policy', 'polish', 'politely', 'political', 'politicians', 'poll', 'pondering', 'poole', 'poop', 'poor', 'poorly', 'pop', 'popular', 'porchista', 'portals', 'ported', 'porter_anderson', 'portion', 'portland', 'pose', 'positions', 'positive', 'positives', 'possibilities', 'possible', 'possibly', 'post', 'posted', 'posting', 'posts', 'potential', 'pound', 'power', 'powered', 'powerlink', 'powerpivot', 'powerpoint', 'ppc', 'pph5cw1p', 'ppl', 'pq67grra', 'practical', 'practice', 'practices', 'pranav', 'prasing', 'pray', 'praying', 'prb5yx4x', 'prctices', 'pre', 'preaching', 'precious', 'predefined', 'predict', 'predicting', 'predictions', 'predicts', 'prefer', 'pregnant', 'preisvergleich', 'premise', 'premium', 'preorder', 'preordered', 'prep', 'prepping', 'present', 'presentation', 'presentations', 'presenting', 'presents', 'presidential_fu', 'press', 'pretend', 'pretending', 'prettier', 'pretty', 'pretty_browniee', 'prettyfuckn_lee', 'prettynesz', 'preventing', 'preview', 'previous', 'price', 'priceless', 'pricepoints', 'prime', 'princessofchina', 'principal', 'print', 'printed', 'printer', 'printing', 'privacy', 'private', 'prjusto', 'prmate', 'pro', 'probably', 'problem', 'problems', 'probono', 'procedural', 'proceeds', 'process', 'processor', 'procrastination', 'procure', 'prod', 'prodmgmt', 'produce', 'producers', 'produck', 'product', 'productive', 'productivity', 'productplacement', 'productreviews', 'products', 'prof', 'professional', 'profile', 'profiles', 'profit', 'profitering', 'profiting', 'profits', 'profound', 'program', 'programm', 'programmable', 'programmer', 'programmers', 'programming', 'programs', 'progress', 'progressed', 'progressive', 'project', 'projector', 'projekt', 'prolly', 'promise', 'promised', 'promises', 'promising', 'promo', 'promoallday', 'promoteback', 'promoted', 'promoting', 'promotion', 'prompt', 'prone', 'proof', 'propaganda', 'proper', 'properly', 'property', 'props', 'pros', 'protect', 'protection', 'proud', 'proven', 'proves', 'provid', 'provide', 'provided', 'providing', 'proving', 'ps', 'psfk', 'psn', 'psujg9pn', 'publaunch', 'public', 'publicly', 'published', 'publishers', 'puck', 'pujyv9c0', 'pull', 'pulling', 'pulls', 'pump', 'pumwmm9m', 'pun', 'pups', 'puragentebienav', 'purchase', 'purchased', 'purchasing', 'purdie', 'pure', 'pureinfotech', 'purely', 'purple', 'purpose', 'push', 'pushing', 'puss', 'put', 'putapriceonconvenience', 'putriasmara', 'putting', 'puvxwjjc', 'pvkqad33', 'pvrahhxr', 'pw4kre0f', 'pw4mfbse', 'pwlpgq', 'pxhqdsav', 'pxulr5dw', 'py0hlz', 'pyrexpress', 'pyt7vkrp', 'python', 'pzonzec8', 'pzw8ovnm', 'q00gywqh', 'q08cbcue', 'q0qleokz', 'q1', 'q2kec7', 'q2mvqxjf', 'q3', 'q3cbxvkb', 'q3ynlqck', 'q4', 'q4ocljfs', 'q5mvw7vf', 'q7kf5xkz', 'q8inldfy', 'qa', 'qa1jfska', 'qamj3mer', 'qanda', 'qbgxxjmm', 'qbyum2ce', 'qcdddyrn', 'qcih8fjg', 'qcytszff', 'qd1bqvm8', 'qdm3x8bb', 'qdogji0u', 'qe', 'qeatnmpi', 'qefhpgx2', 'qetk8ds2', 'qfzhtnjs', 'qgxn8d2l', 'qgzhllpv', 'qj9qdbha', 'qkthmjwo', 'ql7zmppo', 'qlarpuat', 'qmatteoq', 'qmc4k7', 'qmwjtvnk', 'qmymiv7z', 'qnvdvcmx', 'qojwxb50', 'qoxd3i0s', 'qpgxle', 'qpk5dhen', 'qqkviaan', 'qr1eijhw', 'qrcode', 'qschumin', 'qticdivd', 'qtoqoz42', 'qtt22akr', 'qualifications', 'qualify', 'quality', 'quarter', 'quarterly', 'que', 'queries', 'question', 'questions', 'queues', 'quick', 'quickly', 'quickresponse', 'quincy', 'quit', 'quite', 'qukdb5lb', 'quora', 'quot', 'quote', 'quotes', 'quotin', 'qv4daw7a', 'qv4m1un9', 'qvc', 'qwhocf5t', 'qwk0yurh', 'qxfddrt4', 'qzcba4bx', 'qzungylw', 'qzuqhcxx', 'r0ih6epa', 'r0wym1jx', 'r14', 'r2', 'r2rndn6y', 'r2xdfqrs', 'r4bidq9d', 'r5jujsbr', 'r6hnettu', 'r7rdw1ph', 'r8f0jmgy', 'r9cgeo', 'ra5pgosd', 'rachiecrewz', 'racism', 'racketeering', 'rad9wdsw', 'rad_software', 'radio', 'radiology', 'radlerc', 'rafts', 'rain', 'raining', 'raise', 'raises', 'rajak9p2', 'ralphbin', 'ram', 'rambling', 'ramon', 'ranch', 'randomly', 'range', 'ranked', 'rant', 'raovallab', 'rape', 'rapidly', 'rashadhurst', 'rat', 'ratchetsymptoms', 'rate', 'rather', 'rato', 'rauerrtf', 'raw', 'rawados', 'rawadosa', 'rawks', 'ray', 'raza', 'razanumerouno', 'razor', 'razr', 'rbev95ee', 'rbevrtfz', 'rbf23cnx', 'rcml9xqr', 'rcpe86bw', 'rcswzlxk', 'rcve', 'rdbeuctt', 'rdingwell', 'rdtzumtz', 're', 're1enpau', 're4nlzgi', 'reaaly', 'reaching', 'reacless', 'reaction', 'read', 'readable', 'reader', 'reading', 'readinglists', 'ready', 'readyfor5', 'real', 'realestate', 'realestateguywi', 'realisation', 'realise', 'realize', 'realized', 'realjaythoven', 'reallly', 'really', 'realtalk', 'realtime', 'reappeared', 'reason', 'reasoning', 'reasons', 'reboot', 'rebuild', 'rebuttal', 'recap', 'receipt', 'receive', 'received', 'recent', 'recently', 'recession', 'reckless', 'recognition', 'recommend', 'record', 'recording', 'recover', 'recovered', 'recruit', 'recruiting', 'red', 'reddclay81', 'reddeersteph', 'redeemed', 'redes', 'redesigned', 'redessociales', 'redhat', 'redirect', 'redirection', 'redmond', 'referral', 'referring', 'refines', 'reformat', 'refurbed', 'refurbished', 'regarding', 'regardless', 'regent', 'region', 'register', 'registered', 'registration', 'regular', 'reimeraaron', 'reinvented', 'relate', 'related', 'relaxin', 'relaxing', 'release', 'released', 'releasepartyguide', 'releases', 'releasing', 'relevance', 'relevant', 'reliable', 'relied', 'relive', 'reller', 'rem8', 'remain', 'remember', 'remembered', 'rememberin', 'remembering', 'remind', 'reminder', 'reminders', 'reminds', 'remote', 'removable', 'remove', 'removing', 'renaedaniels', 'rename', 'renaming', 'renatmin', 'render', 'renders', 'renewal', 'renj0c0z', 'rep', 'repair', 'replace', 'replaced', 'replaceit', 'replacement', 'replaces', 'replacing', 'replied', 'replies', 'reply', 'report', 'reported', 'reporting', 'reports', 'repost', 'reppin', 'represent', 'reprisk', 'reps', 'republished', 'request', 'require', 'required', 'requires', 'rescue', 'rese', 'research', 'researchers', 'resellars', 'reseller', 'resemble', 'resembles', 'reservation', 'reserve', 'resetearlo', 'reshape', 'reside', 'resilience', 'resizable', 'resllers', 'resolution', 'resolutions', 'resolve', 'resonating', 'resource', 'resources', 'respect', 'respectmaswagg', 'respond', 'response', 'responses', 'responsive', 'rest', 'restore', 'restored', 'restoring', 'restrict', 'restrictedboot', 'restrictions', 'restrictive', 'result', 'resulted', 'results', 'resumes', 'retail', 'retailers', 'retarded', 'retire', 'retrieve', 'return', 'returning', 'returns', 'retweet', 'retweeted', 'retweets', 'reunion', 'reuters', 'revamped', 'revamps', 'reveal', 'revealed', 'reveals', 'revenue', 'reverse', 'reverting', 'review', 'reviewing', 'reviora', 'revised', 'revolution', 'revue', 'rewarded', 'rewardhub', 'rewards', 'rewind', 'rfianud0', 'rgbhhuqp', 'rhce', 'rhiannaraee', 'rhkqyxo2', 'rhondaparsons', 'rht', 'ri8huald', 'rianru', 'rice', 'rich', 'rich021', 'richer', 'richmond', 'rickholgate', 'rickysinghpt', 'rid', 'ridic', 'ridiculously', 'right', 'rights', 'rihanna', 'rim', 'rimm', 'rinconindia', 'ring', 'ringing', 'rip', 'ripsteve', 'ripstevejobs', 'rise', 'rishij_pune', 'riskiest', 'rit4wjq3', 'rite', 'ritenow', 'rival', 'rjakesuk', 'rjpittman', 'rjy5wgr0', 'rk9kphss', 'rly', 'rmi8osmi', 'rnhzqjgr', 'rnnjwo6r', 'road', 'roadmap', 'roaring', 'roasted', 'robakk', 'robbase101', 'robcollingridge', 'robert_terpstra', 'robertoafelipe', 'robot', 'roboto', 'robots', 'robynheartz', 'robyqq', 'rocioo08', 'rock', 'rocked', 'rocking', 'rocks', 'rogers', 'rogerweir', 'rohit', 'rohit_bmw', 'roi', 'rolandsmartin', 'role', 'roll', 'rolling', 'rom', 'ronakkataria', 'ronpaul', 'rookie', 'roolz', 'room', 'rooms', 'rooting', 'roslyn', 'rossmistry', 'rot', 'rotiieo0', 'rough', 'round', 'roundup', 'row', 'rows', 'roxbury', 'royalties', 'roycind', 'rp7lsoee', 'rptlwmlo', 'rrcf9w2v', 'rrp', 'rscce99m', 'rsna', 'rsna11', 'rsna2011', 'rsnsg5nt', 'rsrmjpob', 'rszal40s', 'rt', 'rt9g3puh', 'rtdzjq2u', 'rted', 'rtimbuc', 'rts', 'ru', 'rubin', 'rudybren', 'rug', 'ruhanirabin', 'ruhgljmt', 'ruilifestyle', 'ruining', 'ruktyujc', 'rule', 'rules', 'rumor', 'rumored', 'rumors', 'run', 'running', 'runs', 'runtime', 'rva', 'rvdjsmmi', 'rvtthd7p', 'rwgkpbgu', 'rww', 'rxopvngq', 'rxupiw2u', 'rxwd6sn8', 'ryan_burke4', 'ryanbaldwin', 'ryannosaurusrex', 'rygurl', 'rzbmyltv', 'rzucfejc', 's0jkqpwn', 's0vxsruu', 's19qrdju', 's1qfuznv', 's3', 's54lehki', 's6a7y9wt', 's8hsl06q', 's8v8vfmh', 'sabe', 'sack', 'sad', 'sadly', 'sadmac', 'sadreally', 'safari', 'safe', 'safety', 'sage', 'sagegroupza', 'said', 'sake', 'sale', 'sales', 'salesforce', 'salesperson', 'salmonella', 'salute', 'samay', 'same', 'samsumg', 'samsung', 'samsunggalaxynexus', 'samsungmobileca', 'samsungmobileus', 'samsungnexus', 'san', 'sander_koers', 'sandwich', 'sandwichintroducing', 'sandwichos', 'sandwitch', 'sanfrancisco', 'sanjeevgadre', 'sansung', 'santa', 'santorum', 'sap', 'sap_microsoft', 'sapgateway', 'sapteched', 'saptha', 'sapworksmarter', 'sarahhhhh112', 'sarahhjessica', 'sarcasm', 'satiliktir', 'saturdaycute', 'save', 'saved', 'saving', 'saw', 'sawyerhartman', 'say', 'sayin', 'saying', 'says', 'sb_greenbiz', 'sbcs', 'sbs', 'sbs2008', 'scalability', 'scale', 'scalecomputing', 'scam', 'scammers', 'scares', 'schaub', 'schaumburg', 'schedule', 'schestowitz', 'school', 'schwastysmack', 'science', 'science_alex', 'scientist', 'scientists', 'scientst', 'scom', 'sconds', 'scores', 'scottdugas', 'scottrockhill', 'scottshipman1', 'scottyd99999', 'scpul9yz', 'scrapple', 'scream', 'screen', 'screened', 'screens', 'screenshot', 'screenshots', 'screw', 'screwed', 'screwing', 'screws', 'scribble', 'scroll', 'scrolling', 'scrubbing', 'scvmm', 'sd', 'sd33', 'sdk', 'se', 'seahawkswag', 'seal', 'seamlessly', 'sean', 'seanl44', 'searay', 'search', 'searchengine', 'searchengineland', 'searches', 'searching', 'season', 'seats', 'sebascoulombe', 'sec', 'sec1802', 'second', 'seconds', 'secret', 'section', 'secure', 'secureboot', 'securing', 'securities', 'security', 'securityessentials', 'see', 'seeing', 'seek', 'seeking', 'seeks', 'seem', 'seemed', 'seemingly', 'seems', 'seen', 'segoe', 'segregated', 'seguridadparatodos', 'seize', 'selangor', 'select', 'selection', 'self', 'sell', 'selling', 'sells', 'selop', 'sem', 'semilshah', 'send', 'sending', 'senews', 'sense', 'sensible', 'sent', 'sentences', 'seo', 'seotips', 'september', 'sequence', 'serendipityjane', 'sergey', 'series', 'serious', 'seriously', 'sermv1o7', 'serps', 'served', 'server', 'servers', 'serves', 'service', 'services', 'sesame', 'sesamestreet', 'session', 'set', 'sets', 'setting', 'settings', 'settle', 'setup', 'seven', 'several', 'severe', 'sex', 'sexy', 'sf', 'sgarney', 'sgn', 'sh', 'sh2fcwus', 'sh316tbn', 'shagged', 'shagorikah', 'shamlessselfpromotion', 'shanmoorthy', 'share', 'shared', 'sharepoint', 'sharepoint2007', 'sharepointony', 'shares', 'shari', 'sharing', 'sharonhayes', 'shaunawalters8', 'shawnwildermuth', 'shaydiddy', 'she', 'sheet', 'shes', 'shhhh', 'shift', 'shifted', 'ship', 'shipping', 'shirts', 'shit', 'shitt', 'shitty', 'shld', 'shlft', 'sholliman', 'shoot', 'shore', 'short', 'shortcut', 'shot', 'shots', 'shoukd', 'should', 'shout', 'shouts', 'show', 'showed', 'shower', 'showin', 'showing', 'shows', 'shrewd', 'shuffle', 'shut', 'shutter', 'sick', 'side', 'siempre', 'sig', 'sigh', 'sign', 'signal', 'signed', 'signing', 'signs', 'signups', 'sigsource', 'sijsb3me', 'silently', 'silicon', 'silly', 'silver', 'silverlight', 'similar', 'simon_townsend', 'simonsays_payme', 'simple', 'simplethings', 'simplicity', 'simplifies', 'simply', 'sinanaral', 'since', 'sincerely', 'sincerelytigg_', 'sing', 'singaporean', 'singing', 'single', 'sinking', 'siobhancoda', 'siri', 'siri_assistant', 'siriwho', 'sis', 'sister', 'sit', 'site', 'sites', 'sith', 'sitting', 'situation', 'six', 'sizes', 'sizing', 'skandalasgp', 'skills', 'skin', 'skip', 'skittles', 'skydrive', 'skype', 'sl', 'slackin', 'slacking', 'slams', 'slappy', 'slaps', 'slash', 'slashgear', 'slate', 'slater_boy', 'sledgehammer', 'sleeep', 'sleek', 'sleep', 'sleeping', 'sleepy', 'slegit', 'slew', 'slick', 'slide', 'slider', 'slightly', 'slinging', 'slipping', 'slogans', 'sloppy', 'slow', 'slower', 'slowly', 'slows', 'slowsprint', 'slp', 'slsss', 'sm', 'smalfunctioningagain', 'small', 'smallvictory', 'smarch323', 'smart', 'smart__remarks', 'smartbrief', 'smarterphone', 'smartest', 'smartkeitai', 'smartphone', 'smartphones', 'smartphonewar', 'smashed', 'smau', 'smell', 'smh', 'smile', 'smm', 'smooth', 'smqueue', 'sms', 'smsavvy', 'smurf', 'snapw5tl', 'snatched', 'sneaky', 'snik', 'snippet', 'snippy', 'snl38em1', 'snom', 'snow', 'so', 'so1rcq0y', 'so7w7spn', 'soaddicted', 'soaked', 'socapac11', 'socia', 'social', 'socialfans', 'socialize', 'socializing', 'socialmedia', 'socialmedia2day', 'socialnetwork', 'socialnetworking', 'socialshareprivacy', 'society', 'sodear2myheart', 'sofiavergara', 'softline', 'softline24', 'softlinepastel', 'software', 'softwarelibre', 'soho', 'solar', 'solar_sister', 'sold', 'solely', 'solo', 'soluti', 'solution', 'solutions', 'solve', 'somalymam', 'some', 'some1', 'somebody', 'somehow', 'someone', 'something', 'sometime', 'sometimes', 'son', 'song', 'songs', 'sony', 'soon', 'sooner', 'sooo', 'soooo', 'soooooo', 'sophistication', 'sorri', 'sorry', 'sorryfollowers', 'sort', 'sorude', 'sought', 'soul', 'sound', 'sounds', 'sour_d_reyyy', 'source', 'sources', 'south', 'southern', 'southwestair', 'sp2010', 'sp210', 'sp3', 'space', 'spacecanard', 'spaces', 'spam', 'spammy', 'spanish', 'spare', 'spared', 'spat', 'spatial', 'spazz', 'spd', 'speak', 'speakers', 'speaking', 'speakmymind', 'speaks', 'spec', 'specialist', 'specs', 'spectechular', 'specter', 'speech', 'speechtrans', 'speed', 'spell', 'spencer', 'spend', 'spending', 'spent', 'spigot', 'spin', 'spinning', 'spiral', 'spitzfcx', 'spmentor', 'spoiled', 'spoke', 'spongebob', 'sponsors', 'spontaneou', 'spontaneous', 'spontaneously', 'spookygoogle', 'sports', 'spot', 'spotify', 'spotted', 'spray', 'spring', 'springs', 'sprint', 'sprintfeed', 'sprung', 'spy', 'spying', 'sql', 'sql2012', 'sqlazure', 'sqlkaraoke', 'sqlkilt', 'sqlpass', 'sqlserver', 'sqne1ilb', 'squad', 'squatter', 'squidoo', 'sr4scat7', 'sr7pip9b', 'sralgsci', 'srbm3v0k', 'srs', 'sscoop4', 'ssis', 'ssl', 'ssrs', 'ssurpnve', 'st', 'stable', 'stacehendrix', 'stack', 'stacks', 'staff', 'staffed', 'stage', 'staged', 'stalkerismo', 'stalkertard', 'stalking', 'stand', 'standard', 'standards', 'standing', 'star', 'staranddrama', 'starbucks', 'stare', 'starr', 'start', 'started', 'starting', 'startpack', 'startpack_en', 'starts', 'startup', 'startups', 'state', 'statement', 'states', 'station', 'statt', 'statuses', 'stay', 'stayed', 'steal', 'steelo254', 'steffen', 'step', 'stephaniezogrh', 'stephen', 'stepitup', 'steps', 'sterling', 'steve', 'steve_b', 'steve_ballmer', 'steve_jobs', 'steveballmer', 'steveballmet', 'steveeadie', 'stevegr8ofteez', 'stevejobs', 'stevejobsday', 'stevejobstributecases', 'stevewoz', 'stewart', 'stick', 'stickers', 'stickies', 'sticking', 'sticky', 'stifqwtu', 'stil', 'still', 'stilllearning', 'stimulate', 'stink', 'stock', 'stocks', 'stolen', 'stood', 'stop', 'stops', 'storage', 'store', 'storeee', 'stores', 'stories', 'story', 'str7go6w', 'str8talk123', 'straight', 'strange', 'stranger', 'strangest', 'strategic', 'strategy', 'stravi', 'stravinsky', 'stream', 'streams', 'street', 'streets', 'stressed', 'stripes', 'stronger', 'strongly', 'structure', 'struggling', 'stuartmiles', 'stuck', 'student', 'studentdiscounts', 'students', 'studies', 'studio', 'studios', 'study', 'studying', 'studyingwhilstmotivated', 'stuff', 'stuffs', 'stumped', 'stunts', 'stupid', 'style', 'stylus', 'su4l744v', 'submit', 'submitted', 'subscribe', 'subscriptions', 'substitute', 'subtweeting', 'suburbs', 'succeed', 'succesfully', 'success', 'successful', 'such', 'sucha', 'suck', 'sucked', 'suckers', 'sucking', 'sucks', 'sudden', 'suddenly', 'sueño', 'suffering', 'sugar', 'sugg', 'suggest', 'suggested', 'suggesting', 'suggestions', 'suggests', 'suing', 'suit', 'suite', 'sujtk4fs', 'sum', 'sum1', 'sumbody', 'summary', 'summer', 'summit', 'sums', 'sun', 'sunday', 'sungard', 'sup', 'super', 'superb', 'superboîte', 'superior', 'superphone', 'supplier', 'suppliers', 'supply', 'support', 'supported', 'supporters', 'supporting', 'supports', 'suppose', 'suppppp', 'supreme', 'sure', 'surely', 'surface', 'surfaced', 'surfaces', 'surpassing', 'surprised', 'surprises', 'surprising', 'survey', 'survivable', 'survived', 'surviving', 'susanfelicity', 'suspecting', 'sustainability', 'sux', 'svlrvxtr', 'svu8cg1m', 'svysckh7', 'swaag', 'swaagg', 'swagg', 'swaggination', 'swallow', 'swallowed', 'sware', 'swear', 'sweatshops', 'sweepstakes', 'sweet', 'sweetdreams', 'swim', 'swipes', 'swirlz', 'switch', 'switched', 'switcher', 'switching', 'swpats', 'swvacbxc', 'swype', 'sx1nqjj1', 'sxfpd9xj', 'sxmlkarr', 'sxpnubdh', 'sydney', 'sym', 'symbian', 'symbol', 'symonperriman', 'sync', 'synching', 'syncing', 'syncronize', 'syncs', 'syntax', 'sys', 'sysadmin', 'syste', 'system', 'systemcenter', 'systems', 'szchgkif', 't05c34yy', 't0trfnk8', 't36kz6gf', 't74bqyim', 'tab', 'table', 'tablet', 'tablets', 'tabtimes', 'tacoma', 'taf', 'tag', 'tagged', 'tagger', 'tagging', 'tah', 'tah_med', 'tajfjsd9', 'take', 'takeaway', 'taken', 'takeover', 'takes', 'taking', 'talent', 'talk', 'talkandroid', 'talked', 'talking', 'talks', 'talkyo_ish', 'tall', 'tallman', 'tami', 'tando_m', 'tangled', 'tango', 'tap', 'tapping', 'target', 'tas82011', 'taste', 'tatn', 'taught', 'tax', 'tbgqsfos', 'tbnyx7p7', 'tbtuewi1', 'tbxlrvin', 'tcktgpbh', 'tcmagazine', 'tcn', 'tcot', 'tcpj_mickey', 'tdmfe0ni', 'te4nqmxn', 'te_amotam', 'teachhub', 'teaching', 'teah2015', 'team', 'teamandroid', 'teamed', 'teamfollow', 'teamfollowback', 'teamgooglenexus', 'teamiphone', 'teamo', 'teams', 'tear', 'teasing', 'tecbuzz', 'tech', 'techcrunch', 'teched_na', 'techedafrica', 'techfest', 'techflash', 'techgadgets', 'techhamlet', 'techie', 'techietroubles', 'techinciter', 'technabob', 'technet', 'technews', 'technical', 'technological', 'technologies', 'technology', 'techs', 'techsupport', 'techwar', 'techxams', 'techy', 'techzader', 'teehee', 'teenswagquotess', 'teggyboy00', 'telecom', 'telegraph', 'tell', 'telling', 'telljuicy', 'tellme', 'tells', 'temp', 'template', 'temporal', 'tems', 'terminal', 'terms', 'terrible', 'terrystorch', 'test', 'tested', 'tester', 'testify', 'testimonials', 'testing', 'tests', 'tewnhhuk', 'texas', 'text', 'texts', 'tfb', 'tferthomas', 'tfnrp3md', 'tfs', 'th', 'tha', 'thai', 'than', 'thang', 'thank', 'thankful', 'thankfully', 'thanks', 'thanksfornothing', 'thankyou', 'thankyousteve', 'thanx', 'that', 'thats', 'thatsdisrespectful', 'thatsrealtalkin', 'thatstevegray', 'thattechguy92', 'the', 'the_dj_show', 'the_kase', 'the_victor2', 'theater', 'thebufferingnetwork', 'thecloudnetwork', 'thedroidguy', 'thee', 'theft', 'thegadgetshow', 'their', 'thejabberwockey', 'thejcurt', 'thejjmg', 'thelegionofthefallen', 'thelittleappkid', 'them', 'themacmob', 'themarketaire', 'themattbruening', 'theme', 'themes', 'themselves', 'then', 'thenextweb', 'thenonsensepersists', 'theoldway', 'theoretically', 'therapy', 'there', 'therealdwi', 'therealjedad', 'therealterica', 'theresamarosy', 'therock', 'thesavoia', 'these', 'thestreet', 'thetechcheck', 'thetecheye', 'thetinyjewelbox', 'theunlockr', 'they', 'thezerooftime', 'thiagozito', 'thiel', 'thievingbastards', 'thigh', 'thing', 'things', 'thingsweallhate', 'thingswealllove', 'think', 'thinking', 'thinks', 'third', 'thirsty', 'this', 'thise', 'thisisyungfresh', 'thks', 'thnx', 'tho', 'thomas', 'thomasgoubin', 'thoo', 'thorn', 'thorough', 'those', 'though', 'thought', 'thoughtful', 'thoughts', 'threads', 'threat', 'threaten', 'three', 'threw', 'throat', 'throne', 'through', 'throw', 'throws', 'tht', 'thuglife', 'thugs', 'thumbs', 'thunderbird', 'thunderbolt', 'thursday', 'thus', 'thx', 'thxx', 'thyself', 'ti9hy8lw', 'tick', 'tidpahyc', 'tie', 'tied', 'tiene', 'tiers', 'tiffanyk', 'tiger', 'tighten', 'til', 'tiles', 'till', 'tim', 'time', 'timecapsule', 'timed', 'timeline', 'times', 'timewarnercable', 'timing', 'timjwdowning', 'tint', 'tip', 'tipped', 'tips', 'tired', 'tita_ramos', 'titanic', 'title', 'titles', 'tjcjaqfl', 'tk6ihh2b', 'tk7i6fw4', 'tl', 'tlkin', 'tlkwhosd', 'tm2xaijb', 'tmdfqre1', 'tmghv24e', 'tmurucvw', 'tmw', 'tnxyuxva', 'to', 'to1ne', 'today', 'todd', 'together', 'toggle', 'togmpp8i', 'told', 'toledo', 'tom', 'tomcastiglia', 'tomcolontonio', 'tomcruise', 'tomkeene', 'tommorrow', 'tommylee', 'tomorrow', 'ton', 'tone', 'tones', 'tonight', 'tonite', 'tons', 'tonybates', 'tonymicheal', 'too', 'toocool', 'took', 'tool', 'toolbar', 'tools', 'top', 'topic', 'toptweets', 'tos', 'tosleepigo', 'tossing', 'total', 'totally', 'touch', 'touched', 'touching', 'touchpoints', 'touchscreen', 'touchscreens', 'tough', 'toulouse', 'tour', 'touts', 'towards', 'towhat', 'towson', 'toy', 'toys', 'tqf6pjf5', 'tqmsbdrx', 'track', 'tracking', 'trade', 'tradepromotion', 'traditional', 'traee', 'traffic', 'tragic', 'train', 'trainer', 'trainers', 'training', 'transactions', 'transferred', 'transform', 'transition', 'transitions', 'translator', 'transparentes', 'trash', 'trashes', 'trashier', 'travel', 'travisdommert', 'treat', 'trended', 'trending', 'trends', 'trenuyf4', 'treyhob21', 'treyratcliff', 'tri', 'trial', 'tribute', 'trick', 'tried', 'tries', 'trip', 'triple', 'tripled', 'tripletown', 'triplingo', 'trippin', 'tripping', 'trisha_ps', 'trivia', 'trojan', 'tron', 'tronman', 'trouble', 'troublemaker', 'troy', 'troyhopson', 'truck', 'true', 'truestory', 'truly', 'try', 'trying', 'tryna', 'trynna', 'tsk', 'tsql', 'tsyxwdkh', 'tt', 'ttgycujs', 'tube', 'tuesday', 'tumbles', 'tumblr', 'tune', 'tuned', 'tunes', 'turn', 'turned', 'turning', 'turns', 'tv', 'tvbox', 'tvnewschick', 'tw3szx61', 'twaeudbp', 'twalve', 'twandroid', 'tweeps', 'tweet', 'tweetbarassment', 'tweetcaster', 'tweetdeck', 'tweeted', 'tweeter', 'tweeting', 'tweets', 'tweetsmarter', 'tweezard', 'tweezardcom', 'twhistler', 'twiceiphone4sales', 'twidroyd', 'twinkleg_ray', 'twit', 'twit2alsh', 'twitpeeps', 'twitpic', 'twitter', 'twitterapp', 'twitterapps', 'twitterdeity', 'twitterer', 'twitterjail', 'twitterless', 'twittermilestone', 'twitternation', 'twitters', 'twitterswag', 'twittertime', 'twittertip', 'twittertweeters', 'twitts', 'twitwhore', 'twizjgbr', 'two', 'tx', 'txnkgfzl', 'txt', 'txts', 'ty', 'ty0hdqam', 'tyadzhqx', 'tylermatheison', 'tym', 'typ3', 'type', 'typing', 'tzblegaq', 'tzigd99b', 'tzj1bync', 'tzvjaqli', 'tá', 'u0hzovqf', 'u1zmu9ih', 'u3lchmgd', 'u702soso', 'uac', 'uaqrxtnk', 'uawhbolz', 'uber', 'ubersocial', 'ubersoical', 'ubisys', 'uc', 'ucd9sdx4', 'uch', 'ucoms', 'ud', 'udkgr3cb', 'udloqfsa', 'uecqhl6k', 'uefi', 'uepatrzx', 'uf9tak8f', 'ufff', 'ufi0yll7', 'ugh', 'ughh', 'ugly', 'ugptuucz', 'ugsbdxqm', 'uh', 'ui', 'ui0ad1fj', 'ui8loezx', 'uick', 'uiwn6fgq', 'ujivd1xu', 'ujn5j8dw', 'uk', 'ukwokbgd', 'ul9zzkv8', 'ulchky', 'ulforthewin', 'ultimate', 'um', 'um860jfh', 'umber', 'umbrellas', 'umd', 'umdnews', 'unable', 'unauthorized', 'unbelievable', 'unborn', 'uncategorized', 'unconventional', 'undecided', 'under', 'undergo', 'underlying', 'underplayed', 'underrated', 'underscore', 'understand', 'underwhelming', 'undo', 'undoubtedly', 'unexpected', 'unfair', 'unfollow', 'unfollowing', 'unfollows', 'unfortunately', 'unhappy', 'unified', 'unique', 'unites', 'units', 'universe', 'university', 'unknown', 'unladen', 'unless', 'unlike', 'unlock', 'unlocked', 'unlocking', 'unlocks', 'unmindful', 'unproductive', 'unquality', 'unreal', 'until', 'untill', 'unveil', 'unveiled', 'unveiling', 'unveils', 'unwanted', 'unwrapping', 'uolayiea', 'uopsylto', 'up', 'upcoming', 'upcomingparty', 'update', 'updated', 'updater', 'updates', 'updating', 'upgrade', 'upgraded', 'upgrades', 'upgrading', 'uphill', 'upload', 'ups', 'upset', 'upsidedown', 'upstairs', 'uqghsamj', 'uqmiqbbt', 'ur', 'url', 'urls', 'urwelcome', 'urxjixce', 'us', 'usable', 'usage', 'usb', 'usdor', 'use', 'used', 'useful', 'useless', 'user', 'users', 'uses', 'using', 'usual', 'utbpxrsj', 'uthuuecj', 'util', 'utilities', 'utility', 'utmhyifd', 'utter', 'utterly', 'utu4mwjk', 'uud7ea3v', 'uuzhimgv', 'uvgb05g6', 'uweyalkb', 'ux', 'ux1cib6a', 'uxfa8ukg', 'uy35rrru', 'uy7kwjiy', 'uydnz4r0', 'v0mo0vkq', 'v2', 'v4lr34p3', 'v5wg698v', 'v8zttnvv', 'v9rmrauh', 'va', 'vadvkmsk', 'vagina', 'vain', 'validated', 'valley', 'valuable', 'values', 'vancouver', 'vanillalatte_xd', 'var', 'variety', 'vars', 'vat', 'vattam', 'vaydredn', 'vba', 'vbcl0ozp', 'vbr0cpkr', 'vc', 'vc573pte', 've', 've3lmotn', 'vecmsahq', 'vegas', 'vegascharlieb', 'vehicle', 'velho', 'velmtzns', 'vendor', 'vendors', 'venturebeat', 'ventures', 'verge', 'verizon', 'verizonwireless', 'vers', 'verses', 'version', 'vertical', 'very', 'veteran', 'vfacebook', 'vfzrtkaa', 'vgmydlds', 'vgsf529q', 'vhntgols', 'vi', 'vi0htjrr', 'via', 'vibrar', 'vibrate', 'vibrating', 'vic', 'vicariously', 'victim', 'victims', 'vid', 'video', 'videoconferencing', 'videos', 'vidio', 'vie', 'view', 'views', 'village', 'vincemayfield', 'vincent', 'vinodrad', 'violated', 'vior326d', 'vip', 'virginity', 'virgojud81', 'virtual', 'virtualfat', 'virtualization', 'virtualsystem', 'virus', 'visibility', 'visigoth', 'vision', 'visit', 'vista', 'visual', 'visualstudio', 'vital', 'vj2jpktm', 'vj678hk3', 'vjrssfyn', 'vkfnwmtj', 'vkjwatsr', 'vkv2tbcj', 'vlingo', 'vmax', 'vms', 'vmware', 'vmworld', 'vmworld2011', 'vngazg48', 'vo542mrz', 'vocabb', 'voh8vm8a', 'voice', 'voicecontrol', 'voicemail', 'voicemails', 'voices', 'voip', 'volume', 'vonjhtje', 'vorstellung', 'vote', 'votes', 'votlsnfx', 'vouched', 'voucher', 'vp', 'vpqoyxwa', 'vpxanjtz', 'vqkj84ac', 'vs', 'vs0ujozd', 'vs2010', 'vs5r1oox', 'vslive', 'vsphere5', 'vsypl9xu', 'vt9d24yi', 'vtybqi91', 'vulnerability', 'vuwgyx3n', 'vuyxwrxw', 'vv6ltkyp', 'vvasluma', 'vwciov1f', 'vwpua2gt', 'vya3ed6h', 'vyntu8xw', 'vyxqubjg', 'vyyasbm6', 'vzfuv9oi', 'vzkedzac', 'vzx25ht8', 'w051bfs0', 'w2s', 'w4muskem', 'w5ocrbpm', 'w7gtxqz0', 'w8ixibot', 'wa0bp7mx', 'waaaaay', 'waaaay', 'waba8k9b', 'wack', 'wad', 'waddya', 'wahooly', 'wait', 'waited', 'waiting', 'wake', 'waking', 'walk', 'walked', 'wall', 'walled', 'wallet', 'wallpaper', 'walls', 'wank', 'wanna', 'wannabe', 'want', 'wanted', 'wanting', 'wants', 'war', 'warfare', 'warm', 'warning', 'warns', 'warranty', 'warrenwhitlock', 'wars', 'was', 'wasalu_flora', 'wash', 'washington', 'wasn', 'wass', 'wassup', 'waste', 'wasted', 'wasting', 'wat', 'watch', 'watchdog', 'watched', 'watchin', 'watching', 'water', 'watson', 'wave', 'way', 'wayne', 'waynp', 'ways', 'waz', 'wbasinger', 'wd05mhpu', 'wdhfz7hp', 'wdlhzsza', 'we', 'weaken', 'wear', 'weather', 'web', 'web2', 'webcam', 'webcamps', 'webcast', 'webex', 'webgl', 'webhosting', 'webhostingcoupon', 'webinar', 'webmaster', 'webos', 'webpage', 'webpronews', 'webseoanalytics', 'website', 'websitespark', 'wecker', 'wednesday', 'wedpbcpx', 'week', 'weekend', 'weekly', 'weep', 'weird', 'weirdo', 'weirdosrunshit', 'weiterhin', 'welcome', 'welcomee', 'welcomes', 'welcomeskype', 'welcum', 'well', 'wellis68', 'welp', 'wen', 'wendywilliams', 'went', 'were', 'weren', 'wesle', 'wesleybackelant', 'west', 'wethepeople', 'wfoopx1y', 'wfrzkysn', 'wfssexks', 'wg9xonkg', 'wgrmnypi', 'whaddupwitdat', 'whale', 'what', 'whatchu', 'whats', 'whatuphoe1211', 'whdraqo4', 'wheel', 'when', 'whenever', 'wheniwas14', 'whens', 'where', 'whether', 'whhyy', 'whi', 'which', 'while', 'white', 'who', 'whoa', 'whoever', 'whole', 'whoops', 'whore', 'whores', 'whoring', 'whrox8ka', 'wht', 'whts', 'why', 'whymicrosoft', 'whymsft', 'wid', 'wide', 'widget', 'widgets', 'wife', 'wifi', 'wififofum', 'wii', 'wikipedia', 'wild', 'wilko_lr', 'will', 'william', 'willprovide', 'wilth', 'win', 'win7', 'win8', 'winbetadotorg', 'window', 'windows', 'windows7', 'windows7mobile', 'windows8', 'windows_phone', 'windowsazure', 'windowslivebook', 'windowsphone', 'windowsphone7', 'windowsxphomesoftware', 'winklrsprinklr', 'winner', 'winners', 'winning', 'winningwithel', 'winnipeg', 'winnipeg_rt', 'winrt', 'winrumors', 'wins', 'wiped', 'wired', 'wireddoo', 'wiredinsider', 'wireless', 'wirelesskeyboardandmouse', 'wisconsin_mommy', 'wise', 'wisely', 'wish', 'wished', 'wishh', 'wishing', 'wit', 'witchcraft', 'with', 'within', 'without', 'witnessing', 'wiz4omu0', 'wjab0tmq', 'wjjbq7ae', 'wjwrefjj', 'wk', 'wld', 'wma', 'wmcxwysh', 'wmp', 'wmqnpclv', 'wmy6locd', 'wo', 'woke', 'wom', 'woman', 'women', 'won', 'wonder', 'wonderful', 'wondering', 'wonderlaura', 'wonky', 'wont', 'wooden', 'woods', 'woooow', 'word', 'wordd', 'wordpress', 'words', 'wordswfriends', 'work', 'worked', 'workers', 'workflow', 'workflows', 'workforce', 'working', 'workload', 'works', 'workshop', 'workspace', 'workstation', 'world', 'worldrecession', 'worlds', 'worldwide', 'worried', 'worries', 'worry', 'worse', 'worst', 'worstupdateever', 'worth', 'would', 'wouldn', 'wouldnt', 'wounded', 'wow', 'wowww', 'woz', 'wp', 'wp7', 'wp75', 'wp7dev', 'wpcentral', 'wpdesignteam', 'wpdev', 'wpo9l63f', 'wps', 'wpt', 'wqh2phea', 'wqqv4lyu', 'wrestler', 'wristpad', 'write', 'writeychap', 'writing', 'wrong', 'ws4gs9uk', 'ws4lwwxy', 'ws7lints', 'wspsandiego', 'wspwest', 'wstein', 'wt3c2rp1', 'wtf', 'wtfh', 'wth', 'wtj1ogdo', 'wtjix29b', 'wtvvz8g4', 'wu3zm', 'wu6esvt5', 'wu9bfi1h', 'wuhu', 'wunmsql6', 'wuppy', 'wvzprbci', 'ww', 'wwj3xvdm', 'wwnz6dx6', 'wwrycm04', 'wwsyxabn', 'www', 'wxbc1uuw', 'wxhb8jxo', 'wyd5rnxn', 'wymfplcs', 'wzvxnz8e', 'x1j8hnzu', 'x1qzex7f', 'x2ymwess', 'x3gdbuyk', 'x3jy4b2l', 'x4ywfnsv', 'x55u6i4w', 'x7tzk9sg', 'x7z87xzt', 'x86', 'x92swech', 'x_justlucky_x', 'xaxnopo6', 'xbl', 'xbla', 'xbox', 'xbox360', 'xboxlive', 'xcuntnuggetx', 'xd', 'xd5gst4l', 'xdd', 'xe7rl7a8', 'xekwtlug', 'xenophin', 'xenszcjh', 'xero', 'xezz42z2', 'xfg6l29d', 'xgf60gms', 'xghoev8k', 'xgurxnpa', 'xhrua9dz', 'xijyuohz', 'xiq3v54f', 'xjtcc7j7', 'xjuwsszs', 'xkavtom9', 'xkh7ugy4', 'xli2br42', 'xljbygis', 'xlsu6ipa', 'xltt7wr9', 'xm2blifc', 'xmas', 'xmf34t27', 'xmrzvkav', 'xncmtwwb', 'xnj052no', 'xnkwgxme', 'xo_rosibel_', 'xolrauey', 'xop25kvu', 'xoql8wqh', 'xp4apwah', 'xp9lhjpr', 'xpghlc2o', 'xpiaz8xp', 'xqxp2uwx', 'xsiydnqu', 'xsjgifop', 'xsl', 'xt2swsxg', 'xtqv4dw5', 'xtzmpsmt', 'xv2q3gfi', 'xvcch6os', 'xvoncbeb', 'xw1acttj', 'xw7vh75e', 'xwc7xvk8', 'xwordy', 'xx', 'xx1chzbn', 'xym8fxd0', 'xywfxsdl', 'xyz', 'xzxmhuuu', 'y1', 'y33v8wvr', 'y3mali6y', 'y8hc6kzb', 'ya', 'yaaaaaaaay', 'yahoo', 'yahoofinance', 'yaksys', 'yal', 'yall', 'yankees', 'yapping', 'yashasjoshi', 'ycxco5kk', 'yd4fbog3', 'ydh8ffxe', 'ye0nzy82', 'ye337yr6', 'yea', 'yeah', 'yeahh', 'year', 'yearly', 'years', 'yeaxvp1v', 'yegge', 'yeh', 'yellow', 'yellowgate', 'yellowpages', 'yelp', 'yeni', 'yeo', 'yep', 'yes', 'yesplease', 'yesss', 'yessss', 'yesterday', 'yet', 'yevwfl4n', 'yfamgurf', 'yfwf9iye', 'ygiso7xt', 'ygpnusfv', 'yhoo', 'yie1rssz', 'yields', 'ykchtu8h', 'ykiftufx', 'ykqip7nk', 'ylf30h0h', 'yllitfat', 'ylrl4lzy', 'ymntcikg', 'yo', 'yooo', 'yoooo', 'yooooo', 'yooooooo', 'yootfktm', 'you', 'young', 'youngbasedsonic', 'your', 'yourdaysarenumbered', 'yourlameashell', 'yours', 'yourself', 'yousendit', 'youtu', 'youtube', 'youuuuuuuuuuuu', 'ypf60yee', 'ypm4gxf9', 'yptcbeon', 'ypzlts50', 'yqh20z0u', 'yqynjbdy', 'yr', 'yrckqeis', 'yrs', 'ys79qurd', 'ysi', 'yt87krbp', 'yt8aw0gk', 'ytn5ohym', 'ytyl8wm0', 'yu', 'yummy', 'yumyumyum', 'yup', 'yuvalariav', 'yuvalz', 'yuydxo1t', 'yvxmwibi', 'ywtvgwjy', 'yx1r3wsx', 'yy1hnrbq', 'yyc', 'yycezpdy', 'yynzsp8j', 'yyu5q0i7', 'yywhy', 'yz9xgqgm', 'yzhcdgfp', 'yziwv1wd', 'yzlpogxb', 'z2bh6oh1', 'z2uzanhd', 'z3z3x9pa', 'z4gs3pxc', 'z4j7whms', 'z4jwlqvu', 'z6x5re5q', 'z76pv0qv', 'z7bbj1xu', 'z8sdgut9', 'z9idoni7', 'za9h5o5u', 'zaarly', 'zacksiam', 'zacksiezmagraff', 'zaibatsu', 'zamodz9o', 'zappos', 'zbltz5mw', 'zcdtjyrp', 'zcevlb1a', 'zchv6tac', 'zdnet', 'ze9aimyi', 'zeggar', 'zero', 'zetes', 'zgbk3xnk', 'zhgyinii', 'zite', 'zixfa91n', 'zjmhbph7', 'zkn2bu5r', 'zm9dye63', 'zmx85fkd', 'zndp9vr6', 'znfytk9p', 'zogecner', 'zombiebomber', 'zomg', 'zoom', 'zozr0uuz', 'zrbak7kl', 'zrqoewxi', 'zryndhdi', 'zsfuv48d', 'zu9pswsg', 'zuckerberg', 'zug', 'zune', 'zv7dxria', 'zwqwpdq4', 'zx5pw0gt', 'zx6pio6f', 'zxfeb0ld', 'zyetras0', 'zyker3ax', 'zzc6be0w', 'zzk4ftii', 'zzruwrsk', 'zzzzzzzzzzzz', 'zzzzzzzzzzzzzzzzzzzz']\n",
            "[[0 0 0 ... 0 0 0]\n",
            " [0 0 0 ... 0 0 0]\n",
            " [0 0 0 ... 0 0 0]\n",
            " ...\n",
            " [0 0 0 ... 0 0 0]\n",
            " [0 0 0 ... 0 0 0]\n",
            " [0 0 0 ... 0 0 0]]\n"
          ],
          "name": "stdout"
        }
      ]
    },
    {
      "cell_type": "code",
      "metadata": {
        "id": "4fEqPLCBQdjO",
        "colab_type": "code",
        "colab": {}
      },
      "source": [
        "y = twitter['Sentiment']"
      ],
      "execution_count": 0,
      "outputs": []
    },
    {
      "cell_type": "code",
      "metadata": {
        "id": "PBm3yHsnQiSM",
        "colab_type": "code",
        "colab": {}
      },
      "source": [
        "X_train, X_test, y_train, y_test = tts(X, y, test_size=0.25, random_state=42)"
      ],
      "execution_count": 0,
      "outputs": []
    },
    {
      "cell_type": "code",
      "metadata": {
        "id": "uEl7EnFOQkve",
        "colab_type": "code",
        "colab": {
          "base_uri": "https://localhost:8080/",
          "height": 177
        },
        "outputId": "7ab7196a-2f0c-450f-f535-a6f04f7595d5"
      },
      "source": [
        "rfc = RandomForestClassifier()\n",
        "rfc.fit(X_train, y_train)"
      ],
      "execution_count": 17,
      "outputs": [
        {
          "output_type": "stream",
          "text": [
            "/usr/local/lib/python3.6/dist-packages/sklearn/ensemble/forest.py:245: FutureWarning: The default value of n_estimators will change from 10 in version 0.20 to 100 in 0.22.\n",
            "  \"10 in version 0.20 to 100 in 0.22.\", FutureWarning)\n"
          ],
          "name": "stderr"
        },
        {
          "output_type": "execute_result",
          "data": {
            "text/plain": [
              "RandomForestClassifier(bootstrap=True, class_weight=None, criterion='gini',\n",
              "                       max_depth=None, max_features='auto', max_leaf_nodes=None,\n",
              "                       min_impurity_decrease=0.0, min_impurity_split=None,\n",
              "                       min_samples_leaf=1, min_samples_split=2,\n",
              "                       min_weight_fraction_leaf=0.0, n_estimators=10,\n",
              "                       n_jobs=None, oob_score=False, random_state=None,\n",
              "                       verbose=0, warm_start=False)"
            ]
          },
          "metadata": {
            "tags": []
          },
          "execution_count": 17
        }
      ]
    },
    {
      "cell_type": "code",
      "metadata": {
        "id": "vxhHJFhWQnbP",
        "colab_type": "code",
        "colab": {
          "base_uri": "https://localhost:8080/",
          "height": 70
        },
        "outputId": "8e71f00a-126f-4548-f6b8-ff91a4e63265"
      },
      "source": [
        "y_pred = rfc.predict(X_test)\n",
        "y_pred[25:40]"
      ],
      "execution_count": 18,
      "outputs": [
        {
          "output_type": "execute_result",
          "data": {
            "text/plain": [
              "array(['neutral', 'neutral', 'neutral', 'positive', 'positive', 'neutral',\n",
              "       'neutral', 'neutral', 'neutral', 'neutral', 'neutral', 'neutral',\n",
              "       'neutral', 'neutral', 'neutral'], dtype=object)"
            ]
          },
          "metadata": {
            "tags": []
          },
          "execution_count": 18
        }
      ]
    },
    {
      "cell_type": "code",
      "metadata": {
        "id": "P6JnDh8nQqT-",
        "colab_type": "code",
        "colab": {
          "base_uri": "https://localhost:8080/",
          "height": 70
        },
        "outputId": "05d199c5-09d1-4ae8-c805-aa2c55597386"
      },
      "source": [
        "confusion_matrix(y_test, y_pred)"
      ],
      "execution_count": 19,
      "outputs": [
        {
          "output_type": "execute_result",
          "data": {
            "text/plain": [
              "array([[ 57,  97,   8],\n",
              "       [ 17, 531,  14],\n",
              "       [  7,  98,  27]])"
            ]
          },
          "metadata": {
            "tags": []
          },
          "execution_count": 19
        }
      ]
    },
    {
      "cell_type": "code",
      "metadata": {
        "id": "A4l51sNsQtiz",
        "colab_type": "code",
        "colab": {
          "base_uri": "https://localhost:8080/",
          "height": 195
        },
        "outputId": "716de633-f945-49ef-f5f3-6e49d69d4a58"
      },
      "source": [
        "print(classification_report(y_pred, y_test))"
      ],
      "execution_count": 20,
      "outputs": [
        {
          "output_type": "stream",
          "text": [
            "              precision    recall  f1-score   support\n",
            "\n",
            "    negative       0.35      0.70      0.47        81\n",
            "     neutral       0.94      0.73      0.82       726\n",
            "    positive       0.20      0.55      0.30        49\n",
            "\n",
            "    accuracy                           0.72       856\n",
            "   macro avg       0.50      0.66      0.53       856\n",
            "weighted avg       0.85      0.72      0.76       856\n",
            "\n"
          ],
          "name": "stdout"
        }
      ]
    },
    {
      "cell_type": "code",
      "metadata": {
        "id": "XmYMBDugQw2Z",
        "colab_type": "code",
        "colab": {}
      },
      "source": [
        "def multiclass_roc_auc_score(y_test, y_pred, average='macro'):\n",
        "  lb = LabelBinarizer()\n",
        "  lb.fit(y_test)\n",
        "  y_test = lb.transform(y_test)\n",
        "  y_pred = lb.transform(y_pred)\n",
        "  return roc_auc_score(y_test, y_pred, average=average)"
      ],
      "execution_count": 0,
      "outputs": []
    },
    {
      "cell_type": "code",
      "metadata": {
        "id": "DllOaQ1KQzea",
        "colab_type": "code",
        "colab": {
          "base_uri": "https://localhost:8080/",
          "height": 35
        },
        "outputId": "84a22fb9-c232-4696-9b8e-5c2eff70d9d1"
      },
      "source": [
        "multiclass_roc_auc_score(y_test, y_pred)"
      ],
      "execution_count": 22,
      "outputs": [
        {
          "output_type": "execute_result",
          "data": {
            "text/plain": [
              "0.6288338308382949"
            ]
          },
          "metadata": {
            "tags": []
          },
          "execution_count": 22
        }
      ]
    },
    {
      "cell_type": "code",
      "metadata": {
        "id": "N0rgICvjQ4mm",
        "colab_type": "code",
        "colab": {}
      },
      "source": [
        "le = LabelEncoder()\n",
        "y_test = le.fit_transform(y_test)"
      ],
      "execution_count": 0,
      "outputs": []
    },
    {
      "cell_type": "code",
      "metadata": {
        "id": "J42bs4QtQ8PY",
        "colab_type": "code",
        "colab": {
          "base_uri": "https://localhost:8080/",
          "height": 141
        },
        "outputId": "abae1050-498a-4415-ac54-1fd78faf81df"
      },
      "source": [
        "pred_rf = rfc.predict_proba(X_test)\n",
        "pred_rf"
      ],
      "execution_count": 24,
      "outputs": [
        {
          "output_type": "execute_result",
          "data": {
            "text/plain": [
              "array([[0.2, 0.7, 0.1],\n",
              "       [0.1, 0.8, 0.1],\n",
              "       [0. , 0.9, 0.1],\n",
              "       ...,\n",
              "       [0.1, 0.8, 0.1],\n",
              "       [0. , 0.6, 0.4],\n",
              "       [0.4, 0.4, 0.2]])"
            ]
          },
          "metadata": {
            "tags": []
          },
          "execution_count": 24
        }
      ]
    },
    {
      "cell_type": "code",
      "metadata": {
        "id": "NGZ692qDQ89y",
        "colab_type": "code",
        "colab": {}
      },
      "source": [
        "def threshold6(array):\n",
        "  a = []\n",
        "  for i in range(len(array)):\n",
        "    if max(array[i])>0.6:\n",
        "      a.append(np.argmax(array[i]))\n",
        "    else:\n",
        "      a.append(2)\n",
        "  return a"
      ],
      "execution_count": 0,
      "outputs": []
    },
    {
      "cell_type": "code",
      "metadata": {
        "id": "iqrtkbIMQ_p0",
        "colab_type": "code",
        "colab": {
          "base_uri": "https://localhost:8080/",
          "height": 230
        },
        "outputId": "313bc7db-16a5-46a7-c622-d31ad4c68b1a"
      },
      "source": [
        "print(\"\\n 0.6 threshold for Random Forest : \\n\",classification_report(threshold6(pred_rf),y_test))"
      ],
      "execution_count": 26,
      "outputs": [
        {
          "output_type": "stream",
          "text": [
            "\n",
            " 0.6 threshold for Random Forest : \n",
            "               precision    recall  f1-score   support\n",
            "\n",
            "           0       0.12      0.91      0.22        22\n",
            "           1       0.81      0.82      0.81       557\n",
            "           2       0.59      0.28      0.38       277\n",
            "\n",
            "    accuracy                           0.65       856\n",
            "   macro avg       0.51      0.67      0.47       856\n",
            "weighted avg       0.72      0.65      0.66       856\n",
            "\n"
          ],
          "name": "stdout"
        }
      ]
    },
    {
      "cell_type": "code",
      "metadata": {
        "id": "_uEgd0g-RC7A",
        "colab_type": "code",
        "colab": {
          "base_uri": "https://localhost:8080/",
          "height": 35
        },
        "outputId": "08bf8cc8-feb8-4fba-8b48-0219adff3ce7"
      },
      "source": [
        "multiclass_roc_auc_score(threshold6(pred_rf),y_test)"
      ],
      "execution_count": 27,
      "outputs": [
        {
          "output_type": "execute_result",
          "data": {
            "text/plain": [
              "0.7310279848968101"
            ]
          },
          "metadata": {
            "tags": []
          },
          "execution_count": 27
        }
      ]
    },
    {
      "cell_type": "code",
      "metadata": {
        "id": "Aze8HwXDRF5H",
        "colab_type": "code",
        "colab": {}
      },
      "source": [
        "def threshold7(array):\n",
        "  a = []\n",
        "  for i in range(len(array)):\n",
        "    if max(array[i])>0.7:\n",
        "      a.append(np.argmax(array[i]))\n",
        "    else:\n",
        "      a.append(2)\n",
        "  return a"
      ],
      "execution_count": 0,
      "outputs": []
    },
    {
      "cell_type": "code",
      "metadata": {
        "id": "h6crx6qmRJup",
        "colab_type": "code",
        "colab": {
          "base_uri": "https://localhost:8080/",
          "height": 230
        },
        "outputId": "998aa173-33e8-4597-b09d-7012b508a27b"
      },
      "source": [
        "print(\"\\n 0.7 threshold for Random Forest : \\n\",classification_report((threshold7(pred_rf)),y_test))"
      ],
      "execution_count": 29,
      "outputs": [
        {
          "output_type": "stream",
          "text": [
            "\n",
            " 0.7 threshold for Random Forest : \n",
            "               precision    recall  f1-score   support\n",
            "\n",
            "           0       0.07      0.92      0.14        13\n",
            "           1       0.70      0.87      0.77       450\n",
            "           2       0.79      0.26      0.40       393\n",
            "\n",
            "    accuracy                           0.59       856\n",
            "   macro avg       0.52      0.69      0.44       856\n",
            "weighted avg       0.73      0.59      0.59       856\n",
            "\n"
          ],
          "name": "stdout"
        }
      ]
    },
    {
      "cell_type": "code",
      "metadata": {
        "id": "oFDBLXoCRMSU",
        "colab_type": "code",
        "colab": {
          "base_uri": "https://localhost:8080/",
          "height": 35
        },
        "outputId": "d05100c0-2252-45a3-cdb1-01da792c3455"
      },
      "source": [
        "multiclass_roc_auc_score(threshold7(pred_rf),y_test)"
      ],
      "execution_count": 30,
      "outputs": [
        {
          "output_type": "execute_result",
          "data": {
            "text/plain": [
              "0.7328339140275696"
            ]
          },
          "metadata": {
            "tags": []
          },
          "execution_count": 30
        }
      ]
    },
    {
      "cell_type": "code",
      "metadata": {
        "id": "HDi43_2cRPr0",
        "colab_type": "code",
        "colab": {}
      },
      "source": [
        "def threshold8(array):\n",
        "  a = []\n",
        "  for i in range(len(array)):\n",
        "    if max(array[i])>0.8:\n",
        "      a.append(np.argmax(array[i]))\n",
        "    else:\n",
        "      a.append(2)\n",
        "  return a"
      ],
      "execution_count": 0,
      "outputs": []
    },
    {
      "cell_type": "code",
      "metadata": {
        "id": "gHYmHA62RSmX",
        "colab_type": "code",
        "colab": {
          "base_uri": "https://localhost:8080/",
          "height": 230
        },
        "outputId": "3b7d66fa-681c-43d3-835f-5224d51e4850"
      },
      "source": [
        "print(\"\\n 0.8 threshold for Random Forest : \\n\",classification_report((threshold8(pred_rf)),y_test))"
      ],
      "execution_count": 32,
      "outputs": [
        {
          "output_type": "stream",
          "text": [
            "\n",
            " 0.8 threshold for Random Forest : \n",
            "               precision    recall  f1-score   support\n",
            "\n",
            "           0       0.01      1.00      0.02         2\n",
            "           1       0.54      0.89      0.67       338\n",
            "           2       0.87      0.22      0.35       516\n",
            "\n",
            "    accuracy                           0.49       856\n",
            "   macro avg       0.47      0.71      0.35       856\n",
            "weighted avg       0.74      0.49      0.48       856\n",
            "\n"
          ],
          "name": "stdout"
        }
      ]
    },
    {
      "cell_type": "code",
      "metadata": {
        "id": "FanF08VDRVHk",
        "colab_type": "code",
        "colab": {
          "base_uri": "https://localhost:8080/",
          "height": 35
        },
        "outputId": "6f487aa7-2fa9-4117-cb07-7444ab721671"
      },
      "source": [
        "multiclass_roc_auc_score(threshold8(pred_rf),y_test)"
      ],
      "execution_count": 33,
      "outputs": [
        {
          "output_type": "execute_result",
          "data": {
            "text/plain": [
              "0.729512534901256"
            ]
          },
          "metadata": {
            "tags": []
          },
          "execution_count": 33
        }
      ]
    },
    {
      "cell_type": "code",
      "metadata": {
        "id": "_4xr9ClbRXlu",
        "colab_type": "code",
        "colab": {
          "base_uri": "https://localhost:8080/",
          "height": 352
        },
        "outputId": "44aa8ef7-cc18-4167-a9f6-9374c2b26e62"
      },
      "source": [
        "amazon['preprocessed_text'] = amazon['reviewText'].apply(Preprocessing,1)"
      ],
      "execution_count": 35,
      "outputs": [
        {
          "output_type": "error",
          "ename": "KeyboardInterrupt",
          "evalue": "ignored",
          "traceback": [
            "\u001b[0;31m---------------------------------------------------------------------------\u001b[0m",
            "\u001b[0;31mKeyboardInterrupt\u001b[0m                         Traceback (most recent call last)",
            "\u001b[0;32m<ipython-input-35-e6ec5250689c>\u001b[0m in \u001b[0;36m<module>\u001b[0;34m()\u001b[0m\n\u001b[0;32m----> 1\u001b[0;31m \u001b[0mamazon\u001b[0m\u001b[0;34m[\u001b[0m\u001b[0;34m'preprocessed_text'\u001b[0m\u001b[0;34m]\u001b[0m \u001b[0;34m=\u001b[0m \u001b[0mamazon\u001b[0m\u001b[0;34m[\u001b[0m\u001b[0;34m'reviewText'\u001b[0m\u001b[0;34m]\u001b[0m\u001b[0;34m.\u001b[0m\u001b[0mapply\u001b[0m\u001b[0;34m(\u001b[0m\u001b[0mPreprocessing\u001b[0m\u001b[0;34m,\u001b[0m\u001b[0;36m1\u001b[0m\u001b[0;34m)\u001b[0m\u001b[0;34m\u001b[0m\u001b[0;34m\u001b[0m\u001b[0m\n\u001b[0m",
            "\u001b[0;32m/usr/local/lib/python3.6/dist-packages/pandas/core/series.py\u001b[0m in \u001b[0;36mapply\u001b[0;34m(self, func, convert_dtype, args, **kwds)\u001b[0m\n\u001b[1;32m   4043\u001b[0m             \u001b[0;32melse\u001b[0m\u001b[0;34m:\u001b[0m\u001b[0;34m\u001b[0m\u001b[0;34m\u001b[0m\u001b[0m\n\u001b[1;32m   4044\u001b[0m                 \u001b[0mvalues\u001b[0m \u001b[0;34m=\u001b[0m \u001b[0mself\u001b[0m\u001b[0;34m.\u001b[0m\u001b[0mastype\u001b[0m\u001b[0;34m(\u001b[0m\u001b[0mobject\u001b[0m\u001b[0;34m)\u001b[0m\u001b[0;34m.\u001b[0m\u001b[0mvalues\u001b[0m\u001b[0;34m\u001b[0m\u001b[0;34m\u001b[0m\u001b[0m\n\u001b[0;32m-> 4045\u001b[0;31m                 \u001b[0mmapped\u001b[0m \u001b[0;34m=\u001b[0m \u001b[0mlib\u001b[0m\u001b[0;34m.\u001b[0m\u001b[0mmap_infer\u001b[0m\u001b[0;34m(\u001b[0m\u001b[0mvalues\u001b[0m\u001b[0;34m,\u001b[0m \u001b[0mf\u001b[0m\u001b[0;34m,\u001b[0m \u001b[0mconvert\u001b[0m\u001b[0;34m=\u001b[0m\u001b[0mconvert_dtype\u001b[0m\u001b[0;34m)\u001b[0m\u001b[0;34m\u001b[0m\u001b[0;34m\u001b[0m\u001b[0m\n\u001b[0m\u001b[1;32m   4046\u001b[0m \u001b[0;34m\u001b[0m\u001b[0m\n\u001b[1;32m   4047\u001b[0m         \u001b[0;32mif\u001b[0m \u001b[0mlen\u001b[0m\u001b[0;34m(\u001b[0m\u001b[0mmapped\u001b[0m\u001b[0;34m)\u001b[0m \u001b[0;32mand\u001b[0m \u001b[0misinstance\u001b[0m\u001b[0;34m(\u001b[0m\u001b[0mmapped\u001b[0m\u001b[0;34m[\u001b[0m\u001b[0;36m0\u001b[0m\u001b[0;34m]\u001b[0m\u001b[0;34m,\u001b[0m \u001b[0mSeries\u001b[0m\u001b[0;34m)\u001b[0m\u001b[0;34m:\u001b[0m\u001b[0;34m\u001b[0m\u001b[0;34m\u001b[0m\u001b[0m\n",
            "\u001b[0;32mpandas/_libs/lib.pyx\u001b[0m in \u001b[0;36mpandas._libs.lib.map_infer\u001b[0;34m()\u001b[0m\n",
            "\u001b[0;32m<ipython-input-8-ba81173e4dc1>\u001b[0m in \u001b[0;36mPreprocessing\u001b[0;34m(text)\u001b[0m\n\u001b[1;32m      1\u001b[0m \u001b[0;32mdef\u001b[0m \u001b[0mPreprocessing\u001b[0m\u001b[0;34m(\u001b[0m\u001b[0mtext\u001b[0m\u001b[0;34m)\u001b[0m\u001b[0;34m:\u001b[0m\u001b[0;34m\u001b[0m\u001b[0;34m\u001b[0m\u001b[0m\n\u001b[1;32m      2\u001b[0m   \u001b[0;31m#Initializing a dataframe of stopwords\u001b[0m\u001b[0;34m\u001b[0m\u001b[0;34m\u001b[0m\u001b[0;34m\u001b[0m\u001b[0m\n\u001b[0;32m----> 3\u001b[0;31m   \u001b[0mstop_words\u001b[0m \u001b[0;34m=\u001b[0m \u001b[0mpd\u001b[0m\u001b[0;34m.\u001b[0m\u001b[0mread_csv\u001b[0m\u001b[0;34m(\u001b[0m\u001b[0;34m\"https://gist.githubusercontent.com/sebleier/554280/raw/7e0e4a1ce04c2bb7bd41089c9821dbcf6d0c786c/NLTK's%2520list%2520of%2520english%2520stopwords\"\u001b[0m\u001b[0;34m)\u001b[0m\u001b[0;34m\u001b[0m\u001b[0;34m\u001b[0m\u001b[0m\n\u001b[0m\u001b[1;32m      4\u001b[0m   \u001b[0mstop_words\u001b[0m\u001b[0;34m.\u001b[0m\u001b[0mvalues\u001b[0m\u001b[0;34m.\u001b[0m\u001b[0mtolist\u001b[0m\u001b[0;34m(\u001b[0m\u001b[0;34m)\u001b[0m\u001b[0;34m\u001b[0m\u001b[0;34m\u001b[0m\u001b[0m\n\u001b[1;32m      5\u001b[0m \u001b[0;34m\u001b[0m\u001b[0m\n",
            "\u001b[0;32m/usr/local/lib/python3.6/dist-packages/pandas/io/parsers.py\u001b[0m in \u001b[0;36mparser_f\u001b[0;34m(filepath_or_buffer, sep, delimiter, header, names, index_col, usecols, squeeze, prefix, mangle_dupe_cols, dtype, engine, converters, true_values, false_values, skipinitialspace, skiprows, skipfooter, nrows, na_values, keep_default_na, na_filter, verbose, skip_blank_lines, parse_dates, infer_datetime_format, keep_date_col, date_parser, dayfirst, cache_dates, iterator, chunksize, compression, thousands, decimal, lineterminator, quotechar, quoting, doublequote, escapechar, comment, encoding, dialect, error_bad_lines, warn_bad_lines, delim_whitespace, low_memory, memory_map, float_precision)\u001b[0m\n\u001b[1;32m    683\u001b[0m         )\n\u001b[1;32m    684\u001b[0m \u001b[0;34m\u001b[0m\u001b[0m\n\u001b[0;32m--> 685\u001b[0;31m         \u001b[0;32mreturn\u001b[0m \u001b[0m_read\u001b[0m\u001b[0;34m(\u001b[0m\u001b[0mfilepath_or_buffer\u001b[0m\u001b[0;34m,\u001b[0m \u001b[0mkwds\u001b[0m\u001b[0;34m)\u001b[0m\u001b[0;34m\u001b[0m\u001b[0;34m\u001b[0m\u001b[0m\n\u001b[0m\u001b[1;32m    686\u001b[0m \u001b[0;34m\u001b[0m\u001b[0m\n\u001b[1;32m    687\u001b[0m     \u001b[0mparser_f\u001b[0m\u001b[0;34m.\u001b[0m\u001b[0m__name__\u001b[0m \u001b[0;34m=\u001b[0m \u001b[0mname\u001b[0m\u001b[0;34m\u001b[0m\u001b[0;34m\u001b[0m\u001b[0m\n",
            "\u001b[0;32m/usr/local/lib/python3.6/dist-packages/pandas/io/parsers.py\u001b[0m in \u001b[0;36m_read\u001b[0;34m(filepath_or_buffer, kwds)\u001b[0m\n\u001b[1;32m    438\u001b[0m     \u001b[0;31m# See https://github.com/python/mypy/issues/1297\u001b[0m\u001b[0;34m\u001b[0m\u001b[0;34m\u001b[0m\u001b[0;34m\u001b[0m\u001b[0m\n\u001b[1;32m    439\u001b[0m     fp_or_buf, _, compression, should_close = get_filepath_or_buffer(\n\u001b[0;32m--> 440\u001b[0;31m         \u001b[0mfilepath_or_buffer\u001b[0m\u001b[0;34m,\u001b[0m \u001b[0mencoding\u001b[0m\u001b[0;34m,\u001b[0m \u001b[0mcompression\u001b[0m\u001b[0;34m\u001b[0m\u001b[0;34m\u001b[0m\u001b[0m\n\u001b[0m\u001b[1;32m    441\u001b[0m     )\n\u001b[1;32m    442\u001b[0m     \u001b[0mkwds\u001b[0m\u001b[0;34m[\u001b[0m\u001b[0;34m\"compression\"\u001b[0m\u001b[0;34m]\u001b[0m \u001b[0;34m=\u001b[0m \u001b[0mcompression\u001b[0m\u001b[0;34m\u001b[0m\u001b[0;34m\u001b[0m\u001b[0m\n",
            "\u001b[0;32m/usr/local/lib/python3.6/dist-packages/pandas/io/common.py\u001b[0m in \u001b[0;36mget_filepath_or_buffer\u001b[0;34m(filepath_or_buffer, encoding, compression, mode)\u001b[0m\n\u001b[1;32m    194\u001b[0m \u001b[0;34m\u001b[0m\u001b[0m\n\u001b[1;32m    195\u001b[0m     \u001b[0;32mif\u001b[0m \u001b[0m_is_url\u001b[0m\u001b[0;34m(\u001b[0m\u001b[0mfilepath_or_buffer\u001b[0m\u001b[0;34m)\u001b[0m\u001b[0;34m:\u001b[0m\u001b[0;34m\u001b[0m\u001b[0;34m\u001b[0m\u001b[0m\n\u001b[0;32m--> 196\u001b[0;31m         \u001b[0mreq\u001b[0m \u001b[0;34m=\u001b[0m \u001b[0murlopen\u001b[0m\u001b[0;34m(\u001b[0m\u001b[0mfilepath_or_buffer\u001b[0m\u001b[0;34m)\u001b[0m\u001b[0;34m\u001b[0m\u001b[0;34m\u001b[0m\u001b[0m\n\u001b[0m\u001b[1;32m    197\u001b[0m         \u001b[0mcontent_encoding\u001b[0m \u001b[0;34m=\u001b[0m \u001b[0mreq\u001b[0m\u001b[0;34m.\u001b[0m\u001b[0mheaders\u001b[0m\u001b[0;34m.\u001b[0m\u001b[0mget\u001b[0m\u001b[0;34m(\u001b[0m\u001b[0;34m\"Content-Encoding\"\u001b[0m\u001b[0;34m,\u001b[0m \u001b[0;32mNone\u001b[0m\u001b[0;34m)\u001b[0m\u001b[0;34m\u001b[0m\u001b[0;34m\u001b[0m\u001b[0m\n\u001b[1;32m    198\u001b[0m         \u001b[0;32mif\u001b[0m \u001b[0mcontent_encoding\u001b[0m \u001b[0;34m==\u001b[0m \u001b[0;34m\"gzip\"\u001b[0m\u001b[0;34m:\u001b[0m\u001b[0;34m\u001b[0m\u001b[0;34m\u001b[0m\u001b[0m\n",
            "\u001b[0;32m/usr/lib/python3.6/urllib/request.py\u001b[0m in \u001b[0;36murlopen\u001b[0;34m(url, data, timeout, cafile, capath, cadefault, context)\u001b[0m\n\u001b[1;32m    221\u001b[0m     \u001b[0;32melse\u001b[0m\u001b[0;34m:\u001b[0m\u001b[0;34m\u001b[0m\u001b[0;34m\u001b[0m\u001b[0m\n\u001b[1;32m    222\u001b[0m         \u001b[0mopener\u001b[0m \u001b[0;34m=\u001b[0m \u001b[0m_opener\u001b[0m\u001b[0;34m\u001b[0m\u001b[0;34m\u001b[0m\u001b[0m\n\u001b[0;32m--> 223\u001b[0;31m     \u001b[0;32mreturn\u001b[0m \u001b[0mopener\u001b[0m\u001b[0;34m.\u001b[0m\u001b[0mopen\u001b[0m\u001b[0;34m(\u001b[0m\u001b[0murl\u001b[0m\u001b[0;34m,\u001b[0m \u001b[0mdata\u001b[0m\u001b[0;34m,\u001b[0m \u001b[0mtimeout\u001b[0m\u001b[0;34m)\u001b[0m\u001b[0;34m\u001b[0m\u001b[0;34m\u001b[0m\u001b[0m\n\u001b[0m\u001b[1;32m    224\u001b[0m \u001b[0;34m\u001b[0m\u001b[0m\n\u001b[1;32m    225\u001b[0m \u001b[0;32mdef\u001b[0m \u001b[0minstall_opener\u001b[0m\u001b[0;34m(\u001b[0m\u001b[0mopener\u001b[0m\u001b[0;34m)\u001b[0m\u001b[0;34m:\u001b[0m\u001b[0;34m\u001b[0m\u001b[0;34m\u001b[0m\u001b[0m\n",
            "\u001b[0;32m/usr/lib/python3.6/urllib/request.py\u001b[0m in \u001b[0;36mopen\u001b[0;34m(self, fullurl, data, timeout)\u001b[0m\n\u001b[1;32m    524\u001b[0m             \u001b[0mreq\u001b[0m \u001b[0;34m=\u001b[0m \u001b[0mmeth\u001b[0m\u001b[0;34m(\u001b[0m\u001b[0mreq\u001b[0m\u001b[0;34m)\u001b[0m\u001b[0;34m\u001b[0m\u001b[0;34m\u001b[0m\u001b[0m\n\u001b[1;32m    525\u001b[0m \u001b[0;34m\u001b[0m\u001b[0m\n\u001b[0;32m--> 526\u001b[0;31m         \u001b[0mresponse\u001b[0m \u001b[0;34m=\u001b[0m \u001b[0mself\u001b[0m\u001b[0;34m.\u001b[0m\u001b[0m_open\u001b[0m\u001b[0;34m(\u001b[0m\u001b[0mreq\u001b[0m\u001b[0;34m,\u001b[0m \u001b[0mdata\u001b[0m\u001b[0;34m)\u001b[0m\u001b[0;34m\u001b[0m\u001b[0;34m\u001b[0m\u001b[0m\n\u001b[0m\u001b[1;32m    527\u001b[0m \u001b[0;34m\u001b[0m\u001b[0m\n\u001b[1;32m    528\u001b[0m         \u001b[0;31m# post-process response\u001b[0m\u001b[0;34m\u001b[0m\u001b[0;34m\u001b[0m\u001b[0;34m\u001b[0m\u001b[0m\n",
            "\u001b[0;32m/usr/lib/python3.6/urllib/request.py\u001b[0m in \u001b[0;36m_open\u001b[0;34m(self, req, data)\u001b[0m\n\u001b[1;32m    542\u001b[0m         \u001b[0mprotocol\u001b[0m \u001b[0;34m=\u001b[0m \u001b[0mreq\u001b[0m\u001b[0;34m.\u001b[0m\u001b[0mtype\u001b[0m\u001b[0;34m\u001b[0m\u001b[0;34m\u001b[0m\u001b[0m\n\u001b[1;32m    543\u001b[0m         result = self._call_chain(self.handle_open, protocol, protocol +\n\u001b[0;32m--> 544\u001b[0;31m                                   '_open', req)\n\u001b[0m\u001b[1;32m    545\u001b[0m         \u001b[0;32mif\u001b[0m \u001b[0mresult\u001b[0m\u001b[0;34m:\u001b[0m\u001b[0;34m\u001b[0m\u001b[0;34m\u001b[0m\u001b[0m\n\u001b[1;32m    546\u001b[0m             \u001b[0;32mreturn\u001b[0m \u001b[0mresult\u001b[0m\u001b[0;34m\u001b[0m\u001b[0;34m\u001b[0m\u001b[0m\n",
            "\u001b[0;32m/usr/lib/python3.6/urllib/request.py\u001b[0m in \u001b[0;36m_call_chain\u001b[0;34m(self, chain, kind, meth_name, *args)\u001b[0m\n\u001b[1;32m    502\u001b[0m         \u001b[0;32mfor\u001b[0m \u001b[0mhandler\u001b[0m \u001b[0;32min\u001b[0m \u001b[0mhandlers\u001b[0m\u001b[0;34m:\u001b[0m\u001b[0;34m\u001b[0m\u001b[0;34m\u001b[0m\u001b[0m\n\u001b[1;32m    503\u001b[0m             \u001b[0mfunc\u001b[0m \u001b[0;34m=\u001b[0m \u001b[0mgetattr\u001b[0m\u001b[0;34m(\u001b[0m\u001b[0mhandler\u001b[0m\u001b[0;34m,\u001b[0m \u001b[0mmeth_name\u001b[0m\u001b[0;34m)\u001b[0m\u001b[0;34m\u001b[0m\u001b[0;34m\u001b[0m\u001b[0m\n\u001b[0;32m--> 504\u001b[0;31m             \u001b[0mresult\u001b[0m \u001b[0;34m=\u001b[0m \u001b[0mfunc\u001b[0m\u001b[0;34m(\u001b[0m\u001b[0;34m*\u001b[0m\u001b[0margs\u001b[0m\u001b[0;34m)\u001b[0m\u001b[0;34m\u001b[0m\u001b[0;34m\u001b[0m\u001b[0m\n\u001b[0m\u001b[1;32m    505\u001b[0m             \u001b[0;32mif\u001b[0m \u001b[0mresult\u001b[0m \u001b[0;32mis\u001b[0m \u001b[0;32mnot\u001b[0m \u001b[0;32mNone\u001b[0m\u001b[0;34m:\u001b[0m\u001b[0;34m\u001b[0m\u001b[0;34m\u001b[0m\u001b[0m\n\u001b[1;32m    506\u001b[0m                 \u001b[0;32mreturn\u001b[0m \u001b[0mresult\u001b[0m\u001b[0;34m\u001b[0m\u001b[0;34m\u001b[0m\u001b[0m\n",
            "\u001b[0;32m/usr/lib/python3.6/urllib/request.py\u001b[0m in \u001b[0;36mhttps_open\u001b[0;34m(self, req)\u001b[0m\n\u001b[1;32m   1359\u001b[0m         \u001b[0;32mdef\u001b[0m \u001b[0mhttps_open\u001b[0m\u001b[0;34m(\u001b[0m\u001b[0mself\u001b[0m\u001b[0;34m,\u001b[0m \u001b[0mreq\u001b[0m\u001b[0;34m)\u001b[0m\u001b[0;34m:\u001b[0m\u001b[0;34m\u001b[0m\u001b[0;34m\u001b[0m\u001b[0m\n\u001b[1;32m   1360\u001b[0m             return self.do_open(http.client.HTTPSConnection, req,\n\u001b[0;32m-> 1361\u001b[0;31m                 context=self._context, check_hostname=self._check_hostname)\n\u001b[0m\u001b[1;32m   1362\u001b[0m \u001b[0;34m\u001b[0m\u001b[0m\n\u001b[1;32m   1363\u001b[0m         \u001b[0mhttps_request\u001b[0m \u001b[0;34m=\u001b[0m \u001b[0mAbstractHTTPHandler\u001b[0m\u001b[0;34m.\u001b[0m\u001b[0mdo_request_\u001b[0m\u001b[0;34m\u001b[0m\u001b[0;34m\u001b[0m\u001b[0m\n",
            "\u001b[0;32m/usr/lib/python3.6/urllib/request.py\u001b[0m in \u001b[0;36mdo_open\u001b[0;34m(self, http_class, req, **http_conn_args)\u001b[0m\n\u001b[1;32m   1316\u001b[0m             \u001b[0;32mtry\u001b[0m\u001b[0;34m:\u001b[0m\u001b[0;34m\u001b[0m\u001b[0;34m\u001b[0m\u001b[0m\n\u001b[1;32m   1317\u001b[0m                 h.request(req.get_method(), req.selector, req.data, headers,\n\u001b[0;32m-> 1318\u001b[0;31m                           encode_chunked=req.has_header('Transfer-encoding'))\n\u001b[0m\u001b[1;32m   1319\u001b[0m             \u001b[0;32mexcept\u001b[0m \u001b[0mOSError\u001b[0m \u001b[0;32mas\u001b[0m \u001b[0merr\u001b[0m\u001b[0;34m:\u001b[0m \u001b[0;31m# timeout error\u001b[0m\u001b[0;34m\u001b[0m\u001b[0;34m\u001b[0m\u001b[0m\n\u001b[1;32m   1320\u001b[0m                 \u001b[0;32mraise\u001b[0m \u001b[0mURLError\u001b[0m\u001b[0;34m(\u001b[0m\u001b[0merr\u001b[0m\u001b[0;34m)\u001b[0m\u001b[0;34m\u001b[0m\u001b[0;34m\u001b[0m\u001b[0m\n",
            "\u001b[0;32m/usr/lib/python3.6/http/client.py\u001b[0m in \u001b[0;36mrequest\u001b[0;34m(self, method, url, body, headers, encode_chunked)\u001b[0m\n\u001b[1;32m   1252\u001b[0m                 encode_chunked=False):\n\u001b[1;32m   1253\u001b[0m         \u001b[0;34m\"\"\"Send a complete request to the server.\"\"\"\u001b[0m\u001b[0;34m\u001b[0m\u001b[0;34m\u001b[0m\u001b[0m\n\u001b[0;32m-> 1254\u001b[0;31m         \u001b[0mself\u001b[0m\u001b[0;34m.\u001b[0m\u001b[0m_send_request\u001b[0m\u001b[0;34m(\u001b[0m\u001b[0mmethod\u001b[0m\u001b[0;34m,\u001b[0m \u001b[0murl\u001b[0m\u001b[0;34m,\u001b[0m \u001b[0mbody\u001b[0m\u001b[0;34m,\u001b[0m \u001b[0mheaders\u001b[0m\u001b[0;34m,\u001b[0m \u001b[0mencode_chunked\u001b[0m\u001b[0;34m)\u001b[0m\u001b[0;34m\u001b[0m\u001b[0;34m\u001b[0m\u001b[0m\n\u001b[0m\u001b[1;32m   1255\u001b[0m \u001b[0;34m\u001b[0m\u001b[0m\n\u001b[1;32m   1256\u001b[0m     \u001b[0;32mdef\u001b[0m \u001b[0m_send_request\u001b[0m\u001b[0;34m(\u001b[0m\u001b[0mself\u001b[0m\u001b[0;34m,\u001b[0m \u001b[0mmethod\u001b[0m\u001b[0;34m,\u001b[0m \u001b[0murl\u001b[0m\u001b[0;34m,\u001b[0m \u001b[0mbody\u001b[0m\u001b[0;34m,\u001b[0m \u001b[0mheaders\u001b[0m\u001b[0;34m,\u001b[0m \u001b[0mencode_chunked\u001b[0m\u001b[0;34m)\u001b[0m\u001b[0;34m:\u001b[0m\u001b[0;34m\u001b[0m\u001b[0;34m\u001b[0m\u001b[0m\n",
            "\u001b[0;32m/usr/lib/python3.6/http/client.py\u001b[0m in \u001b[0;36m_send_request\u001b[0;34m(self, method, url, body, headers, encode_chunked)\u001b[0m\n\u001b[1;32m   1298\u001b[0m             \u001b[0;31m# default charset of iso-8859-1.\u001b[0m\u001b[0;34m\u001b[0m\u001b[0;34m\u001b[0m\u001b[0;34m\u001b[0m\u001b[0m\n\u001b[1;32m   1299\u001b[0m             \u001b[0mbody\u001b[0m \u001b[0;34m=\u001b[0m \u001b[0m_encode\u001b[0m\u001b[0;34m(\u001b[0m\u001b[0mbody\u001b[0m\u001b[0;34m,\u001b[0m \u001b[0;34m'body'\u001b[0m\u001b[0;34m)\u001b[0m\u001b[0;34m\u001b[0m\u001b[0;34m\u001b[0m\u001b[0m\n\u001b[0;32m-> 1300\u001b[0;31m         \u001b[0mself\u001b[0m\u001b[0;34m.\u001b[0m\u001b[0mendheaders\u001b[0m\u001b[0;34m(\u001b[0m\u001b[0mbody\u001b[0m\u001b[0;34m,\u001b[0m \u001b[0mencode_chunked\u001b[0m\u001b[0;34m=\u001b[0m\u001b[0mencode_chunked\u001b[0m\u001b[0;34m)\u001b[0m\u001b[0;34m\u001b[0m\u001b[0;34m\u001b[0m\u001b[0m\n\u001b[0m\u001b[1;32m   1301\u001b[0m \u001b[0;34m\u001b[0m\u001b[0m\n\u001b[1;32m   1302\u001b[0m     \u001b[0;32mdef\u001b[0m \u001b[0mgetresponse\u001b[0m\u001b[0;34m(\u001b[0m\u001b[0mself\u001b[0m\u001b[0;34m)\u001b[0m\u001b[0;34m:\u001b[0m\u001b[0;34m\u001b[0m\u001b[0;34m\u001b[0m\u001b[0m\n",
            "\u001b[0;32m/usr/lib/python3.6/http/client.py\u001b[0m in \u001b[0;36mendheaders\u001b[0;34m(self, message_body, encode_chunked)\u001b[0m\n\u001b[1;32m   1247\u001b[0m         \u001b[0;32melse\u001b[0m\u001b[0;34m:\u001b[0m\u001b[0;34m\u001b[0m\u001b[0;34m\u001b[0m\u001b[0m\n\u001b[1;32m   1248\u001b[0m             \u001b[0;32mraise\u001b[0m \u001b[0mCannotSendHeader\u001b[0m\u001b[0;34m(\u001b[0m\u001b[0;34m)\u001b[0m\u001b[0;34m\u001b[0m\u001b[0;34m\u001b[0m\u001b[0m\n\u001b[0;32m-> 1249\u001b[0;31m         \u001b[0mself\u001b[0m\u001b[0;34m.\u001b[0m\u001b[0m_send_output\u001b[0m\u001b[0;34m(\u001b[0m\u001b[0mmessage_body\u001b[0m\u001b[0;34m,\u001b[0m \u001b[0mencode_chunked\u001b[0m\u001b[0;34m=\u001b[0m\u001b[0mencode_chunked\u001b[0m\u001b[0;34m)\u001b[0m\u001b[0;34m\u001b[0m\u001b[0;34m\u001b[0m\u001b[0m\n\u001b[0m\u001b[1;32m   1250\u001b[0m \u001b[0;34m\u001b[0m\u001b[0m\n\u001b[1;32m   1251\u001b[0m     def request(self, method, url, body=None, headers={}, *,\n",
            "\u001b[0;32m/usr/lib/python3.6/http/client.py\u001b[0m in \u001b[0;36m_send_output\u001b[0;34m(self, message_body, encode_chunked)\u001b[0m\n\u001b[1;32m   1034\u001b[0m         \u001b[0mmsg\u001b[0m \u001b[0;34m=\u001b[0m \u001b[0;34mb\"\\r\\n\"\u001b[0m\u001b[0;34m.\u001b[0m\u001b[0mjoin\u001b[0m\u001b[0;34m(\u001b[0m\u001b[0mself\u001b[0m\u001b[0;34m.\u001b[0m\u001b[0m_buffer\u001b[0m\u001b[0;34m)\u001b[0m\u001b[0;34m\u001b[0m\u001b[0;34m\u001b[0m\u001b[0m\n\u001b[1;32m   1035\u001b[0m         \u001b[0;32mdel\u001b[0m \u001b[0mself\u001b[0m\u001b[0;34m.\u001b[0m\u001b[0m_buffer\u001b[0m\u001b[0;34m[\u001b[0m\u001b[0;34m:\u001b[0m\u001b[0;34m]\u001b[0m\u001b[0;34m\u001b[0m\u001b[0;34m\u001b[0m\u001b[0m\n\u001b[0;32m-> 1036\u001b[0;31m         \u001b[0mself\u001b[0m\u001b[0;34m.\u001b[0m\u001b[0msend\u001b[0m\u001b[0;34m(\u001b[0m\u001b[0mmsg\u001b[0m\u001b[0;34m)\u001b[0m\u001b[0;34m\u001b[0m\u001b[0;34m\u001b[0m\u001b[0m\n\u001b[0m\u001b[1;32m   1037\u001b[0m \u001b[0;34m\u001b[0m\u001b[0m\n\u001b[1;32m   1038\u001b[0m         \u001b[0;32mif\u001b[0m \u001b[0mmessage_body\u001b[0m \u001b[0;32mis\u001b[0m \u001b[0;32mnot\u001b[0m \u001b[0;32mNone\u001b[0m\u001b[0;34m:\u001b[0m\u001b[0;34m\u001b[0m\u001b[0;34m\u001b[0m\u001b[0m\n",
            "\u001b[0;32m/usr/lib/python3.6/http/client.py\u001b[0m in \u001b[0;36msend\u001b[0;34m(self, data)\u001b[0m\n\u001b[1;32m    972\u001b[0m         \u001b[0;32mif\u001b[0m \u001b[0mself\u001b[0m\u001b[0;34m.\u001b[0m\u001b[0msock\u001b[0m \u001b[0;32mis\u001b[0m \u001b[0;32mNone\u001b[0m\u001b[0;34m:\u001b[0m\u001b[0;34m\u001b[0m\u001b[0;34m\u001b[0m\u001b[0m\n\u001b[1;32m    973\u001b[0m             \u001b[0;32mif\u001b[0m \u001b[0mself\u001b[0m\u001b[0;34m.\u001b[0m\u001b[0mauto_open\u001b[0m\u001b[0;34m:\u001b[0m\u001b[0;34m\u001b[0m\u001b[0;34m\u001b[0m\u001b[0m\n\u001b[0;32m--> 974\u001b[0;31m                 \u001b[0mself\u001b[0m\u001b[0;34m.\u001b[0m\u001b[0mconnect\u001b[0m\u001b[0;34m(\u001b[0m\u001b[0;34m)\u001b[0m\u001b[0;34m\u001b[0m\u001b[0;34m\u001b[0m\u001b[0m\n\u001b[0m\u001b[1;32m    975\u001b[0m             \u001b[0;32melse\u001b[0m\u001b[0;34m:\u001b[0m\u001b[0;34m\u001b[0m\u001b[0;34m\u001b[0m\u001b[0m\n\u001b[1;32m    976\u001b[0m                 \u001b[0;32mraise\u001b[0m \u001b[0mNotConnected\u001b[0m\u001b[0;34m(\u001b[0m\u001b[0;34m)\u001b[0m\u001b[0;34m\u001b[0m\u001b[0;34m\u001b[0m\u001b[0m\n",
            "\u001b[0;32m/usr/lib/python3.6/http/client.py\u001b[0m in \u001b[0;36mconnect\u001b[0;34m(self)\u001b[0m\n\u001b[1;32m   1413\u001b[0m \u001b[0;34m\u001b[0m\u001b[0m\n\u001b[1;32m   1414\u001b[0m             self.sock = self._context.wrap_socket(self.sock,\n\u001b[0;32m-> 1415\u001b[0;31m                                                   server_hostname=server_hostname)\n\u001b[0m\u001b[1;32m   1416\u001b[0m             \u001b[0;32mif\u001b[0m \u001b[0;32mnot\u001b[0m \u001b[0mself\u001b[0m\u001b[0;34m.\u001b[0m\u001b[0m_context\u001b[0m\u001b[0;34m.\u001b[0m\u001b[0mcheck_hostname\u001b[0m \u001b[0;32mand\u001b[0m \u001b[0mself\u001b[0m\u001b[0;34m.\u001b[0m\u001b[0m_check_hostname\u001b[0m\u001b[0;34m:\u001b[0m\u001b[0;34m\u001b[0m\u001b[0;34m\u001b[0m\u001b[0m\n\u001b[1;32m   1417\u001b[0m                 \u001b[0;32mtry\u001b[0m\u001b[0;34m:\u001b[0m\u001b[0;34m\u001b[0m\u001b[0;34m\u001b[0m\u001b[0m\n",
            "\u001b[0;32m/usr/lib/python3.6/ssl.py\u001b[0m in \u001b[0;36mwrap_socket\u001b[0;34m(self, sock, server_side, do_handshake_on_connect, suppress_ragged_eofs, server_hostname, session)\u001b[0m\n\u001b[1;32m    405\u001b[0m                          \u001b[0msuppress_ragged_eofs\u001b[0m\u001b[0;34m=\u001b[0m\u001b[0msuppress_ragged_eofs\u001b[0m\u001b[0;34m,\u001b[0m\u001b[0;34m\u001b[0m\u001b[0;34m\u001b[0m\u001b[0m\n\u001b[1;32m    406\u001b[0m                          \u001b[0mserver_hostname\u001b[0m\u001b[0;34m=\u001b[0m\u001b[0mserver_hostname\u001b[0m\u001b[0;34m,\u001b[0m\u001b[0;34m\u001b[0m\u001b[0;34m\u001b[0m\u001b[0m\n\u001b[0;32m--> 407\u001b[0;31m                          _context=self, _session=session)\n\u001b[0m\u001b[1;32m    408\u001b[0m \u001b[0;34m\u001b[0m\u001b[0m\n\u001b[1;32m    409\u001b[0m     def wrap_bio(self, incoming, outgoing, server_side=False,\n",
            "\u001b[0;32m/usr/lib/python3.6/ssl.py\u001b[0m in \u001b[0;36m__init__\u001b[0;34m(self, sock, keyfile, certfile, server_side, cert_reqs, ssl_version, ca_certs, do_handshake_on_connect, family, type, proto, fileno, suppress_ragged_eofs, npn_protocols, ciphers, server_hostname, _context, _session)\u001b[0m\n\u001b[1;32m    815\u001b[0m                         \u001b[0;31m# non-blocking\u001b[0m\u001b[0;34m\u001b[0m\u001b[0;34m\u001b[0m\u001b[0;34m\u001b[0m\u001b[0m\n\u001b[1;32m    816\u001b[0m                         \u001b[0;32mraise\u001b[0m \u001b[0mValueError\u001b[0m\u001b[0;34m(\u001b[0m\u001b[0;34m\"do_handshake_on_connect should not be specified for non-blocking sockets\"\u001b[0m\u001b[0;34m)\u001b[0m\u001b[0;34m\u001b[0m\u001b[0;34m\u001b[0m\u001b[0m\n\u001b[0;32m--> 817\u001b[0;31m                     \u001b[0mself\u001b[0m\u001b[0;34m.\u001b[0m\u001b[0mdo_handshake\u001b[0m\u001b[0;34m(\u001b[0m\u001b[0;34m)\u001b[0m\u001b[0;34m\u001b[0m\u001b[0;34m\u001b[0m\u001b[0m\n\u001b[0m\u001b[1;32m    818\u001b[0m \u001b[0;34m\u001b[0m\u001b[0m\n\u001b[1;32m    819\u001b[0m             \u001b[0;32mexcept\u001b[0m \u001b[0;34m(\u001b[0m\u001b[0mOSError\u001b[0m\u001b[0;34m,\u001b[0m \u001b[0mValueError\u001b[0m\u001b[0;34m)\u001b[0m\u001b[0;34m:\u001b[0m\u001b[0;34m\u001b[0m\u001b[0;34m\u001b[0m\u001b[0m\n",
            "\u001b[0;32m/usr/lib/python3.6/ssl.py\u001b[0m in \u001b[0;36mdo_handshake\u001b[0;34m(self, block)\u001b[0m\n\u001b[1;32m   1075\u001b[0m             \u001b[0;32mif\u001b[0m \u001b[0mtimeout\u001b[0m \u001b[0;34m==\u001b[0m \u001b[0;36m0.0\u001b[0m \u001b[0;32mand\u001b[0m \u001b[0mblock\u001b[0m\u001b[0;34m:\u001b[0m\u001b[0;34m\u001b[0m\u001b[0;34m\u001b[0m\u001b[0m\n\u001b[1;32m   1076\u001b[0m                 \u001b[0mself\u001b[0m\u001b[0;34m.\u001b[0m\u001b[0msettimeout\u001b[0m\u001b[0;34m(\u001b[0m\u001b[0;32mNone\u001b[0m\u001b[0;34m)\u001b[0m\u001b[0;34m\u001b[0m\u001b[0;34m\u001b[0m\u001b[0m\n\u001b[0;32m-> 1077\u001b[0;31m             \u001b[0mself\u001b[0m\u001b[0;34m.\u001b[0m\u001b[0m_sslobj\u001b[0m\u001b[0;34m.\u001b[0m\u001b[0mdo_handshake\u001b[0m\u001b[0;34m(\u001b[0m\u001b[0;34m)\u001b[0m\u001b[0;34m\u001b[0m\u001b[0;34m\u001b[0m\u001b[0m\n\u001b[0m\u001b[1;32m   1078\u001b[0m         \u001b[0;32mfinally\u001b[0m\u001b[0;34m:\u001b[0m\u001b[0;34m\u001b[0m\u001b[0;34m\u001b[0m\u001b[0m\n\u001b[1;32m   1079\u001b[0m             \u001b[0mself\u001b[0m\u001b[0;34m.\u001b[0m\u001b[0msettimeout\u001b[0m\u001b[0;34m(\u001b[0m\u001b[0mtimeout\u001b[0m\u001b[0;34m)\u001b[0m\u001b[0;34m\u001b[0m\u001b[0;34m\u001b[0m\u001b[0m\n",
            "\u001b[0;32m/usr/lib/python3.6/ssl.py\u001b[0m in \u001b[0;36mdo_handshake\u001b[0;34m(self)\u001b[0m\n\u001b[1;32m    687\u001b[0m     \u001b[0;32mdef\u001b[0m \u001b[0mdo_handshake\u001b[0m\u001b[0;34m(\u001b[0m\u001b[0mself\u001b[0m\u001b[0;34m)\u001b[0m\u001b[0;34m:\u001b[0m\u001b[0;34m\u001b[0m\u001b[0;34m\u001b[0m\u001b[0m\n\u001b[1;32m    688\u001b[0m         \u001b[0;34m\"\"\"Start the SSL/TLS handshake.\"\"\"\u001b[0m\u001b[0;34m\u001b[0m\u001b[0;34m\u001b[0m\u001b[0m\n\u001b[0;32m--> 689\u001b[0;31m         \u001b[0mself\u001b[0m\u001b[0;34m.\u001b[0m\u001b[0m_sslobj\u001b[0m\u001b[0;34m.\u001b[0m\u001b[0mdo_handshake\u001b[0m\u001b[0;34m(\u001b[0m\u001b[0;34m)\u001b[0m\u001b[0;34m\u001b[0m\u001b[0;34m\u001b[0m\u001b[0m\n\u001b[0m\u001b[1;32m    690\u001b[0m         \u001b[0;32mif\u001b[0m \u001b[0mself\u001b[0m\u001b[0;34m.\u001b[0m\u001b[0mcontext\u001b[0m\u001b[0;34m.\u001b[0m\u001b[0mcheck_hostname\u001b[0m\u001b[0;34m:\u001b[0m\u001b[0;34m\u001b[0m\u001b[0;34m\u001b[0m\u001b[0m\n\u001b[1;32m    691\u001b[0m             \u001b[0;32mif\u001b[0m \u001b[0;32mnot\u001b[0m \u001b[0mself\u001b[0m\u001b[0;34m.\u001b[0m\u001b[0mserver_hostname\u001b[0m\u001b[0;34m:\u001b[0m\u001b[0;34m\u001b[0m\u001b[0;34m\u001b[0m\u001b[0m\n",
            "\u001b[0;31mKeyboardInterrupt\u001b[0m: "
          ]
        }
      ]
    },
    {
      "cell_type": "code",
      "metadata": {
        "id": "IZzDSbYwRaHX",
        "colab_type": "code",
        "colab": {
          "base_uri": "https://localhost:8080/",
          "height": 725
        },
        "outputId": "5ebed5e0-aa87-466a-deff-95f7c6f0efd4"
      },
      "source": [
        "corpus = amazon['preprocessed_text'] \n",
        "vectorizer = CountVectorizer()\n",
        "x = vectorizer.fit_transform(corpus)"
      ],
      "execution_count": 36,
      "outputs": [
        {
          "output_type": "error",
          "ename": "KeyError",
          "evalue": "ignored",
          "traceback": [
            "\u001b[0;31m---------------------------------------------------------------------------\u001b[0m",
            "\u001b[0;31mKeyError\u001b[0m                                  Traceback (most recent call last)",
            "\u001b[0;32m/usr/local/lib/python3.6/dist-packages/pandas/core/indexes/base.py\u001b[0m in \u001b[0;36mget_loc\u001b[0;34m(self, key, method, tolerance)\u001b[0m\n\u001b[1;32m   2896\u001b[0m             \u001b[0;32mtry\u001b[0m\u001b[0;34m:\u001b[0m\u001b[0;34m\u001b[0m\u001b[0;34m\u001b[0m\u001b[0m\n\u001b[0;32m-> 2897\u001b[0;31m                 \u001b[0;32mreturn\u001b[0m \u001b[0mself\u001b[0m\u001b[0;34m.\u001b[0m\u001b[0m_engine\u001b[0m\u001b[0;34m.\u001b[0m\u001b[0mget_loc\u001b[0m\u001b[0;34m(\u001b[0m\u001b[0mkey\u001b[0m\u001b[0;34m)\u001b[0m\u001b[0;34m\u001b[0m\u001b[0;34m\u001b[0m\u001b[0m\n\u001b[0m\u001b[1;32m   2898\u001b[0m             \u001b[0;32mexcept\u001b[0m \u001b[0mKeyError\u001b[0m\u001b[0;34m:\u001b[0m\u001b[0;34m\u001b[0m\u001b[0;34m\u001b[0m\u001b[0m\n",
            "\u001b[0;32mpandas/_libs/index.pyx\u001b[0m in \u001b[0;36mpandas._libs.index.IndexEngine.get_loc\u001b[0;34m()\u001b[0m\n",
            "\u001b[0;32mpandas/_libs/index.pyx\u001b[0m in \u001b[0;36mpandas._libs.index.IndexEngine.get_loc\u001b[0;34m()\u001b[0m\n",
            "\u001b[0;32mpandas/_libs/hashtable_class_helper.pxi\u001b[0m in \u001b[0;36mpandas._libs.hashtable.PyObjectHashTable.get_item\u001b[0;34m()\u001b[0m\n",
            "\u001b[0;32mpandas/_libs/hashtable_class_helper.pxi\u001b[0m in \u001b[0;36mpandas._libs.hashtable.PyObjectHashTable.get_item\u001b[0;34m()\u001b[0m\n",
            "\u001b[0;31mKeyError\u001b[0m: 'preprocessed_text'",
            "\nDuring handling of the above exception, another exception occurred:\n",
            "\u001b[0;31mKeyError\u001b[0m                                  Traceback (most recent call last)",
            "\u001b[0;32m<ipython-input-36-15b8ad08286b>\u001b[0m in \u001b[0;36m<module>\u001b[0;34m()\u001b[0m\n\u001b[0;32m----> 1\u001b[0;31m \u001b[0mcorpus\u001b[0m \u001b[0;34m=\u001b[0m \u001b[0mamazon\u001b[0m\u001b[0;34m[\u001b[0m\u001b[0;34m'preprocessed_text'\u001b[0m\u001b[0;34m]\u001b[0m\u001b[0;34m\u001b[0m\u001b[0;34m\u001b[0m\u001b[0m\n\u001b[0m\u001b[1;32m      2\u001b[0m \u001b[0mvectorizer\u001b[0m \u001b[0;34m=\u001b[0m \u001b[0mCountVectorizer\u001b[0m\u001b[0;34m(\u001b[0m\u001b[0;34m)\u001b[0m\u001b[0;34m\u001b[0m\u001b[0;34m\u001b[0m\u001b[0m\n\u001b[1;32m      3\u001b[0m \u001b[0mx\u001b[0m \u001b[0;34m=\u001b[0m \u001b[0mvectorizer\u001b[0m\u001b[0;34m.\u001b[0m\u001b[0mfit_transform\u001b[0m\u001b[0;34m(\u001b[0m\u001b[0mcorpus\u001b[0m\u001b[0;34m)\u001b[0m\u001b[0;34m\u001b[0m\u001b[0;34m\u001b[0m\u001b[0m\n",
            "\u001b[0;32m/usr/local/lib/python3.6/dist-packages/pandas/core/frame.py\u001b[0m in \u001b[0;36m__getitem__\u001b[0;34m(self, key)\u001b[0m\n\u001b[1;32m   2993\u001b[0m             \u001b[0;32mif\u001b[0m \u001b[0mself\u001b[0m\u001b[0;34m.\u001b[0m\u001b[0mcolumns\u001b[0m\u001b[0;34m.\u001b[0m\u001b[0mnlevels\u001b[0m \u001b[0;34m>\u001b[0m \u001b[0;36m1\u001b[0m\u001b[0;34m:\u001b[0m\u001b[0;34m\u001b[0m\u001b[0;34m\u001b[0m\u001b[0m\n\u001b[1;32m   2994\u001b[0m                 \u001b[0;32mreturn\u001b[0m \u001b[0mself\u001b[0m\u001b[0;34m.\u001b[0m\u001b[0m_getitem_multilevel\u001b[0m\u001b[0;34m(\u001b[0m\u001b[0mkey\u001b[0m\u001b[0;34m)\u001b[0m\u001b[0;34m\u001b[0m\u001b[0;34m\u001b[0m\u001b[0m\n\u001b[0;32m-> 2995\u001b[0;31m             \u001b[0mindexer\u001b[0m \u001b[0;34m=\u001b[0m \u001b[0mself\u001b[0m\u001b[0;34m.\u001b[0m\u001b[0mcolumns\u001b[0m\u001b[0;34m.\u001b[0m\u001b[0mget_loc\u001b[0m\u001b[0;34m(\u001b[0m\u001b[0mkey\u001b[0m\u001b[0;34m)\u001b[0m\u001b[0;34m\u001b[0m\u001b[0;34m\u001b[0m\u001b[0m\n\u001b[0m\u001b[1;32m   2996\u001b[0m             \u001b[0;32mif\u001b[0m \u001b[0mis_integer\u001b[0m\u001b[0;34m(\u001b[0m\u001b[0mindexer\u001b[0m\u001b[0;34m)\u001b[0m\u001b[0;34m:\u001b[0m\u001b[0;34m\u001b[0m\u001b[0;34m\u001b[0m\u001b[0m\n\u001b[1;32m   2997\u001b[0m                 \u001b[0mindexer\u001b[0m \u001b[0;34m=\u001b[0m \u001b[0;34m[\u001b[0m\u001b[0mindexer\u001b[0m\u001b[0;34m]\u001b[0m\u001b[0;34m\u001b[0m\u001b[0;34m\u001b[0m\u001b[0m\n",
            "\u001b[0;32m/usr/local/lib/python3.6/dist-packages/pandas/core/indexes/base.py\u001b[0m in \u001b[0;36mget_loc\u001b[0;34m(self, key, method, tolerance)\u001b[0m\n\u001b[1;32m   2897\u001b[0m                 \u001b[0;32mreturn\u001b[0m \u001b[0mself\u001b[0m\u001b[0;34m.\u001b[0m\u001b[0m_engine\u001b[0m\u001b[0;34m.\u001b[0m\u001b[0mget_loc\u001b[0m\u001b[0;34m(\u001b[0m\u001b[0mkey\u001b[0m\u001b[0;34m)\u001b[0m\u001b[0;34m\u001b[0m\u001b[0;34m\u001b[0m\u001b[0m\n\u001b[1;32m   2898\u001b[0m             \u001b[0;32mexcept\u001b[0m \u001b[0mKeyError\u001b[0m\u001b[0;34m:\u001b[0m\u001b[0;34m\u001b[0m\u001b[0;34m\u001b[0m\u001b[0m\n\u001b[0;32m-> 2899\u001b[0;31m                 \u001b[0;32mreturn\u001b[0m \u001b[0mself\u001b[0m\u001b[0;34m.\u001b[0m\u001b[0m_engine\u001b[0m\u001b[0;34m.\u001b[0m\u001b[0mget_loc\u001b[0m\u001b[0;34m(\u001b[0m\u001b[0mself\u001b[0m\u001b[0;34m.\u001b[0m\u001b[0m_maybe_cast_indexer\u001b[0m\u001b[0;34m(\u001b[0m\u001b[0mkey\u001b[0m\u001b[0;34m)\u001b[0m\u001b[0;34m)\u001b[0m\u001b[0;34m\u001b[0m\u001b[0;34m\u001b[0m\u001b[0m\n\u001b[0m\u001b[1;32m   2900\u001b[0m         \u001b[0mindexer\u001b[0m \u001b[0;34m=\u001b[0m \u001b[0mself\u001b[0m\u001b[0;34m.\u001b[0m\u001b[0mget_indexer\u001b[0m\u001b[0;34m(\u001b[0m\u001b[0;34m[\u001b[0m\u001b[0mkey\u001b[0m\u001b[0;34m]\u001b[0m\u001b[0;34m,\u001b[0m \u001b[0mmethod\u001b[0m\u001b[0;34m=\u001b[0m\u001b[0mmethod\u001b[0m\u001b[0;34m,\u001b[0m \u001b[0mtolerance\u001b[0m\u001b[0;34m=\u001b[0m\u001b[0mtolerance\u001b[0m\u001b[0;34m)\u001b[0m\u001b[0;34m\u001b[0m\u001b[0;34m\u001b[0m\u001b[0m\n\u001b[1;32m   2901\u001b[0m         \u001b[0;32mif\u001b[0m \u001b[0mindexer\u001b[0m\u001b[0;34m.\u001b[0m\u001b[0mndim\u001b[0m \u001b[0;34m>\u001b[0m \u001b[0;36m1\u001b[0m \u001b[0;32mor\u001b[0m \u001b[0mindexer\u001b[0m\u001b[0;34m.\u001b[0m\u001b[0msize\u001b[0m \u001b[0;34m>\u001b[0m \u001b[0;36m1\u001b[0m\u001b[0;34m:\u001b[0m\u001b[0;34m\u001b[0m\u001b[0;34m\u001b[0m\u001b[0m\n",
            "\u001b[0;32mpandas/_libs/index.pyx\u001b[0m in \u001b[0;36mpandas._libs.index.IndexEngine.get_loc\u001b[0;34m()\u001b[0m\n",
            "\u001b[0;32mpandas/_libs/index.pyx\u001b[0m in \u001b[0;36mpandas._libs.index.IndexEngine.get_loc\u001b[0;34m()\u001b[0m\n",
            "\u001b[0;32mpandas/_libs/hashtable_class_helper.pxi\u001b[0m in \u001b[0;36mpandas._libs.hashtable.PyObjectHashTable.get_item\u001b[0;34m()\u001b[0m\n",
            "\u001b[0;32mpandas/_libs/hashtable_class_helper.pxi\u001b[0m in \u001b[0;36mpandas._libs.hashtable.PyObjectHashTable.get_item\u001b[0;34m()\u001b[0m\n",
            "\u001b[0;31mKeyError\u001b[0m: 'preprocessed_text'"
          ]
        }
      ]
    },
    {
      "cell_type": "code",
      "metadata": {
        "id": "lwUxcaNtRcrJ",
        "colab_type": "code",
        "colab": {}
      },
      "source": [
        "amazon_pred = rfc.predict(X)\n",
        "amazon_pred"
      ],
      "execution_count": 0,
      "outputs": []
    },
    {
      "cell_type": "code",
      "metadata": {
        "id": "4ibVej9YULoD",
        "colab_type": "code",
        "colab": {}
      },
      "source": [
        ""
      ],
      "execution_count": 0,
      "outputs": []
    }
  ]
}