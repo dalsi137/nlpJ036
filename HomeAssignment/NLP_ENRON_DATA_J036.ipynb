{
  "nbformat": 4,
  "nbformat_minor": 0,
  "metadata": {
    "colab": {
      "name": "NLP ENRON DATA J036.ipynb",
      "provenance": [],
      "include_colab_link": true
    },
    "kernelspec": {
      "name": "python3",
      "display_name": "Python 3"
    }
  },
  "cells": [
    {
      "cell_type": "markdown",
      "metadata": {
        "id": "view-in-github",
        "colab_type": "text"
      },
      "source": [
        "<a href=\"https://colab.research.google.com/github/dalsi137/nlpJ036/blob/master/HomeAssignment/NLP_ENRON_DATA_J036.ipynb\" target=\"_parent\"><img src=\"https://colab.research.google.com/assets/colab-badge.svg\" alt=\"Open In Colab\"/></a>"
      ]
    },
    {
      "cell_type": "code",
      "metadata": {
        "id": "TkVvI5RhpjK8",
        "colab_type": "code",
        "colab": {}
      },
      "source": [
        "import pandas as pd   \n",
        "import zipfile\n",
        "import numpy as np\n",
        "import regex as re\n",
        "import nltk\n",
        "from sklearn.decomposition import NMF,LatentDirichletAllocation \n",
        "from sklearn.feature_extraction.text import TfidfVectorizer\n",
        "from nltk.corpus import stopwords,wordnet\n",
        "from nltk.tokenize import word_tokenize\n",
        "from sklearn.model_selection import train_test_split as tts\n",
        "from sklearn.metrics import classification_report,accuracy_score,confusion_matrix\n",
        "from nltk.stem import WordNetLemmatizer"
      ],
      "execution_count": 0,
      "outputs": []
    },
    {
      "cell_type": "code",
      "metadata": {
        "id": "rcsnYjIQmay2",
        "colab_type": "code",
        "outputId": "7b6fea71-9275-4493-8b76-7a0ab91f7967",
        "colab": {
          "base_uri": "https://localhost:8080/",
          "height": 212
        }
      },
      "source": [
        "!pip install kaggle  "
      ],
      "execution_count": 2,
      "outputs": [
        {
          "output_type": "stream",
          "text": [
            "Requirement already satisfied: kaggle in /usr/local/lib/python3.6/dist-packages (1.5.6)\n",
            "Requirement already satisfied: certifi in /usr/local/lib/python3.6/dist-packages (from kaggle) (2019.11.28)\n",
            "Requirement already satisfied: python-slugify in /usr/local/lib/python3.6/dist-packages (from kaggle) (4.0.0)\n",
            "Requirement already satisfied: urllib3<1.25,>=1.21.1 in /usr/local/lib/python3.6/dist-packages (from kaggle) (1.24.3)\n",
            "Requirement already satisfied: requests in /usr/local/lib/python3.6/dist-packages (from kaggle) (2.21.0)\n",
            "Requirement already satisfied: tqdm in /usr/local/lib/python3.6/dist-packages (from kaggle) (4.28.1)\n",
            "Requirement already satisfied: python-dateutil in /usr/local/lib/python3.6/dist-packages (from kaggle) (2.6.1)\n",
            "Requirement already satisfied: six>=1.10 in /usr/local/lib/python3.6/dist-packages (from kaggle) (1.12.0)\n",
            "Requirement already satisfied: text-unidecode>=1.3 in /usr/local/lib/python3.6/dist-packages (from python-slugify->kaggle) (1.3)\n",
            "Requirement already satisfied: idna<2.9,>=2.5 in /usr/local/lib/python3.6/dist-packages (from requests->kaggle) (2.8)\n",
            "Requirement already satisfied: chardet<3.1.0,>=3.0.2 in /usr/local/lib/python3.6/dist-packages (from requests->kaggle) (3.0.4)\n"
          ],
          "name": "stdout"
        }
      ]
    },
    {
      "cell_type": "code",
      "metadata": {
        "id": "_8jW_AKymmg-",
        "colab_type": "code",
        "outputId": "86ba8066-baca-4d4d-ac15-fd3059f9970d",
        "colab": {
          "resources": {
            "http://localhost:8080/nbextensions/google.colab/files.js": {
              "data": "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",
              "ok": true,
              "headers": [
                [
                  "content-type",
                  "application/javascript"
                ]
              ],
              "status": 200,
              "status_text": ""
            }
          },
          "base_uri": "https://localhost:8080/",
          "height": 75
        }
      },
      "source": [
        "from google.colab import files  \n",
        "uploaded = files.upload()"
      ],
      "execution_count": 3,
      "outputs": [
        {
          "output_type": "display_data",
          "data": {
            "text/html": [
              "\n",
              "     <input type=\"file\" id=\"files-75eef9b0-d3f1-4b07-a08a-aa24a01fd52a\" name=\"files[]\" multiple disabled />\n",
              "     <output id=\"result-75eef9b0-d3f1-4b07-a08a-aa24a01fd52a\">\n",
              "      Upload widget is only available when the cell has been executed in the\n",
              "      current browser session. Please rerun this cell to enable.\n",
              "      </output>\n",
              "      <script src=\"/nbextensions/google.colab/files.js\"></script> "
            ],
            "text/plain": [
              "<IPython.core.display.HTML object>"
            ]
          },
          "metadata": {
            "tags": []
          }
        },
        {
          "output_type": "stream",
          "text": [
            "Saving kaggle.json to kaggle.json\n"
          ],
          "name": "stdout"
        }
      ]
    },
    {
      "cell_type": "code",
      "metadata": {
        "id": "F3BAZEiPmxuZ",
        "colab_type": "code",
        "outputId": "e6480a19-ec74-4441-95c7-1cca2717dd93",
        "colab": {
          "base_uri": "https://localhost:8080/",
          "height": 35
        }
      },
      "source": [
        "!mkdir -p ~/.kaggle\n",
        "!cp /content/kaggle.json ~/.kaggle/\n",
        "!chmod 600 ~/.kaggle/kaggle.json\n",
        "!ls ~/.kaggle"
      ],
      "execution_count": 4,
      "outputs": [
        {
          "output_type": "stream",
          "text": [
            "kaggle.json\n"
          ],
          "name": "stdout"
        }
      ]
    },
    {
      "cell_type": "code",
      "metadata": {
        "id": "Vu3WDPgFpLgc",
        "colab_type": "code",
        "outputId": "167d3ac9-f570-4548-fa35-4fda3c55b45a",
        "colab": {
          "base_uri": "https://localhost:8080/",
          "height": 70
        }
      },
      "source": [
        "!kaggle datasets download -d wcukierski/enron-email-dataset"
      ],
      "execution_count": 5,
      "outputs": [
        {
          "output_type": "stream",
          "text": [
            "Downloading enron-email-dataset.zip to /content\n",
            " 99% 353M/358M [00:03<00:00, 98.2MB/s]\n",
            "100% 358M/358M [00:03<00:00, 106MB/s] \n"
          ],
          "name": "stdout"
        }
      ]
    },
    {
      "cell_type": "code",
      "metadata": {
        "id": "gBfaEmcTpa16",
        "colab_type": "code",
        "outputId": "21f21ae3-a8f0-4a13-951b-58068fbb0b1f",
        "colab": {
          "base_uri": "https://localhost:8080/",
          "height": 35
        }
      },
      "source": [
        "datafolder = zipfile.ZipFile('/content/enron-email-dataset.zip')  \n",
        "datafolder.filelist"
      ],
      "execution_count": 6,
      "outputs": [
        {
          "output_type": "execute_result",
          "data": {
            "text/plain": [
              "[<ZipInfo filename='emails.csv' compress_type=deflate file_size=1426122219 compress_size=375294799>]"
            ]
          },
          "metadata": {
            "tags": []
          },
          "execution_count": 6
        }
      ]
    },
    {
      "cell_type": "code",
      "metadata": {
        "id": "VPOEsr4aphQe",
        "colab_type": "code",
        "colab": {}
      },
      "source": [
        "lem = WordNetLemmatizer()   \n",
        "vect = TfidfVectorizer()\n",
        "lda = LatentDirichletAllocation(n_components=5, random_state=0)"
      ],
      "execution_count": 0,
      "outputs": []
    },
    {
      "cell_type": "code",
      "metadata": {
        "id": "FqmEVk0Ppwom",
        "colab_type": "code",
        "outputId": "db7e4a85-36b2-481a-cf4d-5d9c9729a33a",
        "colab": {
          "base_uri": "https://localhost:8080/",
          "height": 195
        }
      },
      "source": [
        "nltk.download('punkt')   \n",
        "nltk.download('stopwords')\n",
        "nltk.download('averaged_perceptron_tagger')\n",
        "nltk.download('wordnet')"
      ],
      "execution_count": 8,
      "outputs": [
        {
          "output_type": "stream",
          "text": [
            "[nltk_data] Downloading package punkt to /root/nltk_data...\n",
            "[nltk_data]   Unzipping tokenizers/punkt.zip.\n",
            "[nltk_data] Downloading package stopwords to /root/nltk_data...\n",
            "[nltk_data]   Unzipping corpora/stopwords.zip.\n",
            "[nltk_data] Downloading package averaged_perceptron_tagger to\n",
            "[nltk_data]     /root/nltk_data...\n",
            "[nltk_data]   Unzipping taggers/averaged_perceptron_tagger.zip.\n",
            "[nltk_data] Downloading package wordnet to /root/nltk_data...\n",
            "[nltk_data]   Unzipping corpora/wordnet.zip.\n"
          ],
          "name": "stdout"
        },
        {
          "output_type": "execute_result",
          "data": {
            "text/plain": [
              "True"
            ]
          },
          "metadata": {
            "tags": []
          },
          "execution_count": 8
        }
      ]
    },
    {
      "cell_type": "code",
      "metadata": {
        "id": "Y9PYuS1EpwtO",
        "colab_type": "code",
        "colab": {}
      },
      "source": [
        "stopword = set(stopwords.words('english'))"
      ],
      "execution_count": 0,
      "outputs": []
    },
    {
      "cell_type": "code",
      "metadata": {
        "id": "zXVsAOs2pwxv",
        "colab_type": "code",
        "colab": {}
      },
      "source": [
        "df = pd.read_csv(datafolder.open('emails.csv'),header=0)  "
      ],
      "execution_count": 0,
      "outputs": []
    },
    {
      "cell_type": "code",
      "metadata": {
        "id": "vtymWSrZpw2r",
        "colab_type": "code",
        "colab": {}
      },
      "source": [
        "def get_wordnet_pos(word): \n",
        "    tag = nltk.pos_tag([word])[0][1][0].upper()\n",
        "    tag_dict = {\"J\": wordnet.ADJ,\n",
        "                \"N\": wordnet.NOUN,\n",
        "                \"V\": wordnet.VERB,\n",
        "                \"R\": wordnet.ADV}\n",
        "    return tag_dict.get(tag, wordnet.NOUN)"
      ],
      "execution_count": 0,
      "outputs": []
    },
    {
      "cell_type": "code",
      "metadata": {
        "id": "y299q8svpww-",
        "colab_type": "code",
        "colab": {}
      },
      "source": [
        "def pipeline(text):    \n",
        "  text = text.rstrip()\n",
        "  stop_free = ' '.join([word for word in text.lower().split() if ((word not in stopword))])\n",
        "  punc_free=re.sub('[^a-zA-Z]', \" \", str(stop_free))\n",
        "  text = ' '.join(lem.lemmatize(word, get_wordnet_pos(word)) for word in nltk.word_tokenize(punc_free))\n",
        "  return text"
      ],
      "execution_count": 0,
      "outputs": []
    },
    {
      "cell_type": "code",
      "metadata": {
        "id": "9Scpz39fpwsn",
        "colab_type": "code",
        "colab": {}
      },
      "source": [
        "data = df[:100]"
      ],
      "execution_count": 0,
      "outputs": []
    },
    {
      "cell_type": "code",
      "metadata": {
        "id": "GmGe7ayxpwns",
        "colab_type": "code",
        "outputId": "86fc4242-7ed4-4f57-f698-dfab11054819",
        "colab": {
          "base_uri": "https://localhost:8080/",
          "height": 230
        }
      },
      "source": [
        "data['file_pipeline'] = data['file'].apply(pipeline)\n",
        "data['message_pipeline'] = data['message'].apply(pipeline)"
      ],
      "execution_count": 14,
      "outputs": [
        {
          "output_type": "stream",
          "text": [
            "/usr/local/lib/python3.6/dist-packages/ipykernel_launcher.py:1: SettingWithCopyWarning: \n",
            "A value is trying to be set on a copy of a slice from a DataFrame.\n",
            "Try using .loc[row_indexer,col_indexer] = value instead\n",
            "\n",
            "See the caveats in the documentation: http://pandas.pydata.org/pandas-docs/stable/user_guide/indexing.html#returning-a-view-versus-a-copy\n",
            "  \"\"\"Entry point for launching an IPython kernel.\n",
            "/usr/local/lib/python3.6/dist-packages/ipykernel_launcher.py:2: SettingWithCopyWarning: \n",
            "A value is trying to be set on a copy of a slice from a DataFrame.\n",
            "Try using .loc[row_indexer,col_indexer] = value instead\n",
            "\n",
            "See the caveats in the documentation: http://pandas.pydata.org/pandas-docs/stable/user_guide/indexing.html#returning-a-view-versus-a-copy\n",
            "  \n"
          ],
          "name": "stderr"
        }
      ]
    },
    {
      "cell_type": "code",
      "metadata": {
        "id": "HjO4gR_WqKEI",
        "colab_type": "code",
        "colab": {}
      },
      "source": [
        "model = vect.fit_transform(data['message_pipeline'])"
      ],
      "execution_count": 0,
      "outputs": []
    },
    {
      "cell_type": "code",
      "metadata": {
        "id": "gkXkUqj7qKJ8",
        "colab_type": "code",
        "colab": {}
      },
      "source": [
        "model = pd.DataFrame(model.toarray(), columns=vect.get_feature_names())"
      ],
      "execution_count": 0,
      "outputs": []
    },
    {
      "cell_type": "code",
      "metadata": {
        "id": "auprHAx0qKPY",
        "colab_type": "code",
        "colab": {}
      },
      "source": [
        "nmf_model = NMF(n_components=4, init='nndsvd', random_state=0)"
      ],
      "execution_count": 0,
      "outputs": []
    },
    {
      "cell_type": "code",
      "metadata": {
        "id": "gTgOYGx0qKOw",
        "colab_type": "code",
        "outputId": "ad1091e9-b583-4204-99b3-5e1528595899",
        "colab": {
          "base_uri": "https://localhost:8080/",
          "height": 1000
        }
      },
      "source": [
        "W = nmf_model.fit_transform(model)\n",
        "print(W)"
      ],
      "execution_count": 18,
      "outputs": [
        {
          "output_type": "stream",
          "text": [
            "[[2.08929169e-01 5.76704702e-03 0.00000000e+00 0.00000000e+00]\n",
            " [1.11168460e-01 3.81965253e-02 6.83563801e-02 0.00000000e+00]\n",
            " [2.17374614e-01 0.00000000e+00 0.00000000e+00 0.00000000e+00]\n",
            " [2.09420408e-01 0.00000000e+00 9.01437583e-03 0.00000000e+00]\n",
            " [2.66301081e-01 0.00000000e+00 0.00000000e+00 0.00000000e+00]\n",
            " [2.48419786e-01 0.00000000e+00 0.00000000e+00 0.00000000e+00]\n",
            " [2.52461547e-01 2.38705103e-02 0.00000000e+00 0.00000000e+00]\n",
            " [2.23507998e-01 0.00000000e+00 0.00000000e+00 0.00000000e+00]\n",
            " [1.76078781e-01 1.01390498e-02 0.00000000e+00 8.66425374e-02]\n",
            " [4.04256517e-02 3.86029262e-02 8.86294019e-02 1.92910786e-01]\n",
            " [1.40774562e-01 9.78846359e-03 9.72176142e-03 9.69280442e-02]\n",
            " [1.63747541e-01 0.00000000e+00 0.00000000e+00 0.00000000e+00]\n",
            " [0.00000000e+00 1.99837333e-01 9.52341359e-02 1.92269124e-01]\n",
            " [0.00000000e+00 1.99837333e-01 9.52341359e-02 1.92269124e-01]\n",
            " [2.23398954e-01 0.00000000e+00 0.00000000e+00 0.00000000e+00]\n",
            " [2.15026410e-01 0.00000000e+00 0.00000000e+00 0.00000000e+00]\n",
            " [2.31968394e-02 5.04597464e-01 0.00000000e+00 0.00000000e+00]\n",
            " [1.81795845e-01 7.57968758e-03 0.00000000e+00 0.00000000e+00]\n",
            " [7.16003373e-02 1.76111077e-02 3.29848937e-01 2.64849178e-02]\n",
            " [1.11941694e-01 2.70984503e-01 0.00000000e+00 1.00705716e-02]\n",
            " [2.67687963e-01 0.00000000e+00 7.90673579e-03 0.00000000e+00]\n",
            " [2.10310756e-01 0.00000000e+00 0.00000000e+00 0.00000000e+00]\n",
            " [2.40093604e-01 0.00000000e+00 8.44938870e-03 0.00000000e+00]\n",
            " [0.00000000e+00 5.19672434e-03 0.00000000e+00 7.46244778e-01]\n",
            " [0.00000000e+00 0.00000000e+00 0.00000000e+00 7.40940467e-01]\n",
            " [0.00000000e+00 0.00000000e+00 4.48885252e-01 0.00000000e+00]\n",
            " [0.00000000e+00 0.00000000e+00 4.49729299e-01 0.00000000e+00]\n",
            " [0.00000000e+00 5.63015451e-01 0.00000000e+00 0.00000000e+00]\n",
            " [1.50732639e-01 0.00000000e+00 5.06443610e-02 0.00000000e+00]\n",
            " [2.33960801e-01 6.08768228e-02 0.00000000e+00 1.60753039e-02]\n",
            " [4.58023437e-02 5.36390560e-01 0.00000000e+00 0.00000000e+00]\n",
            " [3.51686465e-02 5.48959144e-01 0.00000000e+00 4.23750933e-02]\n",
            " [1.16969763e-01 1.75187472e-02 9.82083755e-02 0.00000000e+00]\n",
            " [2.26509990e-01 0.00000000e+00 0.00000000e+00 0.00000000e+00]\n",
            " [0.00000000e+00 5.19956367e-01 0.00000000e+00 0.00000000e+00]\n",
            " [6.18015808e-02 5.35812205e-01 0.00000000e+00 0.00000000e+00]\n",
            " [2.54954731e-01 0.00000000e+00 0.00000000e+00 0.00000000e+00]\n",
            " [1.81495569e-01 5.81946962e-03 0.00000000e+00 7.04519731e-02]\n",
            " [2.18470373e-01 1.07004232e-02 0.00000000e+00 5.06107593e-03]\n",
            " [1.76825095e-01 3.27660190e-02 6.57037237e-03 4.53870842e-03]\n",
            " [3.55007810e-02 0.00000000e+00 3.55390018e-01 0.00000000e+00]\n",
            " [1.65577455e-02 3.28835234e-03 6.21374200e-01 0.00000000e+00]\n",
            " [1.25215520e-01 0.00000000e+00 1.88250955e-01 4.04328042e-02]\n",
            " [3.03210736e-01 0.00000000e+00 0.00000000e+00 0.00000000e+00]\n",
            " [2.08334643e-01 0.00000000e+00 8.07021957e-02 0.00000000e+00]\n",
            " [2.58770959e-01 0.00000000e+00 0.00000000e+00 0.00000000e+00]\n",
            " [1.96102693e-01 0.00000000e+00 3.46711205e-02 0.00000000e+00]\n",
            " [1.18540808e-01 6.23595917e-03 5.37055478e-02 0.00000000e+00]\n",
            " [1.52208789e-01 1.57363813e-01 0.00000000e+00 4.12976187e-02]\n",
            " [2.77854254e-01 0.00000000e+00 0.00000000e+00 0.00000000e+00]\n",
            " [9.52640065e-02 1.44134581e-01 1.23954587e-02 0.00000000e+00]\n",
            " [1.21447011e-02 7.13401262e-03 6.20594592e-01 0.00000000e+00]\n",
            " [1.82726240e-01 0.00000000e+00 7.82478270e-02 5.79889077e-03]\n",
            " [9.61930564e-02 0.00000000e+00 0.00000000e+00 3.88330878e-01]\n",
            " [1.77445660e-01 7.36821294e-03 0.00000000e+00 1.28543508e-02]\n",
            " [1.64618316e-01 3.25347899e-04 1.11125218e-01 0.00000000e+00]\n",
            " [9.41584327e-02 1.81540217e-02 2.98496942e-01 7.21673930e-03]\n",
            " [1.64389344e-02 3.15214749e-03 6.21378636e-01 0.00000000e+00]\n",
            " [2.12714117e-01 3.64190364e-02 1.64592473e-02 0.00000000e+00]\n",
            " [8.40030020e-02 4.57058051e-02 2.96122447e-02 3.76665916e-03]\n",
            " [1.11559138e-01 0.00000000e+00 1.68543275e-01 0.00000000e+00]\n",
            " [2.36775999e-02 3.01315851e-01 0.00000000e+00 0.00000000e+00]\n",
            " [2.59601733e-01 9.15501442e-02 0.00000000e+00 0.00000000e+00]\n",
            " [0.00000000e+00 2.82377913e-01 7.96137330e-02 1.93450800e-02]\n",
            " [2.12940605e-01 2.28638902e-01 0.00000000e+00 0.00000000e+00]\n",
            " [3.21773531e-01 0.00000000e+00 0.00000000e+00 0.00000000e+00]\n",
            " [1.33184135e-01 4.69573066e-02 4.74989957e-02 0.00000000e+00]\n",
            " [1.90630670e-01 5.59058060e-02 0.00000000e+00 4.02701541e-01]\n",
            " [1.95820410e-01 2.05403861e-01 0.00000000e+00 0.00000000e+00]\n",
            " [1.73928537e-01 9.95104646e-03 0.00000000e+00 5.31810605e-02]\n",
            " [1.97076471e-01 1.27502011e-03 0.00000000e+00 0.00000000e+00]\n",
            " [1.55337422e-01 5.90793629e-02 4.73851647e-02 0.00000000e+00]\n",
            " [2.49941372e-02 3.19974114e-01 0.00000000e+00 0.00000000e+00]\n",
            " [2.22498551e-01 3.21264705e-02 0.00000000e+00 0.00000000e+00]\n",
            " [2.31466180e-01 6.48593119e-02 0.00000000e+00 3.59799618e-01]\n",
            " [2.16813447e-01 0.00000000e+00 0.00000000e+00 0.00000000e+00]\n",
            " [2.30411879e-01 1.48611156e-02 0.00000000e+00 0.00000000e+00]\n",
            " [1.91903592e-01 0.00000000e+00 0.00000000e+00 4.70954257e-01]\n",
            " [1.85709440e-01 0.00000000e+00 0.00000000e+00 3.66291316e-01]\n",
            " [2.96991264e-01 0.00000000e+00 0.00000000e+00 0.00000000e+00]\n",
            " [1.47947649e-02 4.51845677e-01 0.00000000e+00 0.00000000e+00]\n",
            " [7.56130634e-02 0.00000000e+00 6.04676137e-03 1.64148681e-01]\n",
            " [5.56331374e-03 0.00000000e+00 0.00000000e+00 5.80209647e-01]\n",
            " [1.52562354e-01 9.89854221e-02 0.00000000e+00 0.00000000e+00]\n",
            " [1.83692362e-01 1.83888154e-02 3.90957346e-02 0.00000000e+00]\n",
            " [2.12973434e-01 7.79363513e-03 0.00000000e+00 0.00000000e+00]\n",
            " [1.45307258e-01 3.80180497e-02 1.90273535e-02 0.00000000e+00]\n",
            " [1.99554405e-01 0.00000000e+00 0.00000000e+00 0.00000000e+00]\n",
            " [1.10017314e-01 0.00000000e+00 2.09986571e-02 1.34250609e-02]\n",
            " [2.97661843e-01 0.00000000e+00 0.00000000e+00 0.00000000e+00]\n",
            " [2.68429321e-01 4.81662949e-02 1.15398378e-02 0.00000000e+00]\n",
            " [2.39382152e-01 0.00000000e+00 0.00000000e+00 0.00000000e+00]\n",
            " [2.79995917e-01 0.00000000e+00 1.53707389e-02 0.00000000e+00]\n",
            " [1.98955681e-01 0.00000000e+00 3.05410023e-02 6.88013260e-03]\n",
            " [7.64630861e-02 2.58979009e-01 1.39674962e-02 5.98697842e-03]\n",
            " [7.60611728e-02 2.35475410e-03 5.47384184e-02 1.56116457e-01]\n",
            " [1.91018903e-01 3.08979715e-02 3.18045168e-02 0.00000000e+00]\n",
            " [1.91415889e-01 3.29479552e-02 1.36101263e-02 3.92714294e-03]\n",
            " [2.12770916e-01 3.60391996e-02 3.65155215e-02 0.00000000e+00]\n",
            " [1.42424277e-01 3.99673891e-03 1.71701257e-02 5.73671027e-02]]\n"
          ],
          "name": "stdout"
        }
      ]
    },
    {
      "cell_type": "code",
      "metadata": {
        "id": "-V6x6ni_qKJX",
        "colab_type": "code",
        "outputId": "5ef5e81f-34ed-4ac0-fb88-63c87adc3112",
        "colab": {
          "base_uri": "https://localhost:8080/",
          "height": 88
        }
      },
      "source": [
        "H = nmf_model.components_\n",
        "print(H)"
      ],
      "execution_count": 19,
      "outputs": [
        {
          "output_type": "stream",
          "text": [
            "[[0.         0.00213423 0.         ... 0.         0.         0.00144943]\n",
            " [0.02467442 0.00078329 0.         ... 0.         0.00231798 0.        ]\n",
            " [0.03550698 0.02590678 0.03549846 ... 0.03740361 0.00072485 0.01295388]\n",
            " [0.02275509 0.05077378 0.00794782 ... 0.         0.         0.        ]]\n"
          ],
          "name": "stdout"
        }
      ]
    },
    {
      "cell_type": "code",
      "metadata": {
        "id": "ad0fc3deqKDS",
        "colab_type": "code",
        "colab": {}
      },
      "source": [
        "def display_topics(H, W, feature_names, documents, no_top_words, no_top_documents):\n",
        "    for topic_idx, topic in enumerate(H):\n",
        "        print(\"Topic %d:\" % (topic_idx))\n",
        "        print(\" \".join([feature_names[i]\n",
        "                        for i in topic.argsort()[:-no_top_words - 1:-1]]))\n",
        "        top_doc_indices = np.argsort( W[:,topic_idx] )[::-1][0:no_top_documents]\n",
        "        for doc_index in top_doc_indices:\n",
        "            print(documents[doc_index])"
      ],
      "execution_count": 0,
      "outputs": []
    },
    {
      "cell_type": "code",
      "metadata": {
        "id": "96dFwyzmqf-k",
        "colab_type": "code",
        "outputId": "99f0fc5e-9407-4a97-e4eb-ccb0acc7e90c",
        "colab": {
          "base_uri": "https://localhost:8080/",
          "height": 141
        }
      },
      "source": [
        "lda.fit(model)   "
      ],
      "execution_count": 23,
      "outputs": [
        {
          "output_type": "execute_result",
          "data": {
            "text/plain": [
              "LatentDirichletAllocation(batch_size=128, doc_topic_prior=None,\n",
              "                          evaluate_every=-1, learning_decay=0.7,\n",
              "                          learning_method='batch', learning_offset=10.0,\n",
              "                          max_doc_update_iter=100, max_iter=10,\n",
              "                          mean_change_tol=0.001, n_components=5, n_jobs=None,\n",
              "                          perp_tol=0.1, random_state=0, topic_word_prior=None,\n",
              "                          total_samples=1000000.0, verbose=0)"
            ]
          },
          "metadata": {
            "tags": []
          },
          "execution_count": 23
        }
      ]
    },
    {
      "cell_type": "code",
      "metadata": {
        "id": "dvHNy3FDqf9w",
        "colab_type": "code",
        "outputId": "8fb8bea7-4b2a-49f3-ad86-2f9ad1fdbe47",
        "colab": {
          "base_uri": "https://localhost:8080/",
          "height": 195
        }
      },
      "source": [
        "lda.components_"
      ],
      "execution_count": 26,
      "outputs": [
        {
          "output_type": "execute_result",
          "data": {
            "text/plain": [
              "array([[0.20003215, 0.20003424, 0.31409973, ..., 0.32103956, 0.20000758,\n",
              "        0.20001766],\n",
              "       [0.22219271, 0.50462095, 0.2119271 , ..., 0.20198485, 0.2033532 ,\n",
              "        0.20531643],\n",
              "       [0.20003262, 0.20003478, 0.20003099, ..., 0.20000773, 0.20000778,\n",
              "        0.20001726],\n",
              "       [0.27817928, 0.3225747 , 0.32723095, ..., 0.20000724, 0.21831234,\n",
              "        0.20001622],\n",
              "       [0.6594826 , 0.22699222, 0.20003002, ..., 0.2000073 , 0.20000751,\n",
              "        0.28479743]])"
            ]
          },
          "metadata": {
            "tags": []
          },
          "execution_count": 26
        }
      ]
    },
    {
      "cell_type": "code",
      "metadata": {
        "id": "GS4TuDQQqzs-",
        "colab_type": "code",
        "colab": {}
      },
      "source": [
        ""
      ],
      "execution_count": 0,
      "outputs": []
    }
  ]
}