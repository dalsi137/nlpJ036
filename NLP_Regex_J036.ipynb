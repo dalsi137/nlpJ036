{
  "nbformat": 4,
  "nbformat_minor": 0,
  "metadata": {
    "colab": {
      "name": "NLP Regex J036.ipynb",
      "provenance": [],
      "include_colab_link": true
    },
    "kernelspec": {
      "name": "python3",
      "display_name": "Python 3"
    }
  },
  "cells": [
    {
      "cell_type": "markdown",
      "metadata": {
        "id": "view-in-github",
        "colab_type": "text"
      },
      "source": [
        "<a href=\"https://colab.research.google.com/github/dalsi137/nlpJ036/blob/master/NLP_Regex_J036.ipynb\" target=\"_parent\"><img src=\"https://colab.research.google.com/assets/colab-badge.svg\" alt=\"Open In Colab\"/></a>"
      ]
    },
    {
      "cell_type": "code",
      "metadata": {
        "id": "Rq9C-0k3zVrr",
        "colab_type": "code",
        "colab": {}
      },
      "source": [
        "import re"
      ],
      "execution_count": 0,
      "outputs": []
    },
    {
      "cell_type": "code",
      "metadata": {
        "id": "tZtlbpD6zj0m",
        "colab_type": "code",
        "colab": {}
      },
      "source": [
        "stringr = 'alpha beta dumes dalsipatel9@yahoo.come.du.in aumpatel@gmail.com'"
      ],
      "execution_count": 0,
      "outputs": []
    },
    {
      "cell_type": "code",
      "metadata": {
        "id": "tXp90dWb1z81",
        "colab_type": "code",
        "colab": {}
      },
      "source": [
        "pattern = r'[\\w.]+@+[\\w+.]*'"
      ],
      "execution_count": 0,
      "outputs": []
    },
    {
      "cell_type": "code",
      "metadata": {
        "id": "LCa4TCV1zv_i",
        "colab_type": "code",
        "outputId": "41d70056-084d-4053-b8e0-33d5cf285b1d",
        "colab": {
          "base_uri": "https://localhost:8080/",
          "height": 35
        }
      },
      "source": [
        "re.findall(pattern,stringr)"
      ],
      "execution_count": 19,
      "outputs": [
        {
          "output_type": "execute_result",
          "data": {
            "text/plain": [
              "['dalsipatel9@yahoo.come.du.in', 'aumpatel@gmail.com']"
            ]
          },
          "metadata": {
            "tags": []
          },
          "execution_count": 19
        }
      ]
    },
    {
      "cell_type": "code",
      "metadata": {
        "id": "PFduVznc25es",
        "colab_type": "code",
        "colab": {}
      },
      "source": [
        "patternnum = r'\\b\\d{10}\\b'"
      ],
      "execution_count": 0,
      "outputs": []
    },
    {
      "cell_type": "code",
      "metadata": {
        "id": "AZy5bb2j4I2_",
        "colab_type": "code",
        "outputId": "fb54ee24-c2ad-4115-89fe-4b3ab1bbbb2e",
        "colab": {
          "base_uri": "https://localhost:8080/",
          "height": 35
        }
      },
      "source": [
        "re.findall(patternnum,'bhgf&**091349799880198alpha4 9876352431 9876')"
      ],
      "execution_count": 21,
      "outputs": [
        {
          "output_type": "execute_result",
          "data": {
            "text/plain": [
              "['9876352431']"
            ]
          },
          "metadata": {
            "tags": []
          },
          "execution_count": 21
        }
      ]
    },
    {
      "cell_type": "code",
      "metadata": {
        "id": "WPDeOabX4R12",
        "colab_type": "code",
        "colab": {}
      },
      "source": [
        ""
      ],
      "execution_count": 0,
      "outputs": []
    }
  ]
}